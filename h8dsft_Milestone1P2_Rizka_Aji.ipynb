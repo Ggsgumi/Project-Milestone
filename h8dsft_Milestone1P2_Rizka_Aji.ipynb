{
  "nbformat": 4,
  "nbformat_minor": 0,
  "metadata": {
    "colab": {
      "name": "h8dsft_Milestone1P2_Rizka Aji.ipynb",
      "provenance": [],
      "collapsed_sections": []
    },
    "kernelspec": {
      "display_name": "Python 3",
      "name": "python3"
    },
    "language_info": {
      "name": "python"
    }
  },
  "cells": [
    {
      "cell_type": "markdown",
      "metadata": {
        "id": "s_gMGq5Cwusw"
      },
      "source": [
        "# About Dataset\n",
        "Description\n",
        "Context\n",
        "\"Predict behavior to retain customers. You can analyze all relevant customer data and develop focused customer retention programs.\"\n",
        "\n",
        "The data set includes information about:\n",
        "\n",
        "Customers who left within the last month – the column is called Churn\n",
        "Services that each customer has signed up for – phone, multiple lines, internet, online security, online backup, device protection, tech support, and streaming TV and movies\n",
        "Customer account information – how long they’ve been a customer, contract, payment method, paperless billing, monthly charges, and total charges\n",
        "Demographic info about customers – gender, age range, and if they have partners and dependents\n",
        "\n",
        "> Features:\n",
        "\n",
        "> Customer Info:\n",
        "* customerID : Customer ID\n",
        "* gender : Whether the customer is a male or a female\n",
        "* SeniorCitizen : Whether the customer is a senior citizen or not (1, 0)\n",
        "* Partner : Whether the customer has a partner or not (Yes, No)\n",
        "* Dependents : Whether the customer has dependents or not (Yes, No)\n",
        "\n",
        "> Customer Internet:\n",
        "* PhoneService : Whether the customer has a phone service or not (Yes, No)\n",
        "* MultipleLines : Whether the customer has multiple lines or not (Yes, No, No phone service)\n",
        "* InternetService : Customer’s internet service provider (DSL, Fiber optic, No)\n",
        "* OnlineSecurity : Whether the customer has online security or not (Yes, No, No internet service)\n",
        "* OnlineBackup : Whether the customer has online backup or not (Yes, No, No internet service)\n",
        "* DeviceProtection : Whether the customer has device protection or not (Yes, No, No internet service)\n",
        "* TechSupport : Whether the customer has tech support or not (Yes, No, No internet service)\n",
        "* StreamingTV : Whether the customer has streaming TV or not (Yes, No, No internet service)\n",
        "* StreamingMovies : Whether the customer has streaming movies or not (Yes, No, No internet service)\n",
        "\n",
        "> Customer Payment /Contract:\n",
        "* tenure : Number of months the customer has stayed with the company\n",
        "* Contract : The contract term of the customer (Month-to-month, One year, Two year)\n",
        "* PaperlessBilling : Whether the customer has paperless billing or not (Yes, No)\n",
        "* PaymentMethod : The customer’s payment method (Electronic check, Mailed check, Bank transfer (automatic), Credit card (automatic))\n",
        "* MonthlyCharges : The amount charged to the customer monthly\n",
        "* TotalCharges : The total amount charged to the customer\n",
        "\n",
        "> Target:\n",
        "* Churn : Whether the customer churned or not (Yes or No)\n",
        "\n",
        "Dataset [download](https://www.kaggle.com/blastchar/telco-customer-churn?select=WA_Fn-UseC_-Telco-Customer-Churn.csv)"
      ]
    },
    {
      "cell_type": "markdown",
      "metadata": {
        "id": "MtrfcuyFwlE0"
      },
      "source": [
        "# Import Library"
      ]
    },
    {
      "cell_type": "code",
      "metadata": {
        "id": "ESuV757ucm4e"
      },
      "source": [
        "# import standar library\n",
        "import numpy as np\n",
        "import seaborn as sns\n",
        "import pandas as pd\n",
        "import matplotlib.pyplot as plt\n",
        "\n",
        "%matplotlib inline"
      ],
      "execution_count": 231,
      "outputs": []
    },
    {
      "cell_type": "markdown",
      "metadata": {
        "id": "WzReNpMISOcE"
      },
      "source": [
        "# Loading Dataset"
      ]
    },
    {
      "cell_type": "code",
      "metadata": {
        "id": "8hOrhFYE1wRD"
      },
      "source": [
        "# loading data menjadi df\n",
        "df = pd.read_csv('/content/WA_Fn-UseC_-Telco-Customer-Churn.csv')"
      ],
      "execution_count": 232,
      "outputs": []
    },
    {
      "cell_type": "code",
      "metadata": {
        "colab": {
          "base_uri": "https://localhost:8080/",
          "height": 213
        },
        "id": "eLN8CLMD18iR",
        "outputId": "84125e3e-1ec1-4dae-9bb4-b60b61000edd"
      },
      "source": [
        "# menampilkan dataset teratas\n",
        "df.head(3)"
      ],
      "execution_count": 233,
      "outputs": [
        {
          "output_type": "execute_result",
          "data": {
            "text/html": [
              "<div>\n",
              "<style scoped>\n",
              "    .dataframe tbody tr th:only-of-type {\n",
              "        vertical-align: middle;\n",
              "    }\n",
              "\n",
              "    .dataframe tbody tr th {\n",
              "        vertical-align: top;\n",
              "    }\n",
              "\n",
              "    .dataframe thead th {\n",
              "        text-align: right;\n",
              "    }\n",
              "</style>\n",
              "<table border=\"1\" class=\"dataframe\">\n",
              "  <thead>\n",
              "    <tr style=\"text-align: right;\">\n",
              "      <th></th>\n",
              "      <th>customerID</th>\n",
              "      <th>gender</th>\n",
              "      <th>SeniorCitizen</th>\n",
              "      <th>Partner</th>\n",
              "      <th>Dependents</th>\n",
              "      <th>tenure</th>\n",
              "      <th>PhoneService</th>\n",
              "      <th>MultipleLines</th>\n",
              "      <th>InternetService</th>\n",
              "      <th>OnlineSecurity</th>\n",
              "      <th>OnlineBackup</th>\n",
              "      <th>DeviceProtection</th>\n",
              "      <th>TechSupport</th>\n",
              "      <th>StreamingTV</th>\n",
              "      <th>StreamingMovies</th>\n",
              "      <th>Contract</th>\n",
              "      <th>PaperlessBilling</th>\n",
              "      <th>PaymentMethod</th>\n",
              "      <th>MonthlyCharges</th>\n",
              "      <th>TotalCharges</th>\n",
              "      <th>Churn</th>\n",
              "    </tr>\n",
              "  </thead>\n",
              "  <tbody>\n",
              "    <tr>\n",
              "      <th>0</th>\n",
              "      <td>7590-VHVEG</td>\n",
              "      <td>Female</td>\n",
              "      <td>0</td>\n",
              "      <td>Yes</td>\n",
              "      <td>No</td>\n",
              "      <td>1</td>\n",
              "      <td>No</td>\n",
              "      <td>No phone service</td>\n",
              "      <td>DSL</td>\n",
              "      <td>No</td>\n",
              "      <td>Yes</td>\n",
              "      <td>No</td>\n",
              "      <td>No</td>\n",
              "      <td>No</td>\n",
              "      <td>No</td>\n",
              "      <td>Month-to-month</td>\n",
              "      <td>Yes</td>\n",
              "      <td>Electronic check</td>\n",
              "      <td>29.85</td>\n",
              "      <td>29.85</td>\n",
              "      <td>No</td>\n",
              "    </tr>\n",
              "    <tr>\n",
              "      <th>1</th>\n",
              "      <td>5575-GNVDE</td>\n",
              "      <td>Male</td>\n",
              "      <td>0</td>\n",
              "      <td>No</td>\n",
              "      <td>No</td>\n",
              "      <td>34</td>\n",
              "      <td>Yes</td>\n",
              "      <td>No</td>\n",
              "      <td>DSL</td>\n",
              "      <td>Yes</td>\n",
              "      <td>No</td>\n",
              "      <td>Yes</td>\n",
              "      <td>No</td>\n",
              "      <td>No</td>\n",
              "      <td>No</td>\n",
              "      <td>One year</td>\n",
              "      <td>No</td>\n",
              "      <td>Mailed check</td>\n",
              "      <td>56.95</td>\n",
              "      <td>1889.5</td>\n",
              "      <td>No</td>\n",
              "    </tr>\n",
              "    <tr>\n",
              "      <th>2</th>\n",
              "      <td>3668-QPYBK</td>\n",
              "      <td>Male</td>\n",
              "      <td>0</td>\n",
              "      <td>No</td>\n",
              "      <td>No</td>\n",
              "      <td>2</td>\n",
              "      <td>Yes</td>\n",
              "      <td>No</td>\n",
              "      <td>DSL</td>\n",
              "      <td>Yes</td>\n",
              "      <td>Yes</td>\n",
              "      <td>No</td>\n",
              "      <td>No</td>\n",
              "      <td>No</td>\n",
              "      <td>No</td>\n",
              "      <td>Month-to-month</td>\n",
              "      <td>Yes</td>\n",
              "      <td>Mailed check</td>\n",
              "      <td>53.85</td>\n",
              "      <td>108.15</td>\n",
              "      <td>Yes</td>\n",
              "    </tr>\n",
              "  </tbody>\n",
              "</table>\n",
              "</div>"
            ],
            "text/plain": [
              "   customerID  gender  SeniorCitizen  ... MonthlyCharges TotalCharges  Churn\n",
              "0  7590-VHVEG  Female              0  ...          29.85        29.85     No\n",
              "1  5575-GNVDE    Male              0  ...          56.95       1889.5     No\n",
              "2  3668-QPYBK    Male              0  ...          53.85       108.15    Yes\n",
              "\n",
              "[3 rows x 21 columns]"
            ]
          },
          "metadata": {},
          "execution_count": 233
        }
      ]
    },
    {
      "cell_type": "code",
      "metadata": {
        "colab": {
          "base_uri": "https://localhost:8080/"
        },
        "id": "E0cUZIXZ1_6i",
        "outputId": "36853d77-5822-471e-8d18-cc8a72fdb1f4"
      },
      "source": [
        "# menunjukan banyaknya kolom dan baris\n",
        "df.shape"
      ],
      "execution_count": 234,
      "outputs": [
        {
          "output_type": "execute_result",
          "data": {
            "text/plain": [
              "(7043, 21)"
            ]
          },
          "metadata": {},
          "execution_count": 234
        }
      ]
    },
    {
      "cell_type": "code",
      "metadata": {
        "colab": {
          "base_uri": "https://localhost:8080/"
        },
        "id": "M9gSx7JIYiTy",
        "outputId": "a85de644-9c81-4d60-88b6-bd9bef4693de"
      },
      "source": [
        "#menampilkan nama kolom dari dataset\n",
        "df.columns"
      ],
      "execution_count": 235,
      "outputs": [
        {
          "output_type": "execute_result",
          "data": {
            "text/plain": [
              "Index(['customerID', 'gender', 'SeniorCitizen', 'Partner', 'Dependents',\n",
              "       'tenure', 'PhoneService', 'MultipleLines', 'InternetService',\n",
              "       'OnlineSecurity', 'OnlineBackup', 'DeviceProtection', 'TechSupport',\n",
              "       'StreamingTV', 'StreamingMovies', 'Contract', 'PaperlessBilling',\n",
              "       'PaymentMethod', 'MonthlyCharges', 'TotalCharges', 'Churn'],\n",
              "      dtype='object')"
            ]
          },
          "metadata": {},
          "execution_count": 235
        }
      ]
    },
    {
      "cell_type": "code",
      "metadata": {
        "colab": {
          "base_uri": "https://localhost:8080/"
        },
        "id": "kUF24RO4-U5g",
        "outputId": "8821411a-2425-43c7-e541-66055fd802d0"
      },
      "source": [
        "# menampilkan info dataset\n",
        "df.info()"
      ],
      "execution_count": 236,
      "outputs": [
        {
          "output_type": "stream",
          "text": [
            "<class 'pandas.core.frame.DataFrame'>\n",
            "RangeIndex: 7043 entries, 0 to 7042\n",
            "Data columns (total 21 columns):\n",
            " #   Column            Non-Null Count  Dtype  \n",
            "---  ------            --------------  -----  \n",
            " 0   customerID        7043 non-null   object \n",
            " 1   gender            7043 non-null   object \n",
            " 2   SeniorCitizen     7043 non-null   int64  \n",
            " 3   Partner           7043 non-null   object \n",
            " 4   Dependents        7043 non-null   object \n",
            " 5   tenure            7043 non-null   int64  \n",
            " 6   PhoneService      7043 non-null   object \n",
            " 7   MultipleLines     7043 non-null   object \n",
            " 8   InternetService   7043 non-null   object \n",
            " 9   OnlineSecurity    7043 non-null   object \n",
            " 10  OnlineBackup      7043 non-null   object \n",
            " 11  DeviceProtection  7043 non-null   object \n",
            " 12  TechSupport       7043 non-null   object \n",
            " 13  StreamingTV       7043 non-null   object \n",
            " 14  StreamingMovies   7043 non-null   object \n",
            " 15  Contract          7043 non-null   object \n",
            " 16  PaperlessBilling  7043 non-null   object \n",
            " 17  PaymentMethod     7043 non-null   object \n",
            " 18  MonthlyCharges    7043 non-null   float64\n",
            " 19  TotalCharges      7043 non-null   object \n",
            " 20  Churn             7043 non-null   object \n",
            "dtypes: float64(1), int64(2), object(18)\n",
            "memory usage: 1.1+ MB\n"
          ],
          "name": "stdout"
        }
      ]
    },
    {
      "cell_type": "code",
      "metadata": {
        "id": "JDGHgyW5BSAO"
      },
      "source": [
        "#mengubah string menjadi numerik\n",
        "df['TotalCharges'] = pd.to_numeric(df['TotalCharges'],errors='coerce')"
      ],
      "execution_count": 237,
      "outputs": []
    },
    {
      "cell_type": "code",
      "metadata": {
        "colab": {
          "base_uri": "https://localhost:8080/"
        },
        "id": "0cmiIvL62Dgx",
        "outputId": "05cc5aeb-fbc2-442a-c2aa-9e685ec1cd9a"
      },
      "source": [
        "# mencari apakah ada nan atau null value\n",
        "df.isnull().sum()"
      ],
      "execution_count": 238,
      "outputs": [
        {
          "output_type": "execute_result",
          "data": {
            "text/plain": [
              "customerID           0\n",
              "gender               0\n",
              "SeniorCitizen        0\n",
              "Partner              0\n",
              "Dependents           0\n",
              "tenure               0\n",
              "PhoneService         0\n",
              "MultipleLines        0\n",
              "InternetService      0\n",
              "OnlineSecurity       0\n",
              "OnlineBackup         0\n",
              "DeviceProtection     0\n",
              "TechSupport          0\n",
              "StreamingTV          0\n",
              "StreamingMovies      0\n",
              "Contract             0\n",
              "PaperlessBilling     0\n",
              "PaymentMethod        0\n",
              "MonthlyCharges       0\n",
              "TotalCharges        11\n",
              "Churn                0\n",
              "dtype: int64"
            ]
          },
          "metadata": {},
          "execution_count": 238
        }
      ]
    },
    {
      "cell_type": "code",
      "metadata": {
        "colab": {
          "base_uri": "https://localhost:8080/"
        },
        "id": "yWVIqxwnHz78",
        "outputId": "bda7e9bc-8cc7-4abf-b05d-dd860aab38ef"
      },
      "source": [
        "# melihat null value false true\n",
        "df.isna().any()"
      ],
      "execution_count": 239,
      "outputs": [
        {
          "output_type": "execute_result",
          "data": {
            "text/plain": [
              "customerID          False\n",
              "gender              False\n",
              "SeniorCitizen       False\n",
              "Partner             False\n",
              "Dependents          False\n",
              "tenure              False\n",
              "PhoneService        False\n",
              "MultipleLines       False\n",
              "InternetService     False\n",
              "OnlineSecurity      False\n",
              "OnlineBackup        False\n",
              "DeviceProtection    False\n",
              "TechSupport         False\n",
              "StreamingTV         False\n",
              "StreamingMovies     False\n",
              "Contract            False\n",
              "PaperlessBilling    False\n",
              "PaymentMethod       False\n",
              "MonthlyCharges      False\n",
              "TotalCharges         True\n",
              "Churn               False\n",
              "dtype: bool"
            ]
          },
          "metadata": {},
          "execution_count": 239
        }
      ]
    },
    {
      "cell_type": "code",
      "metadata": {
        "colab": {
          "base_uri": "https://localhost:8080/",
          "height": 297
        },
        "id": "m36LOwQs2MmZ",
        "outputId": "859a8f2f-fbf3-4acf-c78b-53bd3fcb68d3"
      },
      "source": [
        "# menampilkan deskripsi sederhana dataset numerical\n",
        "df.describe()"
      ],
      "execution_count": 240,
      "outputs": [
        {
          "output_type": "execute_result",
          "data": {
            "text/html": [
              "<div>\n",
              "<style scoped>\n",
              "    .dataframe tbody tr th:only-of-type {\n",
              "        vertical-align: middle;\n",
              "    }\n",
              "\n",
              "    .dataframe tbody tr th {\n",
              "        vertical-align: top;\n",
              "    }\n",
              "\n",
              "    .dataframe thead th {\n",
              "        text-align: right;\n",
              "    }\n",
              "</style>\n",
              "<table border=\"1\" class=\"dataframe\">\n",
              "  <thead>\n",
              "    <tr style=\"text-align: right;\">\n",
              "      <th></th>\n",
              "      <th>SeniorCitizen</th>\n",
              "      <th>tenure</th>\n",
              "      <th>MonthlyCharges</th>\n",
              "      <th>TotalCharges</th>\n",
              "    </tr>\n",
              "  </thead>\n",
              "  <tbody>\n",
              "    <tr>\n",
              "      <th>count</th>\n",
              "      <td>7043.000000</td>\n",
              "      <td>7043.000000</td>\n",
              "      <td>7043.000000</td>\n",
              "      <td>7032.000000</td>\n",
              "    </tr>\n",
              "    <tr>\n",
              "      <th>mean</th>\n",
              "      <td>0.162147</td>\n",
              "      <td>32.371149</td>\n",
              "      <td>64.761692</td>\n",
              "      <td>2283.300441</td>\n",
              "    </tr>\n",
              "    <tr>\n",
              "      <th>std</th>\n",
              "      <td>0.368612</td>\n",
              "      <td>24.559481</td>\n",
              "      <td>30.090047</td>\n",
              "      <td>2266.771362</td>\n",
              "    </tr>\n",
              "    <tr>\n",
              "      <th>min</th>\n",
              "      <td>0.000000</td>\n",
              "      <td>0.000000</td>\n",
              "      <td>18.250000</td>\n",
              "      <td>18.800000</td>\n",
              "    </tr>\n",
              "    <tr>\n",
              "      <th>25%</th>\n",
              "      <td>0.000000</td>\n",
              "      <td>9.000000</td>\n",
              "      <td>35.500000</td>\n",
              "      <td>401.450000</td>\n",
              "    </tr>\n",
              "    <tr>\n",
              "      <th>50%</th>\n",
              "      <td>0.000000</td>\n",
              "      <td>29.000000</td>\n",
              "      <td>70.350000</td>\n",
              "      <td>1397.475000</td>\n",
              "    </tr>\n",
              "    <tr>\n",
              "      <th>75%</th>\n",
              "      <td>0.000000</td>\n",
              "      <td>55.000000</td>\n",
              "      <td>89.850000</td>\n",
              "      <td>3794.737500</td>\n",
              "    </tr>\n",
              "    <tr>\n",
              "      <th>max</th>\n",
              "      <td>1.000000</td>\n",
              "      <td>72.000000</td>\n",
              "      <td>118.750000</td>\n",
              "      <td>8684.800000</td>\n",
              "    </tr>\n",
              "  </tbody>\n",
              "</table>\n",
              "</div>"
            ],
            "text/plain": [
              "       SeniorCitizen       tenure  MonthlyCharges  TotalCharges\n",
              "count    7043.000000  7043.000000     7043.000000   7032.000000\n",
              "mean        0.162147    32.371149       64.761692   2283.300441\n",
              "std         0.368612    24.559481       30.090047   2266.771362\n",
              "min         0.000000     0.000000       18.250000     18.800000\n",
              "25%         0.000000     9.000000       35.500000    401.450000\n",
              "50%         0.000000    29.000000       70.350000   1397.475000\n",
              "75%         0.000000    55.000000       89.850000   3794.737500\n",
              "max         1.000000    72.000000      118.750000   8684.800000"
            ]
          },
          "metadata": {},
          "execution_count": 240
        }
      ]
    },
    {
      "cell_type": "code",
      "metadata": {
        "colab": {
          "base_uri": "https://localhost:8080/",
          "height": 210
        },
        "id": "HdHktl92_p1w",
        "outputId": "c5886fd7-9459-4267-aa91-9b9a788d2e87"
      },
      "source": [
        "# menampilkan deskripsi sederhana dataset object\n",
        "obj = df.select_dtypes(include='object')\n",
        "obj.describe()"
      ],
      "execution_count": 241,
      "outputs": [
        {
          "output_type": "execute_result",
          "data": {
            "text/html": [
              "<div>\n",
              "<style scoped>\n",
              "    .dataframe tbody tr th:only-of-type {\n",
              "        vertical-align: middle;\n",
              "    }\n",
              "\n",
              "    .dataframe tbody tr th {\n",
              "        vertical-align: top;\n",
              "    }\n",
              "\n",
              "    .dataframe thead th {\n",
              "        text-align: right;\n",
              "    }\n",
              "</style>\n",
              "<table border=\"1\" class=\"dataframe\">\n",
              "  <thead>\n",
              "    <tr style=\"text-align: right;\">\n",
              "      <th></th>\n",
              "      <th>customerID</th>\n",
              "      <th>gender</th>\n",
              "      <th>Partner</th>\n",
              "      <th>Dependents</th>\n",
              "      <th>PhoneService</th>\n",
              "      <th>MultipleLines</th>\n",
              "      <th>InternetService</th>\n",
              "      <th>OnlineSecurity</th>\n",
              "      <th>OnlineBackup</th>\n",
              "      <th>DeviceProtection</th>\n",
              "      <th>TechSupport</th>\n",
              "      <th>StreamingTV</th>\n",
              "      <th>StreamingMovies</th>\n",
              "      <th>Contract</th>\n",
              "      <th>PaperlessBilling</th>\n",
              "      <th>PaymentMethod</th>\n",
              "      <th>Churn</th>\n",
              "    </tr>\n",
              "  </thead>\n",
              "  <tbody>\n",
              "    <tr>\n",
              "      <th>count</th>\n",
              "      <td>7043</td>\n",
              "      <td>7043</td>\n",
              "      <td>7043</td>\n",
              "      <td>7043</td>\n",
              "      <td>7043</td>\n",
              "      <td>7043</td>\n",
              "      <td>7043</td>\n",
              "      <td>7043</td>\n",
              "      <td>7043</td>\n",
              "      <td>7043</td>\n",
              "      <td>7043</td>\n",
              "      <td>7043</td>\n",
              "      <td>7043</td>\n",
              "      <td>7043</td>\n",
              "      <td>7043</td>\n",
              "      <td>7043</td>\n",
              "      <td>7043</td>\n",
              "    </tr>\n",
              "    <tr>\n",
              "      <th>unique</th>\n",
              "      <td>7043</td>\n",
              "      <td>2</td>\n",
              "      <td>2</td>\n",
              "      <td>2</td>\n",
              "      <td>2</td>\n",
              "      <td>3</td>\n",
              "      <td>3</td>\n",
              "      <td>3</td>\n",
              "      <td>3</td>\n",
              "      <td>3</td>\n",
              "      <td>3</td>\n",
              "      <td>3</td>\n",
              "      <td>3</td>\n",
              "      <td>3</td>\n",
              "      <td>2</td>\n",
              "      <td>4</td>\n",
              "      <td>2</td>\n",
              "    </tr>\n",
              "    <tr>\n",
              "      <th>top</th>\n",
              "      <td>5084-OOVCJ</td>\n",
              "      <td>Male</td>\n",
              "      <td>No</td>\n",
              "      <td>No</td>\n",
              "      <td>Yes</td>\n",
              "      <td>No</td>\n",
              "      <td>Fiber optic</td>\n",
              "      <td>No</td>\n",
              "      <td>No</td>\n",
              "      <td>No</td>\n",
              "      <td>No</td>\n",
              "      <td>No</td>\n",
              "      <td>No</td>\n",
              "      <td>Month-to-month</td>\n",
              "      <td>Yes</td>\n",
              "      <td>Electronic check</td>\n",
              "      <td>No</td>\n",
              "    </tr>\n",
              "    <tr>\n",
              "      <th>freq</th>\n",
              "      <td>1</td>\n",
              "      <td>3555</td>\n",
              "      <td>3641</td>\n",
              "      <td>4933</td>\n",
              "      <td>6361</td>\n",
              "      <td>3390</td>\n",
              "      <td>3096</td>\n",
              "      <td>3498</td>\n",
              "      <td>3088</td>\n",
              "      <td>3095</td>\n",
              "      <td>3473</td>\n",
              "      <td>2810</td>\n",
              "      <td>2785</td>\n",
              "      <td>3875</td>\n",
              "      <td>4171</td>\n",
              "      <td>2365</td>\n",
              "      <td>5174</td>\n",
              "    </tr>\n",
              "  </tbody>\n",
              "</table>\n",
              "</div>"
            ],
            "text/plain": [
              "        customerID gender Partner  ... PaperlessBilling     PaymentMethod Churn\n",
              "count         7043   7043    7043  ...             7043              7043  7043\n",
              "unique        7043      2       2  ...                2                 4     2\n",
              "top     5084-OOVCJ   Male      No  ...              Yes  Electronic check    No\n",
              "freq             1   3555    3641  ...             4171              2365  5174\n",
              "\n",
              "[4 rows x 17 columns]"
            ]
          },
          "metadata": {},
          "execution_count": 241
        }
      ]
    },
    {
      "cell_type": "markdown",
      "metadata": {
        "id": "F4F1jSQbx89G"
      },
      "source": [
        "> Telco Customer dataset menunjukan bahwa:\n",
        "1. Dataset tersebut diatas memiliki 21 kolom dimana terdapat 7043 baris.\n",
        "2. Kolom Senior Citizen dan\ttenure\tbertipe integer sedangkan Monthly Charges bertipe float dan kolom lainnya bertipe object.\n",
        "3. Kolom Total Charge yang merupakan object sehingga nilai berupa string dimana akan diubah menjadi numerik yang menyebabkan adanya NaN value akibat perubahan type.\n",
        "4. Selain kolom Total Charge tidak ada kolom yang memiliki NaN value.\n",
        "5. Kolom Senior Citizen pada deskripsi menunjukan bahwa hanya terdapat dua value dikolom tersebut yaitu 0 dan 1.\n",
        "6. Kolom object pada descripsi menunjukan bahwa rata rata unique value adalah 2 dan yang memiliki unique value terbanyak adalah kolom payment Method sebanyak 4.\n",
        "7. Kolom CustomerID menunjukan bahwa value yang ada hanya merupakan identitas atau ID.\n"
      ]
    },
    {
      "cell_type": "markdown",
      "metadata": {
        "id": "RF2pdilJ2lLx"
      },
      "source": [
        "# Exploration Data Analysis"
      ]
    },
    {
      "cell_type": "code",
      "metadata": {
        "id": "BzqwNED2FVjV"
      },
      "source": [
        "#melakukan copy dataset yang ada dengan nama df_new\n",
        "df_new= df.copy()"
      ],
      "execution_count": 242,
      "outputs": []
    },
    {
      "cell_type": "code",
      "metadata": {
        "id": "gtGO4MLJKZJN"
      },
      "source": [
        "#drop kolom CustomerID \n",
        "df_new = df_new.drop(columns='customerID')"
      ],
      "execution_count": 243,
      "outputs": []
    },
    {
      "cell_type": "code",
      "metadata": {
        "colab": {
          "base_uri": "https://localhost:8080/",
          "height": 213
        },
        "id": "38rqFOQaEYVr",
        "outputId": "6e9801b9-677f-45f1-ca78-eb4c47e9e1b4"
      },
      "source": [
        "#melihat dataset setelah dilakukan drop kolom\n",
        "print(df_new.shape)\n",
        "df_new.head(3)"
      ],
      "execution_count": 244,
      "outputs": [
        {
          "output_type": "stream",
          "text": [
            "(7043, 20)\n"
          ],
          "name": "stdout"
        },
        {
          "output_type": "execute_result",
          "data": {
            "text/html": [
              "<div>\n",
              "<style scoped>\n",
              "    .dataframe tbody tr th:only-of-type {\n",
              "        vertical-align: middle;\n",
              "    }\n",
              "\n",
              "    .dataframe tbody tr th {\n",
              "        vertical-align: top;\n",
              "    }\n",
              "\n",
              "    .dataframe thead th {\n",
              "        text-align: right;\n",
              "    }\n",
              "</style>\n",
              "<table border=\"1\" class=\"dataframe\">\n",
              "  <thead>\n",
              "    <tr style=\"text-align: right;\">\n",
              "      <th></th>\n",
              "      <th>gender</th>\n",
              "      <th>SeniorCitizen</th>\n",
              "      <th>Partner</th>\n",
              "      <th>Dependents</th>\n",
              "      <th>tenure</th>\n",
              "      <th>PhoneService</th>\n",
              "      <th>MultipleLines</th>\n",
              "      <th>InternetService</th>\n",
              "      <th>OnlineSecurity</th>\n",
              "      <th>OnlineBackup</th>\n",
              "      <th>DeviceProtection</th>\n",
              "      <th>TechSupport</th>\n",
              "      <th>StreamingTV</th>\n",
              "      <th>StreamingMovies</th>\n",
              "      <th>Contract</th>\n",
              "      <th>PaperlessBilling</th>\n",
              "      <th>PaymentMethod</th>\n",
              "      <th>MonthlyCharges</th>\n",
              "      <th>TotalCharges</th>\n",
              "      <th>Churn</th>\n",
              "    </tr>\n",
              "  </thead>\n",
              "  <tbody>\n",
              "    <tr>\n",
              "      <th>0</th>\n",
              "      <td>Female</td>\n",
              "      <td>0</td>\n",
              "      <td>Yes</td>\n",
              "      <td>No</td>\n",
              "      <td>1</td>\n",
              "      <td>No</td>\n",
              "      <td>No phone service</td>\n",
              "      <td>DSL</td>\n",
              "      <td>No</td>\n",
              "      <td>Yes</td>\n",
              "      <td>No</td>\n",
              "      <td>No</td>\n",
              "      <td>No</td>\n",
              "      <td>No</td>\n",
              "      <td>Month-to-month</td>\n",
              "      <td>Yes</td>\n",
              "      <td>Electronic check</td>\n",
              "      <td>29.85</td>\n",
              "      <td>29.85</td>\n",
              "      <td>No</td>\n",
              "    </tr>\n",
              "    <tr>\n",
              "      <th>1</th>\n",
              "      <td>Male</td>\n",
              "      <td>0</td>\n",
              "      <td>No</td>\n",
              "      <td>No</td>\n",
              "      <td>34</td>\n",
              "      <td>Yes</td>\n",
              "      <td>No</td>\n",
              "      <td>DSL</td>\n",
              "      <td>Yes</td>\n",
              "      <td>No</td>\n",
              "      <td>Yes</td>\n",
              "      <td>No</td>\n",
              "      <td>No</td>\n",
              "      <td>No</td>\n",
              "      <td>One year</td>\n",
              "      <td>No</td>\n",
              "      <td>Mailed check</td>\n",
              "      <td>56.95</td>\n",
              "      <td>1889.50</td>\n",
              "      <td>No</td>\n",
              "    </tr>\n",
              "    <tr>\n",
              "      <th>2</th>\n",
              "      <td>Male</td>\n",
              "      <td>0</td>\n",
              "      <td>No</td>\n",
              "      <td>No</td>\n",
              "      <td>2</td>\n",
              "      <td>Yes</td>\n",
              "      <td>No</td>\n",
              "      <td>DSL</td>\n",
              "      <td>Yes</td>\n",
              "      <td>Yes</td>\n",
              "      <td>No</td>\n",
              "      <td>No</td>\n",
              "      <td>No</td>\n",
              "      <td>No</td>\n",
              "      <td>Month-to-month</td>\n",
              "      <td>Yes</td>\n",
              "      <td>Mailed check</td>\n",
              "      <td>53.85</td>\n",
              "      <td>108.15</td>\n",
              "      <td>Yes</td>\n",
              "    </tr>\n",
              "  </tbody>\n",
              "</table>\n",
              "</div>"
            ],
            "text/plain": [
              "   gender  SeniorCitizen Partner  ... MonthlyCharges  TotalCharges Churn\n",
              "0  Female              0     Yes  ...          29.85         29.85    No\n",
              "1    Male              0      No  ...          56.95       1889.50    No\n",
              "2    Male              0      No  ...          53.85        108.15   Yes\n",
              "\n",
              "[3 rows x 20 columns]"
            ]
          },
          "metadata": {},
          "execution_count": 244
        }
      ]
    },
    {
      "cell_type": "code",
      "metadata": {
        "colab": {
          "base_uri": "https://localhost:8080/"
        },
        "id": "0mQvfzGPNKKZ",
        "outputId": "f5fca8fa-1f79-4e96-aeab-21fb692744d0"
      },
      "source": [
        "# menampilkan unique value dan jumlah pada feature categorical\n",
        "obj = df_new.select_dtypes(include='object')\n",
        "for col in obj :\n",
        "  print(col)\n",
        "  print(obj [col].value_counts())\n",
        "  print()"
      ],
      "execution_count": 245,
      "outputs": [
        {
          "output_type": "stream",
          "text": [
            "gender\n",
            "Male      3555\n",
            "Female    3488\n",
            "Name: gender, dtype: int64\n",
            "\n",
            "Partner\n",
            "No     3641\n",
            "Yes    3402\n",
            "Name: Partner, dtype: int64\n",
            "\n",
            "Dependents\n",
            "No     4933\n",
            "Yes    2110\n",
            "Name: Dependents, dtype: int64\n",
            "\n",
            "PhoneService\n",
            "Yes    6361\n",
            "No      682\n",
            "Name: PhoneService, dtype: int64\n",
            "\n",
            "MultipleLines\n",
            "No                  3390\n",
            "Yes                 2971\n",
            "No phone service     682\n",
            "Name: MultipleLines, dtype: int64\n",
            "\n",
            "InternetService\n",
            "Fiber optic    3096\n",
            "DSL            2421\n",
            "No             1526\n",
            "Name: InternetService, dtype: int64\n",
            "\n",
            "OnlineSecurity\n",
            "No                     3498\n",
            "Yes                    2019\n",
            "No internet service    1526\n",
            "Name: OnlineSecurity, dtype: int64\n",
            "\n",
            "OnlineBackup\n",
            "No                     3088\n",
            "Yes                    2429\n",
            "No internet service    1526\n",
            "Name: OnlineBackup, dtype: int64\n",
            "\n",
            "DeviceProtection\n",
            "No                     3095\n",
            "Yes                    2422\n",
            "No internet service    1526\n",
            "Name: DeviceProtection, dtype: int64\n",
            "\n",
            "TechSupport\n",
            "No                     3473\n",
            "Yes                    2044\n",
            "No internet service    1526\n",
            "Name: TechSupport, dtype: int64\n",
            "\n",
            "StreamingTV\n",
            "No                     2810\n",
            "Yes                    2707\n",
            "No internet service    1526\n",
            "Name: StreamingTV, dtype: int64\n",
            "\n",
            "StreamingMovies\n",
            "No                     2785\n",
            "Yes                    2732\n",
            "No internet service    1526\n",
            "Name: StreamingMovies, dtype: int64\n",
            "\n",
            "Contract\n",
            "Month-to-month    3875\n",
            "Two year          1695\n",
            "One year          1473\n",
            "Name: Contract, dtype: int64\n",
            "\n",
            "PaperlessBilling\n",
            "Yes    4171\n",
            "No     2872\n",
            "Name: PaperlessBilling, dtype: int64\n",
            "\n",
            "PaymentMethod\n",
            "Electronic check             2365\n",
            "Mailed check                 1612\n",
            "Bank transfer (automatic)    1544\n",
            "Credit card (automatic)      1522\n",
            "Name: PaymentMethod, dtype: int64\n",
            "\n",
            "Churn\n",
            "No     5174\n",
            "Yes    1869\n",
            "Name: Churn, dtype: int64\n",
            "\n"
          ],
          "name": "stdout"
        }
      ]
    },
    {
      "cell_type": "code",
      "metadata": {
        "colab": {
          "base_uri": "https://localhost:8080/",
          "height": 296
        },
        "id": "27MfbgIJIzBR",
        "outputId": "391e5c5f-daa0-427e-cc2b-1be88354776a"
      },
      "source": [
        "# menampilkan status pelanggan\n",
        "sns.histplot(data=df_new, x=df_new.Churn,hue=df_new.Churn, palette=\"viridis\" )"
      ],
      "execution_count": 246,
      "outputs": [
        {
          "output_type": "execute_result",
          "data": {
            "text/plain": [
              "<matplotlib.axes._subplots.AxesSubplot at 0x7f3fda5fdf50>"
            ]
          },
          "metadata": {},
          "execution_count": 246
        },
        {
          "output_type": "display_data",
          "data": {
            "image/png": "[encoded data removed]",
            "text/plain": [
              "<Figure size 432x288 with 1 Axes>"
            ]
          },
          "metadata": {
            "needs_background": "light"
          }
        }
      ]
    },
    {
      "cell_type": "code",
      "metadata": {
        "colab": {
          "base_uri": "https://localhost:8080/",
          "height": 323
        },
        "id": "qZ1j7H7DGv8b",
        "outputId": "7540978a-73df-4e1c-8b27-27955acbff46"
      },
      "source": [
        "# menampilkan seluruhan kolom customer \n",
        "obj = df_new[['gender','SeniorCitizen',\t'Partner',\t'Dependents']]\n",
        "fig,axes=plt.subplots(nrows=1,ncols=4,figsize=(22,5))\n",
        "\n",
        "j=0\n",
        "\n",
        "for col in obj:\n",
        "    sns.histplot(data=obj[col], x=df_new.Churn, hue=obj[col],multiple=\"dodge\", palette=\"viridis\" ,ax=axes[j])\n",
        "    j+=1\n",
        "    if j>3:\n",
        "      j=0"
      ],
      "execution_count": 247,
      "outputs": [
        {
          "output_type": "display_data",
          "data": {
            "image/png": "[encoded data removed]",
            "text/plain": [
              "<Figure size 1584x360 with 4 Axes>"
            ]
          },
          "metadata": {
            "needs_background": "light"
          }
        }
      ]
    },
    {
      "cell_type": "code",
      "metadata": {
        "colab": {
          "base_uri": "https://localhost:8080/",
          "height": 279
        },
        "id": "4Ihcp1L3Bc7x",
        "outputId": "3febf4ce-4c45-4fda-ea35-09aee79232b3"
      },
      "source": [
        "# menampilkan figure 'InternetService','PaymentMethod','Contract' dengan churn no berdasarkan gender\n",
        "obj = df_new[['InternetService','PaymentMethod','Contract']]\n",
        "fig,axes=plt.subplots(ncols=3,figsize=(15,4))\n",
        "\n",
        "j=0\n",
        "\n",
        "for col in obj:\n",
        "    sns.histplot(data=obj[col], x=df_new.Churn, hue=obj[col],multiple=\"dodge\", palette=\"viridis\",ax=axes[j])\n",
        "    j+=1\n",
        "    if j>2:\n",
        "      j=0\n"
      ],
      "execution_count": 248,
      "outputs": [
        {
          "output_type": "display_data",
          "data": {
            "image/png": "[encoded data removed]",
            "text/plain": [
              "<Figure size 1080x288 with 3 Axes>"
            ]
          },
          "metadata": {
            "needs_background": "light"
          }
        }
      ]
    },
    {
      "cell_type": "code",
      "metadata": {
        "colab": {
          "base_uri": "https://localhost:8080/",
          "height": 296
        },
        "id": "fNQGtLBDYcsf",
        "outputId": "076e70ea-2fbb-4b8a-951e-38a07f6467ec"
      },
      "source": [
        "# menampilkan boxplot Total dan Monthly Charge\n",
        "plt.figure(figsize=(16,4))\n",
        "plt.subplot(131)\n",
        "sns.boxplot(data=df_new, x='tenure', palette=\"crest\")\n",
        "plt.subplot(132)\n",
        "sns.boxplot(data=df_new, x='TotalCharges', palette=\"crest\")\n",
        "plt.subplot(133)\n",
        "sns.boxplot(data=df_new,x='MonthlyCharges', palette=\"crest\")"
      ],
      "execution_count": 249,
      "outputs": [
        {
          "output_type": "execute_result",
          "data": {
            "text/plain": [
              "<matplotlib.axes._subplots.AxesSubplot at 0x7f3f6e4ee1d0>"
            ]
          },
          "metadata": {},
          "execution_count": 249
        },
        {
          "output_type": "display_data",
          "data": {
            "image/png": "[encoded data removed]",
            "text/plain": [
              "<Figure size 1152x288 with 3 Axes>"
            ]
          },
          "metadata": {
            "needs_background": "light"
          }
        }
      ]
    },
    {
      "cell_type": "code",
      "metadata": {
        "colab": {
          "base_uri": "https://localhost:8080/",
          "height": 296
        },
        "id": "m6mVxEZC6bvW",
        "outputId": "4639a7ef-bee6-40b4-93e3-d2232e3968ff"
      },
      "source": [
        "# menampilkan boxplot Total dan Monthly Charge\n",
        "plt.figure(figsize=(16,4))\n",
        "plt.subplot(131)\n",
        "sns.boxplot(data=df_new, x='Churn',y='tenure', palette=\"crest\")\n",
        "plt.subplot(132)\n",
        "sns.boxplot(data=df_new, x='Churn',y='TotalCharges', palette=\"crest\")\n",
        "plt.subplot(133)\n",
        "sns.boxplot(data=df_new, x='Churn',y='MonthlyCharges', palette=\"crest\")"
      ],
      "execution_count": 250,
      "outputs": [
        {
          "output_type": "execute_result",
          "data": {
            "text/plain": [
              "<matplotlib.axes._subplots.AxesSubplot at 0x7f3f6e047a50>"
            ]
          },
          "metadata": {},
          "execution_count": 250
        },
        {
          "output_type": "display_data",
          "data": {
            "image/png": "[encoded data removed]",
            "text/plain": [
              "<Figure size 1152x288 with 3 Axes>"
            ]
          },
          "metadata": {
            "needs_background": "light"
          }
        }
      ]
    },
    {
      "cell_type": "code",
      "metadata": {
        "colab": {
          "base_uri": "https://localhost:8080/",
          "height": 367
        },
        "id": "UEkQc6YLHI09",
        "outputId": "575763dc-bb97-460c-f0e7-f1214def2531"
      },
      "source": [
        "# menampilkan figure tenure, total, dan monthly charge dengan menggunakan churn\n",
        "plt.figure(figsize=(20,5))\n",
        "\n",
        "# plot tenure charge\n",
        "plt.subplot(131)\n",
        "plt.title(\"tenure Charges\")\n",
        "sns.kdeplot(data=df_new, x=df_new.tenure, hue=\"Churn\",shade = True,palette ={\"No\" : \"blue\", 'Yes' : \"red\"})\n",
        "\n",
        "# plot monthly charge\n",
        "plt.subplot(132)\n",
        "plt.title(\"Monthly Charges\")\n",
        "sns.kdeplot(data=df_new, x=df_new.MonthlyCharges, hue=\"Churn\",shade = True,palette ={\"No\" : \"blue\", 'Yes' : \"red\"})\n",
        "\n",
        "# plot total charge\n",
        "plt.subplot(133)\n",
        "plt.title(\"Total Charges\")\n",
        "sns.kdeplot(data=df_new, x=df_new.TotalCharges, hue=\"Churn\",shade = True,palette ={\"No\" : \"blue\", 'Yes' : \"red\"})"
      ],
      "execution_count": 251,
      "outputs": [
        {
          "output_type": "execute_result",
          "data": {
            "text/plain": [
              "<matplotlib.axes._subplots.AxesSubplot at 0x7f3fc3832310>"
            ]
          },
          "metadata": {},
          "execution_count": 251
        },
        {
          "output_type": "display_data",
          "data": {
            "image/png": "[encoded data removed]",
            "text/plain": [
              "<Figure size 1440x360 with 3 Axes>"
            ]
          },
          "metadata": {
            "needs_background": "light"
          }
        }
      ]
    },
    {
      "cell_type": "code",
      "metadata": {
        "colab": {
          "base_uri": "https://localhost:8080/",
          "height": 165
        },
        "id": "SsJ8yB0vJ0aP",
        "outputId": "2d28ab87-d5ff-477f-e8e9-1aa6ababeb54"
      },
      "source": [
        "# menampilkan dataset berdasarkan churn no\n",
        "df_new_no =df_new[df_new.Churn=='No']\n",
        "print(df_new_no.shape)\n",
        "df_new_no.head(2)"
      ],
      "execution_count": 252,
      "outputs": [
        {
          "output_type": "stream",
          "text": [
            "(5174, 20)\n"
          ],
          "name": "stdout"
        },
        {
          "output_type": "execute_result",
          "data": {
            "text/html": [
              "<div>\n",
              "<style scoped>\n",
              "    .dataframe tbody tr th:only-of-type {\n",
              "        vertical-align: middle;\n",
              "    }\n",
              "\n",
              "    .dataframe tbody tr th {\n",
              "        vertical-align: top;\n",
              "    }\n",
              "\n",
              "    .dataframe thead th {\n",
              "        text-align: right;\n",
              "    }\n",
              "</style>\n",
              "<table border=\"1\" class=\"dataframe\">\n",
              "  <thead>\n",
              "    <tr style=\"text-align: right;\">\n",
              "      <th></th>\n",
              "      <th>gender</th>\n",
              "      <th>SeniorCitizen</th>\n",
              "      <th>Partner</th>\n",
              "      <th>Dependents</th>\n",
              "      <th>tenure</th>\n",
              "      <th>PhoneService</th>\n",
              "      <th>MultipleLines</th>\n",
              "      <th>InternetService</th>\n",
              "      <th>OnlineSecurity</th>\n",
              "      <th>OnlineBackup</th>\n",
              "      <th>DeviceProtection</th>\n",
              "      <th>TechSupport</th>\n",
              "      <th>StreamingTV</th>\n",
              "      <th>StreamingMovies</th>\n",
              "      <th>Contract</th>\n",
              "      <th>PaperlessBilling</th>\n",
              "      <th>PaymentMethod</th>\n",
              "      <th>MonthlyCharges</th>\n",
              "      <th>TotalCharges</th>\n",
              "      <th>Churn</th>\n",
              "    </tr>\n",
              "  </thead>\n",
              "  <tbody>\n",
              "    <tr>\n",
              "      <th>0</th>\n",
              "      <td>Female</td>\n",
              "      <td>0</td>\n",
              "      <td>Yes</td>\n",
              "      <td>No</td>\n",
              "      <td>1</td>\n",
              "      <td>No</td>\n",
              "      <td>No phone service</td>\n",
              "      <td>DSL</td>\n",
              "      <td>No</td>\n",
              "      <td>Yes</td>\n",
              "      <td>No</td>\n",
              "      <td>No</td>\n",
              "      <td>No</td>\n",
              "      <td>No</td>\n",
              "      <td>Month-to-month</td>\n",
              "      <td>Yes</td>\n",
              "      <td>Electronic check</td>\n",
              "      <td>29.85</td>\n",
              "      <td>29.85</td>\n",
              "      <td>No</td>\n",
              "    </tr>\n",
              "    <tr>\n",
              "      <th>1</th>\n",
              "      <td>Male</td>\n",
              "      <td>0</td>\n",
              "      <td>No</td>\n",
              "      <td>No</td>\n",
              "      <td>34</td>\n",
              "      <td>Yes</td>\n",
              "      <td>No</td>\n",
              "      <td>DSL</td>\n",
              "      <td>Yes</td>\n",
              "      <td>No</td>\n",
              "      <td>Yes</td>\n",
              "      <td>No</td>\n",
              "      <td>No</td>\n",
              "      <td>No</td>\n",
              "      <td>One year</td>\n",
              "      <td>No</td>\n",
              "      <td>Mailed check</td>\n",
              "      <td>56.95</td>\n",
              "      <td>1889.50</td>\n",
              "      <td>No</td>\n",
              "    </tr>\n",
              "  </tbody>\n",
              "</table>\n",
              "</div>"
            ],
            "text/plain": [
              "   gender  SeniorCitizen Partner  ... MonthlyCharges  TotalCharges Churn\n",
              "0  Female              0     Yes  ...          29.85         29.85    No\n",
              "1    Male              0      No  ...          56.95       1889.50    No\n",
              "\n",
              "[2 rows x 20 columns]"
            ]
          },
          "metadata": {},
          "execution_count": 252
        }
      ]
    },
    {
      "cell_type": "code",
      "metadata": {
        "colab": {
          "base_uri": "https://localhost:8080/",
          "height": 182
        },
        "id": "I1EGMgVMMkpo",
        "outputId": "5a1d4033-7ff6-44f5-80e0-89d08fca7b03"
      },
      "source": [
        "# menampilkan dataset berdasarkan churn yes\n",
        "df_new_yes = df_new[df_new.Churn=='Yes']\n",
        "print(df_new_yes.shape)\n",
        "df_new_yes.head(2)"
      ],
      "execution_count": 253,
      "outputs": [
        {
          "output_type": "stream",
          "text": [
            "(1869, 20)\n"
          ],
          "name": "stdout"
        },
        {
          "output_type": "execute_result",
          "data": {
            "text/html": [
              "<div>\n",
              "<style scoped>\n",
              "    .dataframe tbody tr th:only-of-type {\n",
              "        vertical-align: middle;\n",
              "    }\n",
              "\n",
              "    .dataframe tbody tr th {\n",
              "        vertical-align: top;\n",
              "    }\n",
              "\n",
              "    .dataframe thead th {\n",
              "        text-align: right;\n",
              "    }\n",
              "</style>\n",
              "<table border=\"1\" class=\"dataframe\">\n",
              "  <thead>\n",
              "    <tr style=\"text-align: right;\">\n",
              "      <th></th>\n",
              "      <th>gender</th>\n",
              "      <th>SeniorCitizen</th>\n",
              "      <th>Partner</th>\n",
              "      <th>Dependents</th>\n",
              "      <th>tenure</th>\n",
              "      <th>PhoneService</th>\n",
              "      <th>MultipleLines</th>\n",
              "      <th>InternetService</th>\n",
              "      <th>OnlineSecurity</th>\n",
              "      <th>OnlineBackup</th>\n",
              "      <th>DeviceProtection</th>\n",
              "      <th>TechSupport</th>\n",
              "      <th>StreamingTV</th>\n",
              "      <th>StreamingMovies</th>\n",
              "      <th>Contract</th>\n",
              "      <th>PaperlessBilling</th>\n",
              "      <th>PaymentMethod</th>\n",
              "      <th>MonthlyCharges</th>\n",
              "      <th>TotalCharges</th>\n",
              "      <th>Churn</th>\n",
              "    </tr>\n",
              "  </thead>\n",
              "  <tbody>\n",
              "    <tr>\n",
              "      <th>2</th>\n",
              "      <td>Male</td>\n",
              "      <td>0</td>\n",
              "      <td>No</td>\n",
              "      <td>No</td>\n",
              "      <td>2</td>\n",
              "      <td>Yes</td>\n",
              "      <td>No</td>\n",
              "      <td>DSL</td>\n",
              "      <td>Yes</td>\n",
              "      <td>Yes</td>\n",
              "      <td>No</td>\n",
              "      <td>No</td>\n",
              "      <td>No</td>\n",
              "      <td>No</td>\n",
              "      <td>Month-to-month</td>\n",
              "      <td>Yes</td>\n",
              "      <td>Mailed check</td>\n",
              "      <td>53.85</td>\n",
              "      <td>108.15</td>\n",
              "      <td>Yes</td>\n",
              "    </tr>\n",
              "    <tr>\n",
              "      <th>4</th>\n",
              "      <td>Female</td>\n",
              "      <td>0</td>\n",
              "      <td>No</td>\n",
              "      <td>No</td>\n",
              "      <td>2</td>\n",
              "      <td>Yes</td>\n",
              "      <td>No</td>\n",
              "      <td>Fiber optic</td>\n",
              "      <td>No</td>\n",
              "      <td>No</td>\n",
              "      <td>No</td>\n",
              "      <td>No</td>\n",
              "      <td>No</td>\n",
              "      <td>No</td>\n",
              "      <td>Month-to-month</td>\n",
              "      <td>Yes</td>\n",
              "      <td>Electronic check</td>\n",
              "      <td>70.70</td>\n",
              "      <td>151.65</td>\n",
              "      <td>Yes</td>\n",
              "    </tr>\n",
              "  </tbody>\n",
              "</table>\n",
              "</div>"
            ],
            "text/plain": [
              "   gender  SeniorCitizen Partner  ... MonthlyCharges  TotalCharges Churn\n",
              "2    Male              0      No  ...          53.85        108.15   Yes\n",
              "4  Female              0      No  ...          70.70        151.65   Yes\n",
              "\n",
              "[2 rows x 20 columns]"
            ]
          },
          "metadata": {},
          "execution_count": 253
        }
      ]
    },
    {
      "cell_type": "code",
      "metadata": {
        "colab": {
          "base_uri": "https://localhost:8080/",
          "height": 542
        },
        "id": "7d2JTGsRbc_Y",
        "outputId": "7e1a315d-fe75-4862-d58a-a093370e8553"
      },
      "source": [
        "# menampilkan figure 'InternetService','PaymentMethod','Contract' dengan churn no berdasarkan gender\n",
        "obj_no = df_new_no[['InternetService','PaymentMethod','Contract']]\n",
        "fig,axes=plt.subplots(ncols=3,figsize=(15,4))\n",
        "\n",
        "j=0\n",
        "\n",
        "for col in obj_no:\n",
        "    sns.histplot(data=obj_no[col], x=df_new_no.gender, hue=obj_no[col],multiple=\"dodge\", palette=\"viridis\",ax=axes[j])\n",
        "    j+=1\n",
        "    if j>2:\n",
        "      j=0\n",
        "\n",
        "# menampilkan figure 'InternetService','PaymentMethod','Contract' dengan churn yes berdasarkan gender\n",
        "obj_yes = df_new_yes[['InternetService','PaymentMethod','Contract']]\n",
        "fig,axes=plt.subplots(ncols=3,figsize=(15,4))\n",
        "j=0\n",
        "\n",
        "for col in obj_yes:\n",
        "    sns.histplot(data=obj_yes[col], x=df_new_yes.gender, hue=obj_yes[col],multiple=\"dodge\", palette=\"viridis\" ,ax=axes[j])\n",
        "    j+=1\n",
        "    if j>2:\n",
        "      j=0"
      ],
      "execution_count": 254,
      "outputs": [
        {
          "output_type": "display_data",
          "data": {
            "image/png": "[encoded data removed]",
            "text/plain": [
              "<Figure size 1080x288 with 3 Axes>"
            ]
          },
          "metadata": {
            "needs_background": "light"
          }
        },
        {
          "output_type": "display_data",
          "data": {
            "image/png": "[encoded data removed]",
            "text/plain": [
              "<Figure size 1080x288 with 3 Axes>"
            ]
          },
          "metadata": {
            "needs_background": "light"
          }
        }
      ]
    },
    {
      "cell_type": "code",
      "metadata": {
        "colab": {
          "base_uri": "https://localhost:8080/",
          "height": 282
        },
        "id": "4D2f3qe3OyJm",
        "outputId": "b0eac9b0-85c7-4f37-b783-70f00a88ef6c"
      },
      "source": [
        "#melihat correlation heatmap untuk kolom numeric \n",
        "plt.figure(figsize=(10,4))\n",
        "sns.heatmap(df_new.corr(), annot=True,cmap=\"Greens\",mask=np.triu(np.ones_like(df_new.corr(), dtype=bool)))"
      ],
      "execution_count": 255,
      "outputs": [
        {
          "output_type": "execute_result",
          "data": {
            "text/plain": [
              "<matplotlib.axes._subplots.AxesSubplot at 0x7f3f6e016a10>"
            ]
          },
          "metadata": {},
          "execution_count": 255
        },
        {
          "output_type": "display_data",
          "data": {
            "image/png": "[encoded data removed]",
            "text/plain": [
              "<Figure size 720x288 with 2 Axes>"
            ]
          },
          "metadata": {
            "needs_background": "light"
          }
        }
      ]
    },
    {
      "cell_type": "markdown",
      "metadata": {
        "id": "29xoJJr24SSH"
      },
      "source": [
        "> EDA menunjukan:\n",
        "1. Drop CustomerID dari dataset yang telah di copy.\n",
        "2. Terjadi perubahan pada jumlah kolom dari 21 menjadi 20, dan baris tetap tidak berubah.\n",
        "3. Terdapat value yang sama untuk beberapa kolom kategori diantaranya OnlineSecurity, OnlineBackup, DeviceProtection, TechSupport,StreamingTV, StreamingMovies diantaranya No, Yes, No internet service dan MultipleLines diantaranya No, Yes, No phone service. sedangkan untuk beberapa kolom lain selain yang disebutkan memiliki value lain.\n",
        "4. Figure boxplot TotalCharges dan Monthly Charges menunjukan bahwa tidak ada outlier.\n",
        "5. Kdeplot menunjukan bahwa tenure memiliki skewed right pada Yes dan symmetric pada No, untuk Total Charge memiliki skewed right pada Yes dan No, Monthly Charge miemiliki symmetric pada Yes dan bimodal pada No.\n",
        "6. Pada data grup menurut Churn menunjukan bahwa Churn Yes pada gender Female 939, Male 930 sedangkan Churn No pada gender Female 2549, Male 2625.\n",
        "7. pada Churn No kita dapat melihat value tertinggi pada feature internet service untuk male female pada DSL, pada payment method untuk male pada Bank Transfer untuk female pada Mailed Check, sedangkan pada Contract male female pada month to month.\n",
        "8. pada Churn Yes kita dapat melihat value tertinggi pada feature internet service untuk male female pada Fiber Optic, pada payment method untuk male female pada Electronic Check, sedangkan pada Contract male female pada month to month.\n",
        "9. Heatmap menunjukan adanya korelasi antar feature yang ada mendeketi satu atau korelasi yang kuat.\n",
        "\n",
        "\n"
      ]
    },
    {
      "cell_type": "markdown",
      "metadata": {
        "id": "jwqRWIJ7p5Z0"
      },
      "source": [
        "#Preprocessing"
      ]
    },
    {
      "cell_type": "code",
      "metadata": {
        "id": "gFrsoN_XgANS"
      },
      "source": [
        "# copy dataset\n",
        "df_new2=df_new.copy()"
      ],
      "execution_count": 256,
      "outputs": []
    },
    {
      "cell_type": "code",
      "metadata": {
        "colab": {
          "base_uri": "https://localhost:8080/"
        },
        "id": "yzgNIetCeLpB",
        "outputId": "155c80fa-419d-4a04-e127-428bc3f3d1fe"
      },
      "source": [
        "#value = df_new2[['InternetService','Contract','PaymentMethod']]\n",
        "for col in df_new2 :\n",
        "  print(col)\n",
        "  print(sorted(df_new2 [col].unique()))\n"
      ],
      "execution_count": 257,
      "outputs": [
        {
          "output_type": "stream",
          "text": [
            "gender\n",
            "['Female', 'Male']\n",
            "SeniorCitizen\n",
            "[0, 1]\n",
            "Partner\n",
            "['No', 'Yes']\n",
            "Dependents\n",
            "['No', 'Yes']\n",
            "tenure\n",
            "[0, 1, 2, 3, 4, 5, 6, 7, 8, 9, 10, 11, 12, 13, 14, 15, 16, 17, 18, 19, 20, 21, 22, 23, 24, 25, 26, 27, 28, 29, 30, 31, 32, 33, 34, 35, 36, 37, 38, 39, 40, 41, 42, 43, 44, 45, 46, 47, 48, 49, 50, 51, 52, 53, 54, 55, 56, 57, 58, 59, 60, 61, 62, 63, 64, 65, 66, 67, 68, 69, 70, 71, 72]\n",
            "PhoneService\n",
            "['No', 'Yes']\n",
            "MultipleLines\n",
            "['No', 'No phone service', 'Yes']\n",
            "InternetService\n",
            "['DSL', 'Fiber optic', 'No']\n",
            "OnlineSecurity\n",
            "['No', 'No internet service', 'Yes']\n",
            "OnlineBackup\n",
            "['No', 'No internet service', 'Yes']\n",
            "DeviceProtection\n",
            "['No', 'No internet service', 'Yes']\n",
            "TechSupport\n",
            "['No', 'No internet service', 'Yes']\n",
            "StreamingTV\n",
            "['No', 'No internet service', 'Yes']\n",
            "StreamingMovies\n",
            "['No', 'No internet service', 'Yes']\n",
            "Contract\n",
            "['Month-to-month', 'One year', 'Two year']\n",
            "PaperlessBilling\n",
            "['No', 'Yes']\n",
            "PaymentMethod\n",
            "['Bank transfer (automatic)', 'Credit card (automatic)', 'Electronic check', 'Mailed check']\n",
            "MonthlyCharges\n",
            "[18.25, 18.4, 18.55, 18.7, 18.75, 18.8, 18.85, 18.9, 18.95, 19.0, 19.05, 19.1, 19.15, 19.2, 19.25, 19.3, 19.35, 19.4, 19.45, 19.5, 19.55, 19.6, 19.65, 19.7, 19.75, 19.8, 19.85, 19.9, 19.95, 20.0, 20.05, 20.1, 20.15, 20.2, 20.25, 20.3, 20.35, 20.4, 20.45, 20.5, 20.55, 20.6, 20.65, 20.7, 20.75, 20.8, 20.85, 20.9, 20.95, 21.0, 21.05, 21.1, 21.15, 21.2, 21.25, 21.3, 21.45, 22.95, 23.05, 23.15, 23.3, 23.4, 23.45, 23.5, 23.55, 23.6, 23.65, 23.75, 23.8, 23.85, 23.9, 23.95, 24.0, 24.05, 24.1, 24.15, 24.2, 24.25, 24.3, 24.35, 24.4, 24.45, 24.5, 24.55, 24.6, 24.65, 24.7, 24.75, 24.8, 24.85, 24.9, 24.95, 25.0, 25.05, 25.1, 25.15, 25.2, 25.25, 25.3, 25.35, 25.4, 25.45, 25.5, 25.55, 25.6, 25.65, 25.7, 25.75, 25.8, 25.85, 25.9, 25.95, 26.0, 26.05, 26.1, 26.2, 26.25, 26.3, 26.35, 26.4, 26.45, 26.5, 26.8, 26.9, 28.45, 28.5, 28.6, 29.05, 29.1, 29.15, 29.2, 29.25, 29.3, 29.35, 29.4, 29.45, 29.5, 29.6, 29.65, 29.7, 29.75, 29.8, 29.85, 29.9, 29.95, 30.05, 30.1, 30.15, 30.2, 30.25, 30.3, 30.35, 30.4, 30.45, 30.5, 30.55, 30.6, 30.75, 30.85, 30.9, 31.0, 31.05, 31.1, 31.2, 31.35, 31.65, 33.15, 33.45, 33.5, 33.55, 33.6, 33.65, 33.7, 33.75, 33.9, 34.0, 34.05, 34.2, 34.25, 34.3, 34.4, 34.5, 34.55, 34.6, 34.65, 34.7, 34.8, 34.85, 34.95, 35.0, 35.05, 35.1, 35.15, 35.2, 35.25, 35.3, 35.35, 35.4, 35.45, 35.5, 35.55, 35.6, 35.65, 35.7, 35.75, 35.8, 35.9, 36.0, 36.05, 36.1, 36.15, 36.25, 36.45, 36.5, 36.65, 36.85, 37.7, 38.1, 38.25, 38.5, 38.55, 38.6, 38.8, 38.85, 38.9, 39.0, 39.05, 39.1, 39.15, 39.2, 39.3, 39.35, 39.4, 39.45, 39.5, 39.55, 39.6, 39.65, 39.7, 39.85, 39.9, 39.95, 40.0, 40.05, 40.1, 40.15, 40.2, 40.25, 40.3, 40.35, 40.4, 40.45, 40.55, 40.6, 40.65, 40.7, 40.75, 40.9, 41.05, 41.1, 41.15, 41.35, 41.6, 41.9, 41.95, 42.1, 42.3, 42.35, 42.4, 42.6, 42.9, 43.05, 43.25, 43.3, 43.35, 43.45, 43.55, 43.6, 43.65, 43.7, 43.75, 43.8, 43.85, 43.9, 43.95, 44.0, 44.05, 44.1, 44.15, 44.2, 44.25, 44.3, 44.35, 44.4, 44.45, 44.5, 44.55, 44.6, 44.65, 44.7, 44.75, 44.8, 44.85, 44.9, 44.95, 45.0, 45.05, 45.1, 45.15, 45.2, 45.25, 45.3, 45.35, 45.4, 45.45, 45.5, 45.55, 45.6, 45.65, 45.7, 45.75, 45.8, 45.85, 45.9, 45.95, 46.0, 46.05, 46.1, 46.2, 46.25, 46.3, 46.35, 46.4, 46.6, 47.05, 47.15, 47.4, 47.6, 47.8, 47.85, 47.95, 48.15, 48.2, 48.25, 48.35, 48.4, 48.45, 48.55, 48.6, 48.65, 48.7, 48.75, 48.8, 48.85, 48.9, 48.95, 49.0, 49.05, 49.1, 49.15, 49.2, 49.25, 49.3, 49.35, 49.4, 49.45, 49.5, 49.55, 49.6, 49.65, 49.7, 49.75, 49.8, 49.85, 49.9, 49.95, 50.0, 50.05, 50.1, 50.15, 50.2, 50.25, 50.3, 50.35, 50.4, 50.45, 50.5, 50.55, 50.6, 50.65, 50.7, 50.75, 50.8, 50.85, 50.9, 50.95, 51.0, 51.05, 51.1, 51.15, 51.2, 51.25, 51.3, 51.35, 51.4, 51.45, 51.5, 51.55, 51.6, 51.65, 51.7, 51.75, 51.8, 52.0, 52.1, 52.15, 52.2, 52.3, 52.5, 52.55, 52.7, 52.85, 53.0, 53.1, 53.15, 53.3, 53.35, 53.4, 53.45, 53.5, 53.55, 53.6, 53.65, 53.7, 53.75, 53.8, 53.85, 53.9, 53.95, 54.0, 54.05, 54.1, 54.15, 54.2, 54.25, 54.3, 54.35, 54.4, 54.45, 54.5, 54.55, 54.6, 54.65, 54.7, 54.75, 54.8, 54.85, 54.9, 54.95, 55.0, 55.05, 55.1, 55.15, 55.2, 55.25, 55.3, 55.35, 55.4, 55.45, 55.5, 55.55, 55.6, 55.65, 55.7, 55.75, 55.8, 55.85, 55.9, 55.95, 56.0, 56.05, 56.1, 56.15, 56.2, 56.25, 56.3, 56.35, 56.4, 56.45, 56.5, 56.55, 56.6, 56.65, 56.7, 56.75, 56.8, 56.85, 56.9, 56.95, 57.15, 57.2, 57.45, 57.5, 57.55, 57.6, 57.65, 57.75, 57.8, 57.95, 58.0, 58.2, 58.25, 58.35, 58.4, 58.45, 58.5, 58.55, 58.6, 58.65, 58.7, 58.75, 58.85, 58.9, 58.95, 59.0, 59.05, 59.1, 59.15, 59.2, 59.25, 59.3, 59.4, 59.45, 59.5, 59.55, 59.6, 59.65, 59.7, 59.75, 59.8, 59.85, 59.9, 59.95, 60.0, 60.05, 60.1, 60.15, 60.2, 60.25, 60.3, 60.35, 60.4, 60.45, 60.5, 60.55, 60.6, 60.65, 60.7, 60.75, 60.8, 60.85, 60.9, 60.95, 61.0, 61.05, 61.1, 61.15, 61.2, 61.25, 61.3, 61.35, 61.4, 61.45, 61.5, 61.55, 61.6, 61.65, 61.75, 61.8, 61.9, 61.95, 62.05, 62.1, 62.15, 62.25, 62.3, 62.45, 62.5, 62.55, 62.65, 62.7, 62.8, 62.85, 63.05, 63.1, 63.15, 63.25, 63.3, 63.35, 63.4, 63.55, 63.6, 63.7, 63.75, 63.8, 63.85, 63.9, 63.95, 64.0, 64.05, 64.1, 64.15, 64.2, 64.25, 64.3, 64.35, 64.4, 64.45, 64.5, 64.55, 64.6, 64.65, 64.7, 64.75, 64.8, 64.85, 64.9, 64.95, 65.0, 65.05, 65.1, 65.15, 65.2, 65.25, 65.3, 65.35, 65.4, 65.45, 65.5, 65.55, 65.6, 65.65, 65.7, 65.75, 65.8, 65.85, 65.9, 66.0, 66.05, 66.1, 66.15, 66.2, 66.25, 66.3, 66.35, 66.4, 66.5, 66.6, 66.65, 66.7, 66.75, 66.8, 66.85, 66.9, 67.05, 67.2, 67.25, 67.4, 67.45, 67.5, 67.6, 67.65, 67.7, 67.75, 67.8, 67.85, 67.95, 68.05, 68.1, 68.15, 68.25, 68.3, 68.35, 68.4, 68.45, 68.5, 68.55, 68.6, 68.65, 68.7, 68.75, 68.8, 68.85, 68.9, 68.95, 69.0, 69.05, 69.1, 69.15, 69.2, 69.25, 69.3, 69.35, 69.4, 69.45, 69.5, 69.55, 69.6, 69.65, 69.7, 69.75, 69.8, 69.85, 69.9, 69.95, 70.0, 70.05, 70.1, 70.15, 70.2, 70.25, 70.3, 70.35, 70.4, 70.45, 70.5, 70.55, 70.6, 70.65, 70.7, 70.75, 70.8, 70.85, 70.9, 70.95, 71.0, 71.05, 71.1, 71.15, 71.25, 71.3, 71.35, 71.4, 71.45, 71.5, 71.55, 71.6, 71.65, 71.7, 71.75, 71.8, 71.85, 71.9, 71.95, 72.0, 72.1, 72.15, 72.2, 72.25, 72.35, 72.45, 72.6, 72.65, 72.75, 72.8, 72.85, 72.9, 72.95, 73.0, 73.05, 73.1, 73.15, 73.2, 73.25, 73.3, 73.35, 73.45, 73.5, 73.55, 73.6, 73.65, 73.7, 73.75, 73.8, 73.85, 73.9, 73.95, 74.0, 74.05, 74.1, 74.15, 74.2, 74.25, 74.3, 74.35, 74.4, 74.45, 74.5, 74.55, 74.6, 74.65, 74.7, 74.75, 74.8, 74.85, 74.9, 74.95, 75.0, 75.05, 75.1, 75.15, 75.2, 75.25, 75.3, 75.35, 75.4, 75.45, 75.5, 75.55, 75.6, 75.65, 75.7, 75.75, 75.8, 75.85, 75.9, 75.95, 76.0, 76.05, 76.1, 76.15, 76.2, 76.25, 76.3, 76.35, 76.4, 76.45, 76.5, 76.55, 76.6, 76.65, 76.75, 76.8, 76.85, 76.9, 76.95, 77.0, 77.15, 77.2, 77.3, 77.35, 77.4, 77.5, 77.55, 77.65, 77.75, 77.8, 77.85, 77.9, 77.95, 78.0, 78.05, 78.1, 78.15, 78.2, 78.25, 78.3, 78.35, 78.4, 78.45, 78.5, 78.55, 78.6, 78.65, 78.7, 78.75, 78.8, 78.85, 78.9, 78.95, 79.0, 79.05, 79.1, 79.15, 79.2, 79.25, 79.3, 79.35, 79.4, 79.45, 79.5, 79.55, 79.6, 79.65, 79.7, 79.75, 79.8, 79.85, 79.9, 79.95, 80.0, 80.05, 80.1, 80.15, 80.2, 80.25, 80.3, 80.35, 80.4, 80.45, 80.5, 80.55, 80.6, 80.65, 80.7, 80.75, 80.8, 80.85, 80.9, 80.95, 81.0, 81.05, 81.1, 81.15, 81.2, 81.25, 81.3, 81.35, 81.4, 81.45, 81.5, 81.55, 81.6, 81.65, 81.7, 81.75, 81.8, 81.85, 81.9, 81.95, 82.0, 82.05, 82.1, 82.15, 82.3, 82.35, 82.4, 82.45, 82.5, 82.55, 82.65, 82.7, 82.75, 82.85, 82.9, 82.95, 83.0, 83.05, 83.15, 83.2, 83.25, 83.3, 83.35, 83.4, 83.45, 83.5, 83.55, 83.6, 83.65, 83.7, 83.75, 83.8, 83.85, 83.9, 83.95, 84.0, 84.05, 84.1, 84.15, 84.2, 84.25, 84.3, 84.35, 84.4, 84.45, 84.5, 84.55, 84.6, 84.65, 84.7, 84.75, 84.8, 84.85, 84.9, 84.95, 85.0, 85.05, 85.1, 85.15, 85.2, 85.25, 85.3, 85.35, 85.4, 85.45, 85.5, 85.55, 85.6, 85.65, 85.7, 85.75, 85.8, 85.85, 85.9, 85.95, 86.0, 86.05, 86.1, 86.15, 86.2, 86.25, 86.3, 86.35, 86.4, 86.45, 86.5, 86.55, 86.6, 86.65, 86.7, 86.75, 86.8, 86.85, 86.9, 86.95, 87.0, 87.05, 87.1, 87.15, 87.2, 87.25, 87.3, 87.35, 87.4, 87.45, 87.55, 87.6, 87.65, 87.7, 87.75, 87.8, 87.9, 87.95, 88.0, 88.05, 88.1, 88.15, 88.2, 88.25, 88.3, 88.35, 88.4, 88.45, 88.5, 88.55, 88.6, 88.65, 88.7, 88.75, 88.8, 88.85, 88.9, 88.95, 89.0, 89.05, 89.1, 89.15, 89.2, 89.25, 89.3, 89.35, 89.4, 89.45, 89.5, 89.55, 89.6, 89.65, 89.7, 89.75, 89.8, 89.85, 89.9, 89.95, 90.0, 90.05, 90.1, 90.15, 90.2, 90.25, 90.3, 90.35, 90.4, 90.45, 90.5, 90.55, 90.6, 90.65, 90.7, 90.75, 90.8, 90.85, 90.9, 90.95, 91.0, 91.05, 91.1, 91.15, 91.2, 91.25, 91.3, 91.35, 91.4, 91.45, 91.5, 91.55, 91.6, 91.65, 91.7, 91.75, 91.8, 91.85, 91.95, 92.0, 92.05, 92.1, 92.15, 92.2, 92.3, 92.35, 92.4, 92.45, 92.5, 92.55, 92.6, 92.65, 92.7, 92.85, 92.9, 92.95, 93.0, 93.05, 93.15, 93.2, 93.25, 93.3, 93.35, 93.4, 93.45, 93.5, 93.55, 93.6, 93.65, 93.7, 93.75, 93.8, 93.85, 93.9, 93.95, 94.0, 94.05, 94.1, 94.15, 94.2, 94.25, 94.3, 94.35, 94.4, 94.45, 94.5, 94.55, 94.6, 94.65, 94.7, 94.75, 94.8, 94.85, 94.9, 94.95, 95.0, 95.05, 95.1, 95.15, 95.2, 95.25, 95.3, 95.35, 95.4, 95.45, 95.5, 95.55, 95.6, 95.65, 95.7, 95.75, 95.8, 95.85, 95.9, 95.95, 96.0, 96.05, 96.1, 96.15, 96.2, 96.25, 96.3, 96.35, 96.4, 96.5, 96.55, 96.6, 96.65, 96.7, 96.75, 96.8, 96.85, 96.9, 96.95, 97.0, 97.05, 97.1, 97.2, 97.25, 97.35, 97.45, 97.55, 97.65, 97.7, 97.75, 97.8, 97.85, 97.9, 97.95, 98.0, 98.05, 98.1, 98.15, 98.2, 98.25, 98.3, 98.35, 98.4, 98.45, 98.5, 98.55, 98.6, 98.65, 98.7, 98.75, 98.8, 98.85, 98.9, 99.0, 99.05, 99.1, 99.15, 99.2, 99.25, 99.3, 99.35, 99.4, 99.45, 99.5, 99.55, 99.6, 99.65, 99.7, 99.75, 99.8, 99.85, 99.9, 99.95, 100.0, 100.05, 100.1, 100.15, 100.2, 100.25, 100.3, 100.35, 100.4, 100.45, 100.5, 100.55, 100.6, 100.65, 100.7, 100.75, 100.8, 100.85, 100.9, 100.95, 101.0, 101.05, 101.1, 101.15, 101.25, 101.3, 101.35, 101.4, 101.45, 101.5, 101.55, 101.6, 101.7, 101.75, 101.8, 101.85, 101.9, 101.95, 102.0, 102.05, 102.1, 102.15, 102.25, 102.35, 102.4, 102.45, 102.5, 102.55, 102.6, 102.65, 102.7, 102.8, 102.85, 102.9, 102.95, 103.0, 103.05, 103.1, 103.15, 103.2, 103.25, 103.3, 103.35, 103.4, 103.45, 103.5, 103.6, 103.65, 103.7, 103.75, 103.8, 103.85, 103.9, 103.95, 104.0, 104.05, 104.1, 104.15, 104.2, 104.25, 104.3, 104.35, 104.4, 104.45, 104.5, 104.55, 104.6, 104.65, 104.7, 104.75, 104.8, 104.85, 104.9, 104.95, 105.0, 105.05, 105.1, 105.15, 105.2, 105.25, 105.3, 105.35, 105.4, 105.45, 105.5, 105.55, 105.6, 105.65, 105.7, 105.75, 105.8, 105.85, 105.9, 105.95, 106.0, 106.05, 106.1, 106.15, 106.2, 106.25, 106.3, 106.35, 106.4, 106.45, 106.5, 106.55, 106.6, 106.65, 106.7, 106.75, 106.8, 106.85, 106.9, 106.95, 107.0, 107.05, 107.15, 107.2, 107.25, 107.35, 107.4, 107.45, 107.5, 107.55, 107.6, 107.65, 107.7, 107.75, 107.9, 107.95, 108.0, 108.05, 108.1, 108.15, 108.2, 108.25, 108.3, 108.35, 108.4, 108.45, 108.5, 108.55, 108.6, 108.65, 108.75, 108.8, 108.85, 108.9, 108.95, 109.0, 109.05, 109.1, 109.15, 109.2, 109.25, 109.3, 109.4, 109.45, 109.5, 109.55, 109.6, 109.65, 109.7, 109.75, 109.8, 109.85, 109.9, 109.95, 110.0, 110.05, 110.1, 110.15, 110.2, 110.25, 110.3, 110.35, 110.45, 110.5, 110.55, 110.6, 110.65, 110.7, 110.75, 110.8, 110.85, 110.9, 111.05, 111.1, 111.15, 111.2, 111.25, 111.3, 111.35, 111.4, 111.45, 111.5, 111.55, 111.6, 111.65, 111.75, 111.8, 111.9, 111.95, 112.1, 112.2, 112.25, 112.35, 112.4, 112.55, 112.6, 112.75, 112.9, 112.95, 113.0, 113.05, 113.1, 113.15, 113.2, 113.25, 113.3, 113.35, 113.4, 113.45, 113.6, 113.65, 113.75, 113.8, 113.95, 114.0, 114.05, 114.1, 114.2, 114.3, 114.35, 114.45, 114.5, 114.55, 114.6, 114.65, 114.7, 114.75, 114.85, 114.9, 114.95, 115.0, 115.05, 115.1, 115.15, 115.25, 115.5, 115.55, 115.6, 115.65, 115.75, 115.8, 115.85, 116.0, 116.05, 116.1, 116.15, 116.2, 116.25, 116.3, 116.4, 116.45, 116.5, 116.55, 116.6, 116.75, 116.8, 116.85, 116.95, 117.15, 117.2, 117.35, 117.45, 117.5, 117.6, 117.8, 118.2, 118.35, 118.6, 118.65, 118.75]\n",
            "TotalCharges\n",
            "[18.9, 19.0, 19.05, 19.15, 19.25, 19.45, 19.55, 19.6, 19.75, 19.85, 19.9, 20.0, 20.05, 20.15, 20.2, 20.25, 20.4, 20.45, 20.65, 20.75, 20.8, 24.8, 25.25, 25.35, 25.4, 29.85, 29.95, 30.2, 33.6, 34.75, 35.45, 35.9, 38.0, 38.8, 39.65, 40.2, 44.0, 44.4, 44.8, 45.25, 45.3, 45.6, 45.65, 45.7, 47.7, 48.55, 49.05, 49.3, 49.9, 50.65, 52.2, 55.0, 55.05, 55.2, 57.2, 61.35, 61.7, 62.25, 62.9, 69.55, 70.0, 70.45, 70.6, 71.1, 72.1, 73.6, 74.35, 74.6, 74.7, 75.05, 75.1, 75.3, 79.35, 79.9, 80.0, 80.55, 81.25, 82.15, 83.75, 84.5, 84.6, 85.0, 85.1, 85.7, 89.05, 89.3, 89.5, 89.55, 90.85, 91.1, 92.5, 92.75, 94.15, 96.05, 97.0, 100.2, 100.9, 108.15, 112.75, 113.5, 113.85, 114.1, 114.15, 119.5, 131.05, 132.2, 132.25, 135.2, 137.1, 137.6, 139.05, 139.4, 141.5, 143.65, 144.15, 145.15, 146.6, 147.15, 151.65, 155.8, 161.5, 161.95, 164.3, 167.5, 168.15, 168.2, 174.45, 176.3, 177.4, 178.7, 179.35, 181.5, 181.65, 184.65, 186.3, 190.5, 191.05, 193.05, 195.65, 202.15, 202.25, 202.9, 204.55, 208.45, 208.85, 214.75, 219.35, 220.35, 220.45, 222.3, 225.75, 229.55, 229.6, 233.55, 233.7, 233.9, 237.2, 237.3, 237.7, 238.1, 242.8, 244.1, 244.75, 244.8, 248.4, 248.95, 251.6, 265.45, 268.35, 270.7, 273.0, 273.4, 275.7, 284.35, 292.8, 298.7, 299.05, 301.9, 302.6, 311.6, 313.6, 316.9, 318.1, 321.4, 322.9, 326.8, 330.6, 334.8, 341.6, 346.2, 350.35, 356.1, 356.65, 362.6, 363.15, 367.55, 371.9, 372.45, 381.3, 385.9, 394.85, 396.1, 401.1, 406.95, 415.1, 415.55, 417.0, 418.25, 419.4, 419.9, 422.3, 422.6, 428.7, 435.4, 445.95, 449.3, 453.4, 454.15, 475.25, 475.7, 482.25, 489.45, 490.65, 492.55, 493.4, 496.9, 498.25, 502.85, 503.6, 507.4, 511.25, 514.75, 515.45, 515.75, 516.15, 518.9, 522.95, 528.35, 531.0, 540.05, 554.05, 563.65, 564.35, 564.4, 565.35, 567.8, 574.35, 587.4, 587.45, 597.0, 597.9, 601.6, 605.9, 606.55, 624.15, 624.6, 631.4, 633.3, 644.35, 654.55, 655.3, 655.5, 662.65, 663.05, 673.25, 680.05, 681.4, 686.95, 690.25, 697.25, 697.65, 702.0, 713.75, 720.05, 731.3, 734.35, 739.35, 759.55, 760.05, 764.55, 771.95, 780.2, 805.1, 820.5, 830.8, 834.1, 835.15, 840.1, 846.0, 851.8, 855.1, 855.3, 857.25, 858.6, 865.0, 865.1, 868.1, 880.05, 887.35, 889.0, 894.3, 899.45, 903.6, 903.8, 905.55, 916.15, 918.75, 927.1, 927.15, 927.35, 927.65, 930.9, 938.65, 945.7, 957.1, 963.95, 973.35, 973.65, 981.45, 994.8, 996.85, 1008.55, 1009.25, 1013.05, 1021.75, 1022.95, 1023.85, 1024.0, 1024.7, 1033.95, 1039.45, 1057.0, 1058.1, 1058.25, 1064.65, 1066.15, 1071.4, 1074.3, 1090.65, 1093.1, 1099.6, 1103.25, 1105.4, 1107.2, 1108.2, 1110.5, 1111.65, 1112.3, 1120.3, 1124.2, 1126.35, 1145.7, 1152.8, 1153.25, 1164.05, 1166.7, 1167.6, 1170.5, 1170.55, 1174.8, 1175.6, 1181.75, 1182.55, 1183.8, 1188.2, 1192.7, 1195.25, 1195.75, 1203.95, 1215.65, 1216.6, 1228.65, 1229.1, 1238.45, 1252.0, 1253.8, 1266.4, 1269.55, 1270.25, 1277.5, 1277.75, 1288.75, 1292.6, 1303.5, 1305.95, 1315.35, 1328.15, 1336.1, 1339.8, 1355.1, 1357.1, 1360.25, 1363.25, 1363.45, 1364.3, 1373.05, 1375.4, 1395.05, 1397.65, 1406.0, 1410.25, 1414.45, 1415.0, 1417.9, 1424.6, 1426.4, 1430.25, 1442.0, 1442.6, 1444.65, 1453.1, 1468.75, 1470.05, 1502.65, 1509.8, 1510.3, 1511.2, 1519.0, 1520.1, 1530.6, 1545.4, 1546.3, 1551.6, 1559.25, 1563.95, 1566.9, 1592.35, 1600.25, 1614.05, 1620.2, 1623.4, 1642.75, 1652.95, 1653.45, 1667.25, 1671.6, 1683.7, 1710.9, 1712.7, 1723.95, 1732.6, 1732.95, 1752.55, 1752.65, 1756.2, 1758.6, 1778.5, 1779.95, 1782.4, 1783.6, 1785.65, 1803.7, 1818.3, 1821.95, 1830.1, 1832.4, 1836.9, 1840.75, 1842.8, 1845.9, 1861.5, 1862.9, 1874.45, 1882.55, 1886.25, 1889.5, 1899.65, 1901.05, 1901.65, 1907.85, 1929.35, 1929.95, 1934.45, 1940.8, 1949.4, 1955.4, 1968.1, 1975.85, 2003.6, 2007.25, 2015.35, 2021.2, 2054.4, 2088.05, 2111.3, 2135.5, 2145.0, 2149.05, 2151.6, 2172.05, 2211.8, 2215.45, 2227.1, 2231.05, 2236.2, 2263.4, 2278.75, 2303.35, 2309.55, 2317.1, 2339.3, 2344.5, 2348.45, 2356.75, 2369.3, 2379.1, 2395.7, 2423.4, 2438.6, 2453.3, 2473.95, 2494.65, 2497.2, 2499.3, 2514.5, 2516.2, 2524.45, 2531.8, 2545.75, 2548.65, 2550.9, 2566.5, 2570.2, 2588.95, 2595.25, 2596.15, 2633.3, 2647.2, 2651.2, 2664.3, 2681.15, 2684.85, 2686.05, 2688.85, 2708.2, 2723.15, 2747.2, 2754.0, 2758.15, 2768.35, 2799.75, 2830.45, 2838.55, 2848.45, 2852.4, 2854.95, 2861.45, 2868.15, 2878.55, 2879.9, 2937.65, 2958.95, 2962.0, 2964.0, 2970.3, 3009.5, 3015.75, 3027.25, 3027.65, 3036.75, 3042.25, 3046.05, 3058.65, 3082.1, 3084.9, 3089.1, 3105.55, 3109.9, 3139.8, 3141.7, 3161.2, 3173.35, 3187.65, 3204.4, 3236.35, 3260.1, 3266.0, 3327.05, 3339.05, 3340.55, 3342.45, 3344.1, 3355.65, 3365.4, 3418.2, 3423.5, 3437.45, 3437.5, 3442.15, 3450.15, 3480.0, 3487.95, 3505.1, 3527.6, 3539.25, 3545.05, 3548.3, 3549.25, 3565.65, 3566.6, 3582.4, 3590.2, 3597.5, 3605.6, 3608.0, 3646.8, 3650.35, 3662.25, 3682.45, 3687.75, 3694.7, 3739.8, 3741.85, 3775.85, 3789.2, 3808.0, 3838.75, 3848.8, 3899.05, 3902.6, 3906.7, 3921.3, 3941.7, 3944.5, 3954.1, 3958.25, 3959.15, 3975.7, 3983.6, 3985.35, 4016.75, 4018.05, 4039.3, 4063.0, 4103.9, 4107.25, 4109.0, 4113.1, 4131.95, 4145.9, 4149.45, 4176.7, 4179.2, 4188.4, 4189.7, 4217.8, 4245.55, 4254.1, 4264.0, 4287.2, 4298.45, 4326.8, 4327.5, 4350.1, 4422.95, 4456.35, 4459.15, 4473.0, 4487.3, 4508.65, 4543.15, 4547.25, 4614.55, 4616.05, 4619.55, 4687.9, 4707.1, 4713.4, 4732.35, 4738.3, 4747.5, 4747.65, 4748.7, 4749.15, 4758.8, 4759.85, 4784.45, 4805.65, 4811.6, 4859.25, 4860.35, 4861.45, 4872.35, 4874.7, 4874.8, 4884.85, 4889.3, 4895.1, 4903.2, 4908.25, 4911.35, 4925.35, 4946.7, 4973.4, 5000.2, 5023.0, 5029.05, 5032.25, 5036.3, 5067.45, 5070.4, 5138.1, 5154.5, 5215.25, 5222.3, 5238.9, 5265.5, 5289.05, 5293.95, 5308.7, 5324.5, 5357.75, 5376.4, 5411.4, 5430.35, 5435.0, 5436.45, 5450.7, 5453.4, 5468.45, 5502.55, 5509.3, 5515.45, 5526.75, 5589.3, 5600.15, 5608.4, 5610.7, 5614.45, 5624.85, 5656.75, 5676.0, 5681.1, 5686.4, 5706.3, 5714.25, 5730.7, 5755.8, 5760.65, 5774.55, 5791.1, 5794.65, 5812.0, 5817.0, 5861.75, 5916.95, 5965.95, 5971.25, 5986.45, 6017.65, 6033.3, 6049.5, 6094.25, 6125.4, 6126.15, 6130.85, 6132.7, 6139.5, 6148.45, 6152.3, 6201.95, 6223.8, 6254.45, 6300.15, 6311.2, 6316.2, 6350.5, 6369.45, 6396.45, 6416.7, 6425.65, 6430.9, 6519.75, 6538.45, 6562.9, 6563.4, 6588.95, 6597.25, 6603.0, 6654.1, 6668.05, 6697.35, 6744.2, 6744.25, 6751.35, 6766.95, 6786.4, 6819.45, 6823.4, 6858.9, 6962.85, 6976.75, 6985.65, 7085.5, 7246.15, 7250.15, 7379.8, 7422.1, 7589.8, 7611.55, 7616.0, 7882.25, 7943.45, 7966.9, 8003.8, 8065.65, 8071.05, 8196.4, 8220.4, 8248.5, 8306.05, 8399.15, 8404.9, nan, 18.8, 18.85, 19.1, 19.2, 19.3, 19.4, 19.5, 19.65, 19.7, 19.8, 19.95, 20.1, 20.3, 20.35, 20.5, 20.55, 20.6, 20.7, 20.85, 20.9, 20.95, 21.0, 21.05, 21.1, 23.45, 24.0, 24.05, 24.2, 24.25, 24.4, 24.45, 24.6, 24.7, 24.75, 24.9, 25.0, 25.05, 25.1, 25.15, 25.2, 25.3, 25.7, 25.75, 25.8, 25.85, 27.55, 28.3, 29.15, 29.7, 29.9, 30.5, 30.55, 31.2, 31.35, 31.55, 31.9, 32.7, 33.2, 33.7, 34.7, 34.8, 35.0, 35.05, 35.1, 35.25, 35.55, 35.75, 35.85, 36.45, 36.55, 36.8, 37.2, 38.15, 38.25, 38.45, 38.7, 39.25, 39.3, 39.8, 39.85, 40.1, 40.25, 40.9, 41.2, 41.85, 42.45, 42.7, 42.9, 43.15, 43.3, 43.8, 43.85, 43.95, 44.05, 44.1, 44.15, 44.2, 44.3, 44.35, 44.45, 44.55, 44.6, 44.65, 44.7, 44.75, 44.9, 44.95, 45.0, 45.05, 45.1, 45.15, 45.2, 45.35, 45.4, 45.55, 45.75, 45.8, 45.85, 45.95, 46.0, 46.2, 46.3, 46.35, 46.4, 47.5, 47.95, 48.35, 48.45, 48.6, 48.75, 48.95, 49.0, 49.25, 49.5, 49.55, 49.65, 49.7, 49.75, 49.8, 49.85, 49.95, 50.05, 50.1, 50.15, 50.35, 50.45, 50.5, 50.55, 50.6, 50.7, 50.75, 50.8, 50.9, 51.15, 51.2, 51.25, 51.6, 52.0, 52.05, 53.05, 53.15, 53.5, 53.55, 53.95, 54.3, 54.35, 54.5, 54.65, 54.7, 54.75, 54.9, 55.25, 55.3, 55.4, 55.45, 55.55, 55.7, 55.8, 56.0, 56.25, 56.35, 57.4, 57.5, 58.0, 58.15, 58.3, 58.85, 58.9, 59.05, 59.2, 59.25, 59.55, 59.75, 59.85, 60.0, 60.1, 60.15, 60.65, 61.05, 61.15, 61.45, 62.0, 62.05, 62.8, 63.0, 63.15, 63.6, 63.75, 64.55, 65.95, 66.95, 67.1, 67.55, 68.2, 68.35, 68.45, 68.5, 68.65, 68.75, 68.8, 68.95, 69.1, 69.15, 69.2, 69.25, 69.35, 69.4, 69.5, 69.6, 69.65, 69.7, 69.75, 69.8, 69.85, 69.9, 69.95, 70.05, 70.1, 70.15, 70.2, 70.25, 70.3, 70.35, 70.4, 70.5, 70.55, 70.65, 70.7, 70.75, 70.8, 70.85, 70.9, 71.0, 71.15, 71.2, 71.25, 71.35, 71.55, 71.65, 72.0, 72.4, 73.0, 73.05, 73.1, 73.45, 73.5, 73.55, 73.65, 74.0, 74.1, 74.2, 74.25, 74.3, 74.4, 74.45, 74.5, 74.9, 74.95, 75.35, 75.45, 75.5, 75.55, 75.6, 75.7, 75.75, 75.8, 75.9, 76.0, 76.2, 76.35, 76.4, 76.45, 76.65, 76.95, 77.15, 77.5, 77.6, 77.75, 78.05, 78.25, 78.3, 78.45, 78.65, 78.8, 78.9, 78.95, 79.05, 79.1, 79.15, 79.2, 79.25, 79.45, 79.5, 79.55, 79.6, 79.65, 79.7, 79.8, 79.95, 80.05, 80.15, 80.2, 80.25, 80.3, 80.35, 80.5, 80.8, 80.85, 80.95, 81.0, 81.05, 81.1, 81.7, 81.95, 82.3, 82.7, 82.85, 82.9, 83.3, 83.4, 84.2, 84.3, 84.4, 84.65, 84.75, 84.8, 84.85, 85.05, 85.15, 85.45, 85.5, 85.55, 85.8, 86.0, 86.05, 86.35, 86.6, 87.3, 87.9, 88.35, 88.8, 89.1, 89.15, 89.25, 89.35, 89.75, 89.9, 90.05, 90.1, 90.35, 90.55, 90.6, 90.75, 91.3, 91.4, 91.45, 91.7, 92.05, 92.25, 92.45, 92.65, 93.3, 93.4, 93.45, 93.55, 93.7, 93.85, 94.0, 94.4, 94.45, 94.5, 94.55, 94.6, 95.0, 95.05, 95.1, 95.45, 95.55, 95.6, 95.65, 95.85, 96.1, 96.45, 96.8, 96.85, 97.1, 97.5, 98.35, 98.5, 99.45, 99.6, 99.75, 99.95, 100.25, 100.35, 100.4, 100.8, 101.1, 101.45, 101.65, 101.9, 102.45, 102.5, 102.75, 103.7, 104.2, 104.3, 105.5, 105.6, 106.2, 106.55, 106.8, 106.85, 106.9, 107.05, 107.1, 107.25, 107.6, 108.05, 108.65, 108.7, 108.95, 109.2, 109.25, 109.3, 109.5, 109.6, 109.8, 110.05, 110.15, 111.05, 111.4, 111.65, 112.3, 113.1, 113.35, 113.55, 113.95, 114.7, 115.1, 115.95, 116.6, 116.65, 116.85, 116.95, 117.05, 117.8, 117.95, 118.25, 118.3, 118.4, 118.5, 119.3, 119.75, 120.25, 121.25, 122.0, 122.7, 122.9, 123.05, 123.65, 123.8, 124.4, 124.45, 125.0, 125.5, 125.95, 126.05, 127.1, 128.6, 129.15, 129.2, 129.55, 129.6, 130.1, 130.15, 130.25, 130.5, 130.55, 130.75, 131.65, 132.4, 134.05, 134.35, 134.5, 134.6, 134.7, 134.75, 135.0, 135.75, 136.05, 136.75, 137.25, 137.85, 137.95, 138.85, 139.25, 139.35, 139.75, 140.1, 140.4, 140.7, 140.95, 141.1, 141.45, 141.6, 141.65, 141.7, 142.35, 143.35, 143.9, 144.0, 144.35, 144.55, 144.8, 144.95, 145.0, 145.4, 146.05, 146.3, 146.4, 146.65, 146.9, 147.5, 147.55, 147.75, 147.8, 148.05, 149.05, 149.55, 150.0, 150.35, 150.6, 150.75, 150.85, 151.3, 151.75, 151.8, 152.3, 152.45, 152.6, 152.7, 152.95, 153.05, 153.3, 153.8, 153.95, 154.3, 154.55, 154.65, 154.8, 154.85, 155.35, 155.65, 155.9, 156.1, 156.25, 156.35, 156.4, 156.85, 157.55, 157.65, 157.75, 158.35, 158.4, 158.95, 159.15, 159.2, 159.35, 159.4, 159.45, 160.05, 160.75, 160.8, 160.85, 161.15, 161.45, 161.65, 162.15, 162.3, 162.45, 162.55, 163.2, 163.55, 163.6, 163.7, 164.5, 164.6, 164.85, 165.0, 165.2, 165.35, 165.4, 165.45, 165.5, 166.3, 167.2, 167.3, 168.5, 168.6, 168.65, 168.9, 169.05, 169.45, 169.65, 169.75, 169.8, 170.5, 170.85, 170.9, 171.0, 171.15, 171.45, 172.35, 172.85, 173.0, 173.15, 174.2, 174.3, 174.65, 174.7, 174.75, 174.8, 176.2, 178.1, 178.5, 178.8, 178.85, 179.25, 179.85, 180.25, 180.3, 180.7, 181.1, 181.6, 181.7, 181.8, 183.15, 183.75, 184.05, 184.1, 184.15, 184.4, 184.95, 185.2, 185.4, 185.55, 185.6, 186.05, 186.15, 187.35, 187.45, 187.75, 188.1, 188.7, 189.1, 189.2, 189.45, 189.95, 190.05, 190.1, 190.25, 191.1, 191.35, 193.6, 193.8, 194.2, 194.55, 195.05, 195.3, 196.15, 196.35, 196.4, 196.75, 196.9, 196.95, 197.4, 197.7, 198.0, 198.1, 198.25, 198.5, 198.6, 198.7, 199.45, 199.75, 199.85, 200.2, 201.0, 201.1, 201.7, 201.95, 202.3, 203.95, 204.7, 205.05, 206.15, 206.6, 207.35, 207.4, 208.0, 208.25, 208.7, 209.1, 209.9, 210.3, 210.65, 210.75, 211.95, 212.3, 212.4, 213.35, 214.4, 214.55, 215.2, 215.25, 215.8, 216.2, 216.45, 216.75, 216.9, 217.1, 217.45, 217.5, 217.55, 218.5, 218.55, 219.0, 219.5, 219.65, 220.1, 220.4, 220.6, 220.65, 220.75, 220.8, 220.95, 221.1, 221.35, 221.7, 221.9, 222.65, 223.15, 223.45, 223.6, 223.75, 223.9, 224.05, 224.5, 224.85, 225.55, 225.6, 225.65, 225.85, 226.2, 226.45, 226.55, 226.8, 226.95, 227.35, 227.45, 228.0, 228.4, 228.65, 228.75, 229.4, 229.5, 229.7, 231.45, 231.8, 232.1, 232.35, 232.4, 232.5, 232.55, 233.65, 234.85, 235.0, 235.05, 235.1, 235.2, 235.5, 235.65, 235.8, 237.25, 237.65, 237.75, 237.95, 238.15, 238.5, 239.0, 239.05, 239.45, 239.55, 239.75, 240.45, 241.3, 242.0, 242.05, 242.4, 242.95, 243.65, 244.45, 244.65, 244.85, 245.15, 245.2, 246.25, 246.3, 246.5, 246.6, 246.7, 247.0, 247.25, 249.4, 249.55, 249.95, 250.05, 250.1, 250.8, 251.25, 251.65, 251.75, 252.0, 252.75, 253.0, 253.8, 253.9, 254.5, 255.25, 255.35, 255.5, 255.55, 255.6, 256.25, 256.6, 256.75, 257.0, 257.05, 257.6, 258.35, 259.4, 259.65, 259.8, 260.7, 260.8, 260.9, 261.25, 261.3, 261.65, 262.05, 262.3, 263.05, 263.65, 264.55, 264.8, 264.85, 265.3, 265.35, 265.75, 265.8, 266.6, 266.8, 266.9, 266.95, 267.0, 267.35, 267.4, 267.6, 268.4, 268.45, 269.65, 270.15, 270.2, 270.6, 270.8, 270.95, 272.0, 272.15, 272.2, 272.35, 272.95, 273.2, 273.25, 273.75, 274.35, 274.7, 275.4, 275.9, 276.5, 278.4, 278.85, 279.2, 279.25, 279.3, 279.5, 279.55, 280.0, 280.35, 280.4, 280.85, 281.0, 283.75, 283.95, 284.3, 284.9, 285.2, 286.8, 287.4, 287.85, 288.05, 288.35, 289.1, 289.3, 290.55, 291.4, 291.45, 291.9, 292.4, 292.85, 293.15, 293.3, 293.65, 293.85, 294.2, 294.45, 294.5, 294.9, 294.95, 295.55, 295.65, 295.95, 296.1, 296.15, 297.3, 297.35, 298.35, 298.45, 299.2, 299.3, 299.4, 299.7, 299.75, 300.4, 300.7, 300.8, 301.4, 301.55, 302.35, 302.45, 302.75, 303.15, 303.7, 304.6, 305.1, 305.55, 305.95, 306.05, 306.6, 307.0, 307.4, 307.6, 308.05, 308.1, 308.25, 308.7, 309.1, 309.25, 309.35, 309.4, 310.6, 312.7, 313.0, 313.4, 313.45, 314.45, 314.55, 314.6, 314.95, 315.3, 316.2, 317.25, 317.75, 318.5, 318.6, 318.9, 319.15, 319.6, 319.85, 320.4, 320.45, 321.05, 321.65, 321.7, 321.75, 321.9, 322.5, 323.15, 323.25, 323.45, 324.15, 324.2, 324.25, 324.3, 324.6, 324.8, 325.45, 326.65, 327.45, 328.95, 329.75, 329.8, 329.95, 330.05, 330.15, 330.25, 330.8, 331.3, 331.35, 331.6, 331.85, 331.9, 332.45, 332.5, 332.65, 333.55, 333.6, 333.65, 334.65, 335.4, 335.65, 335.75, 335.95, 336.15, 336.7, 337.9, 338.1, 338.9, 339.9, 340.25, 340.35, 340.4, 340.85, 341.35, 341.45, 342.3, 342.4, 343.45, 343.6, 343.95, 344.2, 344.5, 345.5, 345.9, 346.4, 346.45, 347.25, 347.4, 347.65, 348.15, 348.8, 349.65, 349.8, 350.1, 350.3, 351.5, 351.55, 352.65, 353.65, 354.05, 355.1, 355.2, 355.9, 356.15, 357.0, 357.15, 357.6, 357.7, 357.75, 358.05, 358.15, 358.5, 359.4, 360.1, 360.35, 360.55, 362.2, 364.55, 365.35, 365.4, 365.55, 365.65, 365.8, 367.95, 368.1, 368.85, 369.05, 369.1, 369.15, 369.25, 369.3, 369.6, 370.25, 370.4, 370.5, 370.65, 371.4, 371.6, 371.65, 373.0, 373.5, 374.0, 374.5, 374.8, 375.25, 377.55, 377.85, 378.4, 378.6, 381.2, 382.2, 382.8, 383.55, 383.65, 384.25, 384.5, 385.0, 385.55, 386.5, 387.2, 387.4, 387.7, 387.9, 388.6, 389.1, 389.25, 389.6, 389.8, 389.95, 390.4, 390.85, 391.7, 392.5, 392.65, 393.15, 393.45, 394.1, 395.6, 396.3, 397.0, 398.55, 399.25, 399.45, 399.6, 400.0, 400.3, 401.3, 401.5, 401.85, 401.95, 402.5, 402.6, 402.85, 403.15, 403.35, 404.2, 404.35, 405.6, 405.7, 406.05, 407.05, 408.25, 408.5, 409.9, 411.15, 411.25, 411.45, 411.6, 411.75, 412.1, 412.5, 412.55, 412.6, 413.0, 413.25, 413.65, 414.1, 414.95, 415.05, 415.4, 415.9, 415.95, 416.3, 416.4, 416.45, 417.5, 417.65, 417.7, 417.75, 418.3, 418.4, 418.8, 419.35, 419.7, 420.2, 420.45, 422.4, 422.5, 422.7, 424.15, 424.45, 424.5, 424.75, 425.1, 425.9, 426.35, 426.65, 428.45, 429.55, 431.0, 432.25, 432.5, 433.5, 433.75, 433.95, 434.1, 434.5, 434.8, 435.0, 435.25, 435.45, 436.2, 436.6, 436.9, 438.0, 438.05, 438.25, 438.4, 438.9, 439.2, 439.75, 440.2, 442.2, 442.45, 442.6, 442.85, 443.9, 444.75, 445.3, 445.85, 446.05, 446.1, 446.8, 447.75, 447.9, 449.75, 450.4, 450.65, 450.8, 450.9, 451.1, 451.55, 452.2, 452.35, 452.55, 452.7, 452.8, 453.75, 454.0, 454.05, 454.65, 455.3, 455.5, 456.85, 457.1, 457.3, 458.1, 459.6, 459.95, 460.2, 460.25, 461.3, 461.7, 462.8, 463.05, 463.6, 465.05, 465.45, 465.7, 465.85, 466.6, 467.15, 467.5, 467.55, 467.7, 467.85, 468.35, 469.25, 469.65, 469.8, 469.85, 470.0, 470.2, 470.6, 470.95, 471.35, 471.55, 471.7, 471.85, 472.25, 472.65, 473.9, 474.8, 474.9, 475.0, 475.1, 475.2, 476.8, 477.05, 477.55, 477.6, 477.7, 478.1, 478.75, 480.6, 480.75, 481.1, 482.8, 483.15, 483.3, 483.7, 484.05, 485.2, 485.25, 485.9, 486.05, 486.2, 486.85, 487.05, 487.75, 487.95, 488.25, 488.65, 490.55, 492.0, 492.1, 493.65, 493.95, 494.05, 494.9, 494.95, 495.15, 497.3, 497.55, 497.6, 498.1, 499.4, 500.1, 501.0, 501.2, 501.35, 502.6, 503.25, 504.05, 504.2, 505.45, 505.9, 505.95, 506.9, 507.9, 509.3, 510.8, 512.25, 512.45, 514.0, 514.6, 516.3, 518.3, 518.75, 519.15, 520.0, 520.1, 520.55, 520.95, 521.0, 521.1, 521.3, 521.35, 521.8, 521.9, 522.35, 523.1, 523.15, 523.5, 524.35, 524.5, 525.0, 525.55, 526.7, 526.95, 527.35, 527.5, 527.9, 528.45, 529.5, 529.8, 530.05, 531.15, 531.55, 531.6, 532.1, 533.05, 533.5, 533.6, 533.9, 534.7, 535.05, 535.35, 535.55, 536.35, 536.4, 537.35, 538.2, 538.5, 539.85, 540.95, 541.15, 541.5, 541.9, 542.4, 543.0, 543.8, 544.55, 545.15, 545.2, 546.45, 546.85, 546.95, 547.65, 547.8, 548.8, 548.9, 550.1, 550.35, 550.6, 551.3, 551.35, 551.95, 552.1, 552.65, 552.7, 552.9, 552.95, 553.0, 553.4, 554.25, 554.45, 555.4, 556.35, 558.8, 559.2, 560.6, 560.85, 561.15, 562.6, 562.7, 563.05, 563.5, 564.65, 565.75, 566.1, 566.5, 567.45, 568.2, 568.85, 571.05, 571.15, 571.45, 571.75, 572.2, 572.45, 572.85, 573.05, 573.15, 573.3, 573.75, 574.5, 575.45, 576.65, 576.7, 576.95, 577.15, 577.6, 578.5, 579.0, 579.4, 580.1, 580.8, 581.7, 581.85, 582.5, 583.0, 583.3, 583.45, 585.95, 586.05, 587.1, 587.7, 589.25, 590.35, 592.65, 592.75, 593.05, 593.2, 593.3, 593.45, 593.75, 593.85, 595.05, 595.5, 599.25, 599.3, 600.0, 600.15, 600.25, 601.25, 601.55, 602.55, 602.9, 603.0, 604.7, 605.25, 605.45, 605.75, 606.25, 607.3, 607.7, 608.0, 608.15, 608.5, 608.8, 609.05, 609.1, 609.65, 609.9, 610.2, 610.75, 611.45, 611.65, 612.1, 612.95, 613.4, 613.95, 614.45, 615.35, 616.9, 617.15, 617.35, 617.65, 617.85, 620.35, 620.55, 620.75, 622.9, 625.05, 625.65, 627.4, 628.65, 629.35, 629.55, 630.6, 631.85, 632.2, 632.95, 633.4, 633.45, 633.85, 635.6, 635.9, 637.4, 637.55, 638.0, 638.55, 638.95, 639.45, 639.65, 639.7, 641.15, 641.25, 641.35, 644.5, 645.8, 646.05, 646.85, 647.5, 648.65, 649.4, 649.65, 651.4, 651.5, 651.55, 653.15, 653.25, 653.9, 653.95, 654.5, 654.85, 655.85, 655.9, 657.5, 658.1, 658.95, 659.35, 659.45, 659.65, 660.05, 660.9, 661.25, 661.55, 662.95, 663.55, 664.4, 665.45, 666.0, 666.75, 667.7, 668.4, 668.85, 669.0, 669.45, 669.85, 670.35, 670.65, 672.2, 672.55, 672.7, 673.1, 673.2, 674.55, 675.6, 676.15, 676.35, 676.7, 677.05, 677.9, 678.2, 678.45, 678.75, 678.8, 679.0, 679.3, 679.55, 679.8, 679.85, 682.1, 682.15, 683.25, 683.75, 684.05, 684.4, 684.85, 685.55, 688.0, 688.2, 688.5, 688.65, 689.0, 689.35, 689.75, 690.5, 692.1, 692.35, 692.55, 693.3, 693.45, 695.05, 695.75, 695.85, 696.35, 696.8, 697.7, 700.45, 700.85, 701.05, 701.3, 702.05, 702.9, 703.55, 704.3, 705.45, 706.6, 706.85, 707.5, 708.2, 708.8, 709.5, 710.05, 711.15, 711.9, 711.95, 712.25, 712.75, 712.85, 713.0, 713.1, 713.6, 714.15, 715.0, 716.1, 716.4, 717.3, 717.5, 717.95, 718.1, 718.55, 720.1, 720.45, 723.3, 723.35, 723.4, 724.65, 726.1, 727.8, 727.85, 729.95, 730.1, 730.4, 732.5, 733.35, 733.55, 733.95, 734.6, 735.5, 735.9, 736.8, 738.2, 739.9, 740.0, 740.3, 740.55, 740.8, 741.0, 741.4, 741.5, 741.7, 742.9, 742.95, 743.05, 743.3, 743.5, 743.75, 745.3, 746.05, 746.5, 746.75, 747.2, 749.25, 749.35, 750.1, 751.65, 754.0, 754.5, 754.65, 755.4, 755.5, 755.6, 756.4, 757.1, 757.95, 758.6, 759.35, 761.85, 761.95, 762.1, 762.25, 762.45, 762.5, 763.1, 764.95, 765.15, 765.45, 765.5, 767.55, 767.9, 768.05, 768.45, 769.1, 770.4, 770.5, 770.6, 772.4, 772.85, 773.2, 773.65, 775.3, 775.6, 776.25, 777.3, 777.35, 778.1, 779.2, 779.25, 780.1, 780.15, 780.25, 780.5, 780.85, 781.25, 781.4, 784.25, 784.45, 785.75, 786.3, 786.5, 788.05, 788.35, 788.55, 788.6, 788.8, 789.2, 789.55, 790.0, 790.15, 790.7, 791.15, 791.7, 791.75, 792.15, 793.55, 794.25, 795.15, 795.65, 797.1, 797.25, 798.2, 799.0, 799.65, 800.3, 801.3, 802.35, 803.3, 804.25, 804.85, 805.2, 806.95, 808.95, 809.25, 809.75, 810.2, 810.3, 810.45, 810.7, 810.85, 811.65, 811.8, 812.4, 812.5, 813.3, 813.45, 813.85, 814.75, 815.5, 815.55, 816.8, 817.95, 818.05, 818.45, 819.4, 819.55, 819.95, 821.6, 824.75, 824.85, 825.1, 825.4, 825.7, 826.0, 826.1, 827.05, 827.3, 827.45, 827.7, 828.05, 828.2, 828.85, 829.1, 829.3, 829.55, 830.25, 830.7, 830.85, 831.75, 832.05, 832.3, 832.35, 833.55, 834.15, 834.2, 834.7, 835.5, 836.35, 837.5, 837.95, 838.5, 838.7, 839.4, 839.65, 842.25, 842.9, 844.45, 845.25, 845.6, 846.8, 847.25, 847.3, 847.8, 849.1, 849.9, 851.2, 851.75, 852.7, 853.0, 853.1, 854.45, 854.8, 854.9, 856.35, 856.5, 856.65, 857.2, 857.75, 857.8, 860.85, 861.85, 862.4, 863.1, 864.2, 864.55, 864.85, 865.05, 865.55, 865.75, 865.8, 865.85, 866.4, 866.45, 867.1, 867.3, 868.5, 869.9, 870.25, 871.4, 872.65, 873.4, 874.2, 874.8, 875.35, 875.55, 876.15, 876.75, 877.35, 878.35, 879.8, 880.2, 882.55, 883.35, 886.4, 886.7, 888.65, 888.75, 889.9, 890.35, 890.5, 890.6, 892.15, 892.65, 892.7, 893.0, 893.2, 893.55, 896.75, 896.9, 897.75, 898.35, 899.8, 900.5, 900.9, 901.25, 902.0, 902.25, 903.7, 906.85, 907.05, 908.15, 908.55, 908.75, 909.25, 910.45, 911.6, 912.0, 913.3, 914.0, 914.3, 914.4, 914.6, 916.0, 916.75, 916.9, 917.15, 917.45, 918.6, 918.7, 919.4, 920.5, 921.3, 921.4, 921.55, 923.1, 923.5, 923.85, 926.0, 926.2, 926.25, 928.4, 929.2, 929.3, 929.45, 930.05, 930.4, 930.45, 930.95, 931.55, 931.75, 931.9, 933.3, 934.1, 934.15, 934.8, 935.9, 936.7, 936.85, 937.1, 937.5, 937.6, 938.95, 939.7, 939.8, 940.35, 941.0, 942.95, 943.0, 943.1, 943.85, 944.65, 946.95, 947.3, 947.4, 947.75, 948.9, 949.8, 949.85, 950.2, 950.75, 951.55, 952.3, 953.45, 953.65, 954.9, 955.15, 955.6, 955.75, 956.65, 958.1, 958.15, 958.25, 958.45, 959.9, 961.4, 962.25, 962.9, 964.35, 964.9, 966.25, 966.55, 967.85, 967.9, 969.85, 970.4, 970.45, 970.55, 970.85, 971.3, 973.1, 973.25, 973.45, 973.55, 973.95, 978.0, 978.6, 979.05, 979.5, 980.35, 982.95, 985.05, 987.95, 989.05, 989.45, 990.3, 990.45, 990.85, 990.9, 992.7, 993.15, 994.55, 995.35, 996.45, 996.95, 997.65, 997.75, 998.1, 999.45, 999.8, 999.9, 1001.2, 1001.5, 1003.05, 1004.35, 1004.5, 1004.75, 1005.7, 1006.9, 1007.8, 1007.9, 1008.7, 1010.0, 1011.05, 1011.5, 1011.8, 1012.4, 1013.2, 1013.35, 1013.6, 1014.25, 1016.7, 1017.35, 1020.2, 1020.75, 1021.55, 1021.8, 1022.5, 1022.6, 1023.75, 1023.9, 1023.95, 1024.65, 1025.05, 1025.15, 1025.95, 1026.35, 1027.25, 1028.75, 1028.9, 1029.35, 1029.75, 1029.8, 1031.1, 1031.4, 1031.7, 1032.0, 1032.05, 1033.0, 1033.9, 1035.5, 1035.7, 1036.0, 1036.75, 1037.75, 1041.8, 1042.65, 1043.3, 1043.35, 1043.4, 1043.8, 1045.25, 1046.1, 1046.2, 1046.5, 1047.7, 1048.45, 1048.85, 1049.05, 1049.6, 1050.5, 1051.05, 1051.9, 1052.35, 1052.4, 1054.6, 1054.75, 1054.8, 1055.9, 1056.95, 1057.55, 1057.85, 1058.6, 1059.55, 1060.2, 1060.6, 1061.6, 1062.1, 1064.95, 1066.9, 1067.05, 1067.15, 1067.65, 1068.15, 1068.85, 1070.15, 1070.25, 1070.5, 1070.7, 1071.6, 1072.0, 1072.6, 1073.3, 1074.65, 1077.05, 1077.5, 1077.95, 1078.75, 1078.9, 1079.05, 1079.45, 1079.65, 1080.55, 1081.25, 1081.45, 1082.75, 1082.8, 1083.0, 1083.7, 1086.75, 1087.25, 1087.45, 1087.7, 1088.25, 1090.1, 1090.6, 1092.35, 1093.0, 1093.2, 1093.4, 1094.35, 1094.5, 1095.3, 1095.65, 1096.25, 1096.6, 1096.65, 1097.15, 1098.85, 1101.85, 1102.4, 1107.25, 1108.0, 1108.6, 1108.8, 1110.05, 1110.35, 1111.2, 1111.85, 1113.95, 1114.55, 1114.85, 1115.15, 1115.2, 1115.6, 1117.55, 1118.8, 1119.35, 1119.9, 1120.95, 1121.05, 1122.4, 1123.15, 1123.65, 1125.2, 1125.6, 1126.75, 1127.2, 1127.35, 1128.1, 1129.1, 1129.35, 1129.75, 1130.0, 1130.85, 1131.2, 1131.3, 1131.5, 1132.35, 1132.75, 1133.65, 1133.7, 1133.9, 1134.25, 1135.7, 1137.05, 1138.8, 1139.2, 1140.05, 1143.8, 1144.5, 1144.6, 1145.35, 1146.05, 1146.65, 1147.0, 1147.45, 1147.85, 1148.1, 1149.65, 1151.05, 1151.55, 1152.7, 1155.6, 1156.1, 1156.35, 1156.55, 1157.05, 1158.85, 1160.45, 1160.75, 1161.75, 1162.85, 1164.3, 1165.55, 1165.6, 1165.9, 1167.8, 1169.35, 1171.3, 1171.5, 1172.95, 1173.35, 1173.55, 1174.35, 1175.85, 1177.05, 1177.95, 1178.25, 1178.4, 1178.75, 1180.95, 1183.05, 1183.2, 1184.0, 1185.0, 1185.95, 1187.05, 1188.25, 1189.4, 1189.9, 1190.5, 1191.2, 1191.4, 1192.3, 1193.05, 1193.55, 1194.3, 1195.95, 1198.05, 1198.8, 1199.4, 1200.15, 1201.15, 1201.65, 1203.9, 1205.05, 1205.5, 1206.05, 1207.0, 1208.15, 1208.35, 1208.6, 1209.25, 1210.3, 1210.4, 1211.65, 1212.1, 1212.25, 1212.85, 1214.05, 1215.1, 1215.45, 1215.6, 1215.8, 1216.35, 1217.25, 1218.25, 1218.45, 1218.55, 1218.65, 1219.85, 1221.55, 1221.65, 1222.05, 1222.25, 1222.65, 1222.8, 1224.05, 1225.65, 1226.45, 1230.25, 1230.9, 1231.85, 1232.9, 1233.15, 1233.25, 1233.4, 1233.65, 1234.6, 1234.8, 1235.55, 1236.15, 1237.3, 1237.65, 1237.85, 1238.65, 1240.15, 1240.25, 1240.8, 1242.2, 1242.25, 1242.45, 1244.5, 1244.8, 1245.05, 1245.6, 1246.4, 1247.75, 1248.9, 1249.25, 1250.1, 1250.85, 1252.85, 1253.15, 1253.5, 1253.65, 1253.9, 1254.7, 1255.1, 1258.15, 1258.3, 1258.35, 1258.6, 1259.0, 1259.35, 1260.7, 1261.0, 1261.35, 1261.45, 1261.7, 1263.05, 1263.85, 1263.9, 1264.2, 1265.65, 1266.1, 1266.35, 1267.0, 1267.05, 1267.2, 1267.95, 1268.85, 1269.1, 1269.6, 1270.2, 1270.55, 1271.8, 1272.05, 1273.3, 1274.05, 1274.45, 1275.6, 1275.65, 1275.7, 1275.85, 1278.8, 1279.0, 1281.0, 1281.25, 1282.85, 1284.2, 1285.05, 1285.8, 1286.0, 1286.05, 1287.85, 1288.0, 1288.3, 1290.0, 1291.3, 1291.35, 1292.2, 1292.65, 1293.8, 1294.6, 1295.4, 1296.15, 1296.8, 1297.35, 1297.8, 1298.7, 1299.1, 1299.8, 1301.0, 1301.1, 1301.7, 1301.9, 1302.65, 1303.25, 1304.8, 1304.85, 1306.3, 1307.8, 1308.1, 1308.4, 1309.0, 1309.15, 1311.3, 1311.6, 1311.75, 1312.15, 1312.45, 1313.25, 1313.55, 1315.0, 1316.9, 1317.95, 1319.85, 1319.95, 1321.3, 1322.55, 1322.85, 1323.7, 1325.85, 1326.25, 1326.35, 1327.15, 1327.4, 1327.85, 1328.35, 1329.15, 1329.2, 1331.05, 1332.4, 1334.0, 1334.45, 1334.5, 1335.2, 1336.15, 1336.35, 1336.65, 1336.8, 1336.9, 1337.45, 1337.5, 1338.15, 1340.1, 1341.5, 1342.15, 1343.4, 1344.5, 1345.55, 1345.65, 1345.75, 1345.85, 1346.2, 1346.3, 1346.9, 1347.15, 1348.5, 1348.9, 1348.95, 1350.15, 1354.4, 1355.45, 1356.3, 1356.7, 1358.6, 1358.85, 1359.0, 1359.45, 1359.5, 1359.7, 1362.85, 1364.75, 1367.75, 1369.8, 1370.35, 1372.45, 1372.9, 1373.0, 1374.2, 1374.35, 1374.9, 1375.15, 1375.6, 1376.5, 1377.7, 1378.25, 1378.45, 1378.75, 1379.6, 1379.8, 1380.1, 1380.4, 1381.2, 1381.8, 1382.9, 1383.6, 1384.75, 1385.85, 1386.8, 1386.9, 1387.0, 1387.35, 1387.45, 1388.0, 1388.45, 1388.75, 1389.2, 1389.35, 1389.6, 1389.85, 1390.6, 1390.85, 1391.15, 1391.65, 1392.25, 1393.6, 1394.55, 1396.0, 1396.25, 1396.9, 1397.3, 1398.25, 1398.6, 1399.35, 1400.3, 1400.55, 1400.85, 1401.15, 1401.4, 1402.25, 1403.1, 1404.65, 1405.3, 1406.65, 1406.9, 1411.2, 1411.35, 1411.65, 1411.9, 1412.4, 1412.65, 1413.0, 1414.2, 1414.65, 1414.8, 1415.55, 1415.85, 1416.2, 1416.5, 1416.75, 1419.4, 1421.75, 1421.9, 1422.05, 1422.1, 1422.65, 1423.05, 1423.15, 1423.35, 1423.65, 1423.85, 1424.2, 1424.4, 1424.5, 1424.9, 1424.95, 1425.45, 1426.45, 1426.75, 1427.55, 1429.65, 1430.05, 1430.95, 1431.65, 1432.55, 1433.8, 1434.1, 1434.6, 1436.95, 1438.05, 1439.35, 1440.75, 1441.1, 1441.65, 1441.8, 1441.95, 1442.2, 1442.65, 1443.65, 1444.05, 1445.2, 1445.3, 1445.95, 1446.8, 1447.9, 1448.6, 1448.8, 1451.1, 1451.6, 1451.9, 1454.15, 1454.25, 1457.25, 1458.1, 1459.35, 1460.65, 1460.85, 1461.15, 1461.45, 1462.05, 1462.6, 1463.45, 1463.5, 1463.7, 1465.75, 1466.1, 1468.9, 1470.95, 1471.75, 1474.35, 1474.75, 1474.9, 1476.25, 1477.65, 1478.85, 1482.3, 1483.25, 1489.3, 1490.4, 1490.95, 1492.1, 1493.1, 1493.2, 1493.55, 1493.75, 1494.5, 1495.1, 1496.45, 1496.9, 1497.05, 1497.9, 1498.2, 1498.35, 1498.55, 1498.65, 1498.85, 1500.25, 1500.5, 1500.95, 1501.75, 1502.25, 1504.05, 1505.05, 1505.15, 1505.35, 1505.45, 1505.85, 1505.9, 1506.4, 1507.0, 1509.9, 1510.5, 1513.6, 1514.85, 1515.1, 1516.6, 1517.5, 1520.9, 1521.2, 1522.65, 1522.7, 1523.4, 1524.85, 1525.35, 1527.35, 1527.5, 1529.2, 1529.45, 1529.65, 1531.4, 1532.45, 1533.8, 1534.05, 1534.75, 1536.75, 1537.85, 1537.9, 1538.6, 1539.45, 1539.75, 1539.8, 1540.05, 1540.2, 1540.35, 1544.05, 1547.35, 1548.65, 1549.75, 1553.2, 1553.9, 1553.95, 1554.0, 1554.9, 1555.65, 1556.85, 1558.65, 1558.7, 1559.15, 1559.3, 1559.45, 1561.5, 1563.9, 1564.05, 1564.4, 1565.7, 1566.75, 1567.0, 1567.55, 1570.7, 1573.05, 1573.7, 1573.95, 1574.45, 1574.5, 1579.7, 1580.1, 1581.2, 1581.95, 1582.75, 1583.5, 1584.8, 1587.55, 1588.25, 1588.7, 1588.75, 1593.1, 1594.75, 1595.5, 1596.6, 1597.05, 1597.25, 1597.4, 1600.95, 1601.2, 1601.5, 1604.5, 1607.2, 1608.15, 1611.0, 1611.15, 1611.65, 1612.2, 1612.75, 1614.2, 1614.7, 1614.9, 1615.1, 1616.15, 1617.5, 1618.2, 1620.25, 1620.45, 1620.8, 1621.35, 1622.45, 1623.15, 1625.0, 1625.65, 1626.05, 1626.4, 1629.2, 1630.4, 1633.0, 1636.95, 1637.3, 1637.4, 1638.7, 1639.3, 1640.0, 1641.3, 1641.8, 1643.25, 1643.55, 1646.45, 1647.0, 1648.45, 1651.95, 1652.1, 1652.4, 1653.85, 1654.45, 1654.6, 1654.7, 1654.75, 1654.85, 1655.35, 1657.4, 1660.0, 1662.05, 1663.5, 1663.75, 1664.3, 1665.2, 1669.4, 1672.1, 1672.15, 1672.35, 1673.4, 1673.8, 1676.95, 1677.85, 1678.05, 1679.25, 1679.4, 1679.65, 1680.25, 1681.6, 1682.05, 1682.4, 1683.6, 1685.9, 1686.15, 1686.85, 1687.95, 1688.9, 1689.45, 1691.9, 1692.6, 1696.2, 1697.7, 1698.55, 1699.15, 1700.9, 1701.65, 1702.9, 1704.95, 1706.45, 1709.1, 1709.15, 1710.15, 1710.45, 1712.9, 1713.1, 1714.55, 1714.95, 1715.1, 1715.15, 1715.65, 1716.45, 1718.2, 1718.35, 1718.95, 1719.15, 1724.15, 1725.0, 1725.4, 1725.95, 1727.5, 1728.2, 1729.35, 1730.35, 1730.65, 1733.15, 1734.2, 1734.5, 1734.65, 1737.45, 1738.9, 1739.6, 1740.7, 1740.8, 1742.45, 1742.5, 1742.75, 1742.95, 1743.05, 1743.5, 1743.9, 1745.2, 1745.5, 1747.2, 1747.85, 1748.55, 1748.9, 1750.7, 1750.85, 1752.45, 1753.0, 1755.35, 1756.6, 1758.9, 1759.4, 1759.55, 1760.25, 1761.05, 1761.45, 1763.55, 1764.75, 1765.95, 1766.75, 1767.35, 1769.6, 1772.25, 1775.8, 1776.0, 1776.45, 1776.55, 1776.95, 1777.6, 1777.9, 1778.7, 1781.35, 1782.0, 1782.05, 1783.75, 1784.5, 1784.9, 1787.35, 1789.25, 1789.65, 1789.9, 1790.15, 1790.35, 1790.6, 1790.65, 1790.8, 1793.25, 1794.65, 1794.8, 1796.55, 1797.1, 1797.75, 1798.65, 1798.9, 1799.3, 1800.05, 1801.1, 1801.9, 1802.15, 1802.55, 1806.35, 1808.7, 1809.35, 1810.55, 1810.85, 1813.1, 1813.35, 1815.0, 1815.3, 1815.65, 1816.2, 1816.75, 1818.9, 1820.45, 1820.9, 1821.2, 1821.8, 1825.5, 1826.7, 1830.05, 1834.15, 1834.95, 1835.3, 1836.25, 1837.7, 1837.9, 1838.15, 1841.2, 1841.9, 1842.7, 1843.05, 1846.65, 1847.55, 1848.8, 1849.2, 1849.95, 1850.65, 1851.45, 1852.85, 1855.65, 1856.4, 1857.25, 1857.3, 1857.75, 1857.85, 1859.1, 1859.2, 1859.5, 1861.1, 1863.8, 1864.2, 1864.65, 1866.45, 1867.6, 1867.7, 1868.4, 1871.15, 1871.85, 1872.2, 1873.7, 1874.3, 1875.25, 1875.55, 1879.25, 1880.85, 1882.8, 1884.65, 1885.15, 1886.4, 1887.0, 1888.25, 1888.45, 1888.65, 1893.5, 1893.95, 1898.1, 1900.25, 1901.0, 1901.25, 1902.0, 1905.4, 1905.7, 1908.35, 1910.6, 1910.75, 1911.5, 1912.15, 1912.85, 1914.5, 1914.9, 1916.0, 1916.2, 1917.1, 1923.5, 1923.85, 1924.1, 1927.3, 1928.7, 1929.0, 1930.9, 1931.3, 1931.75, 1932.75, 1936.85, 1937.4, 1938.05, 1938.9, 1939.35, 1940.85, 1941.5, 1943.2, 1943.9, 1948.35, 1951.0, 1952.25, 1952.8, 1956.4, 1957.1, 1958.45, 1958.95, 1959.5, 1961.6, 1964.6, 1970.5, 1971.15, 1971.5, 1972.35, 1973.75, 1974.8, 1978.65, 1980.3, 1982.1, 1982.6, 1983.15, 1985.15, 1988.05, 1990.5, 1992.2, 1992.55, 1992.85, 1992.95, 1993.2, 1993.25, 1993.8, 1994.3, 2000.2, 2001.0, 2001.5, 2006.1, 2006.95, 2007.85, 2010.55, 2010.95, 2011.4, 2012.7, 2015.8, 2016.3, 2016.45, 2018.1, 2018.4, 2019.8, 2020.9, 2021.35, 2023.55, 2024.1, 2025.1, 2028.8, 2029.05, 2030.3, 2030.75, 2031.95, 2032.3, 2033.05, 2033.85, 2034.25, 2036.55, 2038.7, 2042.05, 2043.45, 2044.75, 2044.95, 2045.55, 2048.8, 2049.05, 2053.05, 2058.5, 2062.15, 2065.15, 2065.4, 2066.0, 2067.0, 2068.55, 2070.05, 2070.6, 2070.75, 2072.75, 2075.1, 2076.05, 2076.2, 2077.95, 2078.55, 2078.95, 2080.1, 2082.95, 2083.1, 2085.45, 2088.45, 2088.75, 2088.8, 2090.25, 2092.9, 2093.4, 2093.9, 2094.65, 2094.9, 2095.0, 2096.1, 2104.55, 2106.05, 2106.3, 2107.15, 2108.35, 2109.35, 2110.15, 2111.45, 2117.2, 2117.25, 2119.5, 2122.05, 2122.45, 2130.45, 2130.55, 2134.3, 2136.9, 2139.1, 2139.2, 2142.8, 2146.5, 2156.25, 2157.3, 2157.5, 2157.95, 2162.6, 2165.05, 2168.15, 2168.9, 2169.4, 2169.75, 2169.8, 2171.15, 2177.45, 2178.6, 2180.55, 2181.55, 2181.75, 2184.35, 2184.6, 2184.85, 2186.4, 2187.15, 2187.55, 2188.45, 2188.5, 2191.15, 2191.7, 2192.9, 2193.0, 2193.2, 2193.65, 2196.15, 2196.3, 2196.45, 2198.3, 2198.9, 2199.05, 2200.25, 2200.7, 2201.75, 2203.1, 2203.65, 2203.7, 2204.35, 2208.05, 2208.75, 2209.15, 2209.75, 2210.2, 2212.55, 2215.0, 2215.25, 2215.4, 2217.15, 2220.1, 2221.55, 2224.5, 2227.8, 2230.85, 2234.55, 2234.95, 2237.55, 2238.5, 2239.4, 2239.65, 2243.9, 2244.95, 2245.4, 2248.05, 2249.1, 2249.95, 2250.65, 2254.2, 2257.75, 2258.25, 2259.35, 2263.45, 2264.05, 2264.5, 2265.0, 2265.25, 2271.85, 2272.8, 2274.1, 2274.35, 2274.9, 2275.1, 2276.1, 2276.95, 2277.65, 2281.6, 2282.55, 2282.95, 2283.15, 2283.3, 2287.25, 2288.7, 2289.9, 2291.2, 2292.75, 2293.6, 2296.25, 2298.55, 2298.9, 2301.15, 2302.35, 2308.6, 2310.2, 2312.55, 2313.8, 2316.85, 2319.8, 2320.8, 2322.85, 2324.7, 2326.05, 2331.3, 2333.05, 2333.85, 2335.3, 2337.45, 2338.35, 2341.5, 2341.55, 2342.2, 2343.85, 2345.2, 2345.55, 2347.85, 2347.9, 2349.8, 2351.45, 2351.8, 2354.8, 2357.75, 2361.8, 2362.1, 2364.0, 2365.15, 2368.4, 2369.05, 2369.7, 2375.2, 2375.4, 2381.55, 2383.6, 2384.15, 2386.85, 2387.75, 2390.45, 2391.15, 2391.8, 2395.05, 2398.4, 2401.05, 2404.1, 2404.15, 2404.85, 2405.05, 2406.1, 2407.3, 2409.9, 2413.05, 2414.55, 2415.95, 2416.1, 2416.55, 2419.0, 2419.55, 2421.6, 2421.75, 2424.05, 2424.45, 2424.5, 2425.4, 2427.1, 2427.35, 2429.1, 2431.35, 2431.95, 2433.5, 2433.9, 2434.45, 2435.15, 2440.15, 2440.25, 2441.7, 2443.3, 2444.25, 2447.45, 2447.95, 2448.5, 2448.75, 2452.7, 2455.05, 2459.8, 2460.15, 2460.35, 2460.55, 2462.55, 2462.6, 2467.1, 2467.75, 2470.1, 2471.25, 2471.6, 2475.35, 2479.05, 2479.25, 2483.05, 2483.5, 2483.65, 2484.0, 2490.15, 2492.25, 2495.15, 2495.2, 2496.7, 2497.35, 2498.4, 2509.25, 2509.95, 2510.2, 2510.7, 2511.3, 2511.55, 2511.95, 2513.5, 2515.3, 2522.4, 2530.4, 2531.4, 2535.55, 2536.55, 2537.0, 2538.05, 2538.2, 2540.1, 2541.25, 2542.45, 2545.7, 2546.85, 2548.55, 2549.1, 2552.9, 2553.35, 2553.7, 2554.0, 2555.05, 2555.9, 2560.1, 2564.3, 2564.95, 2566.3, 2568.15, 2568.55, 2570.0, 2572.95, 2575.45, 2576.2, 2576.8, 2583.75, 2585.95, 2586.0, 2587.7, 2595.85, 2597.6, 2598.95, 2599.95, 2602.9, 2603.1, 2603.3, 2603.95, 2606.35, 2607.6, 2610.65, 2613.4, 2614.1, 2618.3, 2619.15, 2619.25, 2621.75, 2623.65, 2624.25, 2625.25, 2625.55, 2626.15, 2627.2, 2627.35, 2628.6, 2633.4, 2633.95, 2635.0, 2636.05, 2638.1, 2640.55, 2642.05, 2647.1, 2649.15, 2651.1, 2653.65, 2654.05, 2655.25, 2656.3, 2656.5, 2656.7, 2657.55, 2658.4, 2658.8, 2659.4, 2659.45, 2660.2, 2661.1, 2665.0, 2666.75, 2669.45, 2673.45, 2674.15, 2679.7, 2680.15, 2683.2, 2684.35, 2688.45, 2689.35, 2692.75, 2696.55, 2697.4, 2698.35, 2710.25, 2715.3, 2716.3, 2718.3, 2719.2, 2722.2, 2723.4, 2723.75, 2724.25, 2724.6, 2727.3, 2727.8, 2728.6, 2730.85, 2731.0, 2737.05, 2743.45, 2745.2, 2745.7, 2748.7, 2751.0, 2753.8, 2754.45, 2755.35, 2757.85, 2762.75, 2763.0, 2763.35, 2766.4, 2768.65, 2773.9, 2774.55, 2779.5, 2780.6, 2781.85, 2782.4, 2789.7, 2790.65, 2791.5, 2793.55, 2796.35, 2796.45, 2799.0, 2802.3, 2804.45, 2806.9, 2807.1, 2807.65, 2809.05, 2812.2, 2813.05, 2815.25, 2816.65, 2820.65, 2823.0, 2832.75, 2835.5, 2835.9, 2838.7, 2839.45, 2839.65, 2839.95, 2841.55, 2845.15, 2847.2, 2847.4, 2854.55, 2857.6, 2862.55, 2862.75, 2866.45, 2867.75, 2868.05, 2869.85, 2871.5, 2874.15, 2874.45, 2877.05, 2877.95, 2878.75, 2879.2, 2882.25, 2884.9, 2888.7, 2890.65, 2893.4, 2894.55, 2896.4, 2896.55, 2896.6, 2897.95, 2898.95, 2901.8, 2907.35, 2907.55, 2908.2, 2909.95, 2911.3, 2911.5, 2911.8, 2917.5, 2917.65, 2919.85, 2921.75, 2924.05, 2928.5, 2929.75, 2931.0, 2933.2, 2933.95, 2934.3, 2936.25, 2939.8, 2948.6, 2952.85, 2954.5, 2959.8, 2960.1, 2961.4, 2964.05, 2964.8, 2965.75, 2966.95, 2967.35, 2970.8, 2971.7, 2974.5, 2976.95, 2978.3, 2979.2, 2979.3, 2979.5, 2983.65, 2983.8, 2985.25, 2989.6, 2995.45, 2997.45, 2998.0, 3000.25, 3001.2, 3003.55, 3004.15, 3005.8, 3007.25, 3008.15, 3008.55, 3011.65, 3013.05, 3014.65, 3017.65, 3019.1, 3019.25, 3019.5, 3019.7, 3021.3, 3021.45, 3021.6, 3023.55, 3023.65, 3023.85, 3024.15, 3027.4, 3029.1, 3030.6, 3035.35, 3035.8, 3038.55, 3043.6, 3043.7, 3045.75, 3046.15, 3046.4, 3047.15, 3050.15, 3053.0, 3055.5, 3058.15, 3058.3, 3062.45, 3066.45, 3067.2, 3068.6, 3069.45, 3077.0, 3078.1, 3085.35, 3088.25, 3088.75, 3089.6, 3090.05, 3090.65, 3091.75, 3092.0, 3092.65, 3094.05, 3094.65, 3096.9, 3097.0, 3097.2, 3103.25, 3107.3, 3110.1, 3112.05, 3116.15, 3119.9, 3121.1, 3121.4, 3121.45, 3122.4, 3124.5, 3126.45, 3126.85, 3128.8, 3131.55, 3131.8, 3132.75, 3134.7, 3143.65, 3145.15, 3145.9, 3147.15, 3147.5, 3152.5, 3157.0, 3160.55, 3161.4, 3161.6, 3162.65, 3165.6, 3166.9, 3168.0, 3168.75, 3169.55, 3171.15, 3171.6, 3175.85, 3177.25, 3180.5, 3181.8, 3182.95, 3183.4, 3184.25, 3186.65, 3186.7, 3190.25, 3190.65, 3196.0, 3198.6, 3199.0, 3201.55, 3204.65, 3205.6, 3207.55, 3208.65, 3210.35, 3211.2, 3211.9, 3213.75, 3217.55, 3217.65, 3219.75, 3221.25, 3229.4, 3229.65, 3231.05, 3233.6, 3233.85, 3237.05, 3238.4, 3242.5, 3243.45, 3244.4, 3246.45, 3247.55, 3249.4, 3250.45, 3251.3, 3251.85, 3252.0, 3254.35, 3255.35, 3263.6, 3263.9, 3264.45, 3264.5, 3265.95, 3268.05, 3270.25, 3273.55, 3273.8, 3273.95, 3274.35, 3275.15, 3281.65, 3282.75, 3283.05, 3292.3, 3297.0, 3301.05, 3303.05, 3306.85, 3309.25, 3313.4, 3314.15, 3316.1, 3320.6, 3320.75, 3321.35, 3326.2, 3330.1, 3334.9, 3334.95, 3342.0, 3343.15, 3346.8, 3348.1, 3349.1, 3351.55, 3353.4, 3357.9, 3358.65, 3361.05, 3363.8, 3364.55, 3365.85, 3366.05, 3369.05, 3369.25, 3370.2, 3371.0, 3371.75, 3373.4, 3375.9, 3377.8, 3379.25, 3382.3, 3384.0, 3389.25, 3395.8, 3398.9, 3399.85, 3403.4, 3409.1, 3409.6, 3410.0, 3410.6, 3413.25, 3414.65, 3415.25, 3416.85, 3419.3, 3419.5, 3420.5, 3425.35, 3431.75, 3432.9, 3435.6, 3436.1, 3439.0, 3440.25, 3442.8, 3444.85, 3452.55, 3454.6, 3457.45, 3457.9, 3460.3, 3460.95, 3462.1, 3465.05, 3465.7, 3467.0, 3470.8, 3471.1, 3472.05, 3473.4, 3474.05, 3474.2, 3474.45, 3475.55, 3478.15, 3478.75, 3479.05, 3480.35, 3482.85, 3483.45, 3486.65, 3488.15, 3491.55, 3496.3, 3503.5, 3509.4, 3510.3, 3512.15, 3512.5, 3512.9, 3515.25, 3517.9, 3520.75, 3521.7, 3522.65, 3527.0, 3527.3, 3529.95, 3532.0, 3532.25, 3532.85, 3533.6, 3540.65, 3541.1, 3541.35, 3541.4, 3545.1, 3545.35, 3551.65, 3554.6, 3557.7, 3561.15, 3562.5, 3563.8, 3566.7, 3571.6, 3574.5, 3579.15, 3580.3, 3580.95, 3581.4, 3581.6, 3587.25, 3588.4, 3591.25, 3593.8, 3600.65, 3603.45, 3605.2, 3615.6, 3616.25, 3617.1, 3618.7, 3623.95, 3624.3, 3624.35, 3625.2, 3626.1, 3626.35, 3627.3, 3629.2, 3632.0, 3634.8, 3635.15, 3638.25, 3640.45, 3641.5, 3645.05, 3645.5, 3645.6, 3645.75, 3649.6, 3653.0, 3653.35, 3655.45, 3656.25, 3665.55, 3670.5, 3673.15, 3673.6, 3674.95, 3678.3, 3684.95, 3686.05, 3687.85, 3688.6, 3691.2, 3692.85, 3694.45, 3704.15, 3706.95, 3707.6, 3708.4, 3713.95, 3715.65, 3720.35, 3721.9, 3723.65, 3725.5, 3726.15, 3729.6, 3729.75, 3734.25, 3735.45, 3744.05, 3751.15, 3753.2, 3754.6, 3756.4, 3756.45, 3759.05, 3762.0, 3765.05, 3766.2, 3767.4, 3769.7, 3770.0, 3771.5, 3772.5, 3772.65, 3777.15, 3778.0, 3778.1, 3778.2, 3778.85, 3782.4, 3784.0, 3791.6, 3794.5, 3795.45, 3801.3, 3801.7, 3804.4, 3807.35, 3808.2, 3810.55, 3810.8, 3815.4, 3822.45, 3824.2, 3825.85, 3827.9, 3829.75, 3833.95, 3834.4, 3835.55, 3836.3, 3838.2, 3842.6, 3845.45, 3846.35, 3846.75, 3847.6, 3848.0, 3851.45, 3856.75, 3857.1, 3858.05, 3861.45, 3862.55, 3865.45, 3865.6, 3870.0, 3870.3, 3871.85, 3874.1, 3875.4, 3876.2, 3877.65, 3877.95, 3880.05, 3882.3, 3883.3, 3886.05, 3886.45, 3886.85, 3887.25, 3887.85, 3888.65, 3893.6, 3894.4, 3895.35, 3901.25, 3902.45, 3912.9, 3913.3, 3914.05, 3915.4, 3919.15, 3921.1, 3923.8, 3928.3, 3930.55, 3930.6, 3937.45, 3942.45, 3946.9, 3948.45, 3949.15, 3950.85, 3952.45, 3952.65, 3953.15, 3953.7, 3956.7, 3958.2, 3958.85, 3959.35, 3965.05, 3966.3, 3969.35, 3969.4, 3970.4, 3972.25, 3973.2, 3974.15, 3974.7, 3975.9, 3988.5, 3990.6, 3990.75, 3994.05, 3994.45, 3996.8, 4003.0, 4003.85, 4009.2, 4013.8, 4014.0, 4014.2, 4014.6, 4016.2, 4016.3, 4016.85, 4017.45, 4018.35, 4018.55, 4024.2, 4025.5, 4025.6, 4026.4, 4029.95, 4036.0, 4036.85, 4039.0, 4039.5, 4040.2, 4040.65, 4042.2, 4042.3, 4045.65, 4048.95, 4052.4, 4054.2, 4055.5, 4056.75, 4059.35, 4059.85, 4060.55, 4060.9, 4062.2, 4065.0, 4068.0, 4069.9, 4070.95, 4079.55, 4084.35, 4085.75, 4086.3, 4089.45, 4092.85, 4096.9, 4097.05, 4107.3, 4108.15, 4111.35, 4113.15, 4113.7, 4116.15, 4116.8, 4116.9, 4119.4, 4122.65, 4122.9, 4124.65, 4126.2, 4126.35, 4131.2, 4133.95, 4134.7, 4134.85, 4135.0, 4136.4, 4137.2, 4138.05, 4138.7, 4138.9, 4140.1, 4144.8, 4144.9, 4145.25, 4146.05, 4154.55, 4154.8, 4155.95, 4156.8, 4158.25, 4159.45, 4162.05, 4164.4, 4166.35, 4174.35, 4178.65, 4179.1, 4186.3, 4187.75, 4191.45, 4192.15, 4193.4, 4194.85, 4200.25, 4209.95, 4211.55, 4213.35, 4213.9, 4214.25, 4220.35, 4222.95, 4224.7, 4226.7, 4228.55, 4230.25, 4233.95, 4234.15, 4236.6, 4237.5, 4238.45, 4242.35, 4250.1, 4254.85, 4259.3, 4261.2, 4263.4, 4263.45, 4264.25, 4264.6, 4265.0, 4266.4, 4267.15, 4273.45, 4275.75, 4282.4, 4284.2, 4284.65, 4284.8, 4285.8, 4295.35, 4297.6, 4297.95, 4299.2, 4299.75, 4299.95, 4300.45, 4300.8, 4303.65, 4304.0, 4304.5, 4307.1, 4308.25, 4309.55, 4310.35, 4312.5, 4317.35, 4318.35, 4322.85, 4323.35, 4323.45, 4326.25, 4331.4, 4335.2, 4338.6, 4345.0, 4346.4, 4348.1, 4348.65, 4354.45, 4361.55, 4362.05, 4364.1, 4367.35, 4368.85, 4368.95, 4370.25, 4370.75, 4374.55, 4375.8, 4378.35, 4378.8, 4378.9, 4385.05, 4386.2, 4388.4, 4390.25, 4391.25, 4391.45, 4392.5, 4398.15, 4399.5, 4400.75, 4408.45, 4414.3, 4415.75, 4421.95, 4424.2, 4428.45, 4428.6, 4433.3, 4438.2, 4442.75, 4443.45, 4445.3, 4447.55, 4447.75, 4448.8, 4449.75, 4451.85, 4453.3, 4454.25, 4456.65, 4458.15, 4459.8, 4461.85, 4464.8, 4469.1, 4473.45, 4475.9, 4478.85, 4479.2, 4480.7, 4481.0, 4483.95, 4484.05, 4492.9, 4494.65, 4495.65, 4504.55, 4504.9, 4507.15, 4509.5, 4510.8, 4512.7, 4513.65, 4515.85, 4517.25, 4519.5, 4520.15, 4523.25, 4524.05, 4525.8, 4526.85, 4527.45, 4528.0, 4532.3, 4533.7, 4533.9, 4534.45, 4534.9, 4535.85, 4539.35, 4539.6, 4541.2, 4541.9, 4542.35, 4543.95, 4546.0, 4549.05, 4549.45, 4551.5, 4554.85, 4555.2, 4557.5, 4563.0, 4564.9, 4566.5, 4575.35, 4576.3, 4577.75, 4577.9, 4586.15, 4589.85, 4590.35, 4594.65, 4594.95, 4599.15, 4600.7, 4600.95, 4613.95, 4615.25, 4615.9, 4616.1, 4620.4, 4627.65, 4627.8, 4627.85, 4630.2, 4631.7, 4634.35, 4639.45, 4641.1, 4652.4, 4653.25, 4653.85, 4657.95, 4663.4, 4664.15, 4664.2, 4664.5, 4667.0, 4669.2, 4671.65, 4671.7, 4674.4, 4674.55, 4676.7, 4677.1, 4680.05, 4681.75, 4684.3, 4685.55, 4688.65, 4689.15, 4689.5, 4690.65, 4692.55, 4692.95, 4693.2, 4698.05, 4707.85, 4718.25, 4719.75, 4720.0, 4729.3, 4729.75, 4730.6, 4730.9, 4733.1, 4735.2, 4735.35, 4738.85, 4740.0, 4741.45, 4744.35, 4746.05, 4747.2, 4747.85, 4750.95, 4753.85, 4754.3, 4759.55, 4759.75, 4760.3, 4764.0, 4765.0, 4779.45, 4783.5, 4786.1, 4786.15, 4793.8, 4798.4, 4801.1, 4804.65, 4804.75, 4805.3, 4807.35, 4807.45, 4808.7, 4812.75, 4816.7, 4818.8, 4819.75, 4820.15, 4820.55, 4822.85, 4824.45, 4828.05, 4830.25, 4834.0, 4837.6, 4839.15, 4845.4, 4847.05, 4847.35, 4849.1, 4853.75, 4854.3, 4855.35, 4858.7, 4859.1, 4859.95, 4860.85, 4862.5, 4863.85, 4867.95, 4868.4, 4869.35, 4869.5, 4871.05, 4871.45, 4872.2, 4872.45, 4882.8, 4885.85, 4888.2, 4888.7, 4889.2, 4890.5, 4891.5, 4896.35, 4900.65, 4902.8, 4903.15, 4904.2, 4904.25, 4904.85, 4905.75, 4911.05, 4913.3, 4914.8, 4914.9, 4915.15, 4916.4, 4916.95, 4917.75, 4917.9, 4919.7, 4920.55, 4920.8, 4921.2, 4922.4, 4929.55, 4931.8, 4932.5, 4939.25, 4941.8, 4946.05, 4947.55, 4949.1, 4952.95, 4953.25, 4959.15, 4959.6, 4964.7, 4965.0, 4965.1, 4968.0, 4972.1, 4976.15, 4977.2, 4981.15, 4982.5, 4983.05, 4984.85, 4985.9, 4990.25, 4991.5, 4993.4, 4995.35, 4997.5, 5000.05, 5011.15, 5012.1, 5012.35, 5013.0, 5016.25, 5016.65, 5017.7, 5017.9, 5025.0, 5025.8, 5025.85, 5029.2, 5031.0, 5031.85, 5034.05, 5036.9, 5037.55, 5038.15, 5038.45, 5040.2, 5042.75, 5043.2, 5044.8, 5059.75, 5060.85, 5060.9, 5064.45, 5064.85, 5068.05, 5069.65, 5071.05, 5071.9, 5073.1, 5082.8, 5083.55, 5084.65, 5088.4, 5099.15, 5102.35, 5116.6, 5118.95, 5121.3, 5121.75, 5124.55, 5124.6, 5125.5, 5125.75, 5127.95, 5129.3, 5129.45, 5135.15, 5135.35, 5139.65, 5149.5, 5150.55, 5153.5, 5154.6, 5163.0, 5163.3, 5165.7, 5166.2, 5168.1, 5174.35, 5175.3, 5186.0, 5189.75, 5193.2, 5194.05, 5196.1, 5199.8, 5200.8, 5206.55, 5212.65, 5215.1, 5219.65, 5222.35, 5224.35, 5224.5, 5224.95, 5229.45, 5229.8, 5231.2, 5231.3, 5232.9, 5233.25, 5234.95, 5236.4, 5237.4, 5243.05, 5244.45, 5251.75, 5253.95, 5264.25, 5264.3, 5264.5, 5265.1, 5265.2, 5265.55, 5270.6, 5275.8, 5276.1, 5278.15, 5283.95, 5289.8, 5290.45, 5293.2, 5293.4, 5294.6, 5295.7, 5299.65, 5301.1, 5305.05, 5309.5, 5311.85, 5315.1, 5315.8, 5317.8, 5321.25, 5327.25, 5329.0, 5329.55, 5330.2, 5333.35, 5336.35, 5341.8, 5347.95, 5348.65, 5356.45, 5360.75, 5364.8, 5373.1, 5375.15, 5377.8, 5386.5, 5388.15, 5396.25, 5398.6, 5401.9, 5405.8, 5409.75, 5411.65, 5420.65, 5424.25, 5426.85, 5427.05, 5430.65, 5431.4, 5431.9, 5432.2, 5435.6, 5437.1, 5437.75, 5438.9, 5438.95, 5440.9, 5442.05, 5443.65, 5445.95, 5448.6, 5458.8, 5459.2, 5460.2, 5461.45, 5464.65, 5468.95, 5471.75, 5475.9, 5480.25, 5481.25, 5483.9, 5484.4, 5485.5, 5487.0, 5496.9, 5497.05, 5498.2, 5498.8, 5500.6, 5508.35, 5510.65, 5511.65, 5514.95, 5515.8, 5522.7, 5528.9, 5535.8, 5536.5, 5538.35, 5538.8, 5542.55, 5549.4, 5550.1, 5551.15, 5552.05, 5552.5, 5553.25, 5555.3, 5560.0, 5563.65, 5564.85, 5566.4, 5567.45, 5567.55, 5568.35, 5574.35, 5574.75, 5576.3, 5580.8, 5581.05, 5585.4, 5586.45, 5588.8, 5589.45, 5594.0, 5595.3, 5597.65, 5598.0, 5598.3, 5601.4, 5602.25, 5607.75, 5610.15, 5610.25, 5611.7, 5611.75, 5617.75, 5617.95, 5618.3, 5621.85, 5623.7, 5625.55, 5629.15, 5629.55, 5632.55, 5637.85, 5638.3, 5639.05, 5643.4, 5645.8, 5646.6, 5647.95, 5655.45, 5661.7, 5662.25, 5669.5, 5673.7, 5676.65, 5680.9, 5682.25, 5683.6, 5685.8, 5688.05, 5688.45, 5692.65, 5696.6, 5703.0, 5703.25, 5705.05, 5706.2, 5708.2, 5711.05, 5714.2, 5717.85, 5718.2, 5720.35, 5720.95, 5727.15, 5727.45, 5728.55, 5730.15, 5731.4, 5731.45, 5731.85, 5733.4, 5737.6, 5742.9, 5743.05, 5743.3, 5744.35, 5746.15, 5746.75, 5749.8, 5750.0, 5753.25, 5757.2, 5762.95, 5763.15, 5763.3, 5764.7, 5769.6, 5769.75, 5776.45, 5779.6, 5780.7, 5784.3, 5785.5, 5785.65, 5791.85, 5794.45, 5798.3, 5809.75, 5810.9, 5811.8, 5812.6, 5815.15, 5817.45, 5817.7, 5822.3, 5824.75, 5825.5, 5826.65, 5831.2, 5832.0, 5832.65, 5835.5, 5839.3, 5841.35, 5844.65, 5846.65, 5848.6, 5860.7, 5867.0, 5869.4, 5873.75, 5878.9, 5882.75, 5883.85, 5885.4, 5886.85, 5890.0, 5893.15, 5893.9, 5893.95, 5894.5, 5895.45, 5897.4, 5898.6, 5899.85, 5903.15, 5913.95, 5914.4, 5916.45, 5917.55, 5918.8, 5919.35, 5921.35, 5924.4, 5925.75, 5930.05, 5931.0, 5931.75, 5935.1, 5936.55, 5940.85, 5941.05, 5943.65, 5948.7, 5950.2, 5953.0, 5956.85, 5957.9, 5958.85, 5959.3, 5960.5, 5961.1, 5963.95, 5968.4, 5969.3, 5969.85, 5969.95, 5974.3, 5976.9, 5979.7, 5980.55, 5980.75, 5981.65, 5985.0, 5985.75, 5986.55, 5991.05, 5997.1, 5999.85, 6000.1, 6001.45, 6004.85, 6010.05, 6014.85, 6017.9, 6018.65, 6019.35, 6028.95, 6029.0, 6029.9, 6033.1, 6034.85, 6038.55, 6039.9, 6042.7, 6045.9, 6046.1, 6052.25, 6055.55, 6056.15, 6056.9, 6058.95, 6065.3, 6066.55, 6067.4, 6068.65, 6069.25, 6075.9, 6077.75, 6078.75, 6079.0, 6081.4, 6083.1, 6093.3, 6096.45, 6096.9, 6109.65, 6109.75, 6110.2, 6110.75, 6118.95, 6126.1, 6127.6, 6129.2, 6129.65, 6130.95, 6137.0, 6140.85, 6141.65, 6143.15, 6144.55, 6145.2, 6145.85, 6151.9, 6152.4, 6153.85, 6155.4, 6157.6, 6161.9, 6164.7, 6171.2, 6172.0, 6176.6, 6179.35, 6185.15, 6185.8, 6194.1, 6205.5, 6215.35, 6218.45, 6219.6, 6223.3, 6224.8, 6225.4, 6227.5, 6230.1, 6236.75, 6237.05, 6239.05, 6241.35, 6252.7, 6252.9, 6253.0, 6254.2, 6256.2, 6263.8, 6273.4, 6281.45, 6283.3, 6287.25, 6287.3, 6292.7, 6293.2, 6293.45, 6293.75, 6296.75, 6297.65, 6300.85, 6301.7, 6302.8, 6302.85, 6306.5, 6309.65, 6310.9, 6312.9, 6314.35, 6322.1, 6325.25, 6328.7, 6330.4, 6332.75, 6333.4, 6333.8, 6339.3, 6339.45, 6341.45, 6342.7, 6347.55, 6352.4, 6362.35, 6363.45, 6365.35, 6367.2, 6368.2, 6373.1, 6375.2, 6375.8, 6376.55, 6382.0, 6382.55, 6383.35, 6383.9, 6385.95, 6388.65, 6392.85, 6393.65, 6397.6, 6398.05, 6401.25, 6404.0, 6405.0, 6411.25, 6413.65, 6418.9, 6423.0, 6424.25, 6424.7, 6428.4, 6431.05, 6435.25, 6440.25, 6441.4, 6441.85, 6444.05, 6448.05, 6448.85, 6449.15, 6457.15, 6460.55, 6463.15, 6465.0, 6468.6, 6470.1, 6471.85, 6474.4, 6474.45, 6479.4, 6480.9, 6487.2, 6496.15, 6501.35, 6503.2, 6506.15, 6510.45, 6511.25, 6511.8, 6518.35, 6520.8, 6521.9, 6526.65, 6529.25, 6536.5, 6547.7, 6548.65, 6549.45, 6555.2, 6557.75, 6561.25, 6565.85, 6567.9, 6572.85, 6578.55, 6579.05, 6581.9, 6585.2, 6585.35, 6586.85, 6589.6, 6590.5, 6590.8, 6595.0, 6595.9, 6602.9, 6603.8, 6605.55, 6613.65, 6614.9, 6615.15, 6631.85, 6632.75, 6637.9, 6638.35, 6640.7, 6643.5, 6652.45, 6668.0, 6668.35, 6669.05, 6669.45, 6671.7, 6674.65, 6683.4, 6687.85, 6688.1, 6688.95, 6689.0, 6690.75, 6692.65, 6697.2, 6700.05, 6703.5, 6705.7, 6707.15, 6710.5, 6713.2, 6716.45, 6717.9, 6719.9, 6721.6, 6725.3, 6725.5, 6733.0, 6733.15, 6735.05, 6741.15, 6743.55, 6747.35, 6754.35, 6758.45, 6767.1, 6770.5, 6770.85, 6779.05, 6780.1, 6782.15, 6786.1, 6792.45, 6794.75, 6812.95, 6816.95, 6822.15, 6825.65, 6827.5, 6838.6, 6840.95, 6841.05, 6841.3, 6841.4, 6841.45, 6843.15, 6844.5, 6849.4, 6849.75, 6851.65, 6856.45, 6856.95, 6859.05, 6859.5, 6860.6, 6869.7, 6871.7, 6871.9, 6873.75, 6875.35, 6876.05, 6880.85, 6885.75, 6886.25, 6889.8, 6890.0, 6891.4, 6891.45, 6895.5, 6903.1, 6910.3, 6912.7, 6914.95, 6921.7, 6925.9, 6929.4, 6936.85, 6937.95, 6941.2, 6944.5, 6951.15, 6953.4, 6954.15, 6975.25, 6979.8, 6981.35, 6982.5, 6989.45, 6989.7, 6991.6, 6991.9, 6993.65, 6994.6, 6994.8, 6997.3, 6998.95, 7002.95, 7007.6, 7008.15, 7009.5, 7015.9, 7028.5, 7030.65, 7031.3, 7031.45, 7035.6, 7039.05, 7039.45, 7040.85, 7047.5, 7049.5, 7049.75, 7051.95, 7053.35, 7061.65, 7069.25, 7069.3, 7074.4, 7076.35, 7082.45, 7082.5, 7082.85, 7099.0, 7101.5, 7104.2, 7107.0, 7108.2, 7110.75, 7111.3, 7112.15, 7113.75, 7114.25, 7118.9, 7129.45, 7132.15, 7133.1, 7133.25, 7133.45, 7138.65, 7142.5, 7149.35, 7156.2, 7159.05, 7159.7, 7168.25, 7171.7, 7173.15, 7176.55, 7181.25, 7181.95, 7188.5, 7195.35, 7209.0, 7210.85, 7213.75, 7220.35, 7222.75, 7227.45, 7234.8, 7238.6, 7240.65, 7244.7, 7245.9, 7251.7, 7251.9, 7261.25, 7261.75, 7262.0, 7266.95, 7279.35, 7281.6, 7283.25, 7285.7, 7288.4, 7291.75, 7297.75, 7299.65, 7303.05, 7308.95, 7317.1, 7318.2, 7320.9, 7321.05, 7322.5, 7323.15, 7325.1, 7332.4, 7334.05, 7337.55, 7344.45, 7346.2, 7348.8, 7349.35, 7362.9, 7365.3, 7365.7, 7372.65, 7382.25, 7382.85, 7383.7, 7386.05, 7388.45, 7396.15, 7397.0, 7405.5, 7412.25, 7413.55, 7430.75, 7432.05, 7446.9, 7447.7, 7455.45, 7459.0, 7459.05, 7467.5, 7467.55, 7470.1, 7472.15, 7475.1, 7475.85, 7482.1, 7491.75, 7493.05, 7508.55, 7511.3, 7511.65, 7511.9, 7517.7, 7521.95, 7530.8, 7532.15, 7534.65, 7537.5, 7542.25, 7544.0, 7544.3, 7548.1, 7548.6, 7550.3, 7553.6, 7554.05, 7555.0, 7556.9, 7559.55, 7565.35, 7567.2, 7576.7, 7578.05, 7581.5, 7609.75, 7610.1, 7611.85, 7623.2, 7624.2, 7629.85, 7634.25, 7634.8, 7657.4, 7658.3, 7661.8, 7665.8, 7674.55, 7677.4, 7679.65, 7689.8, 7689.95, 7690.9, 7707.7, 7711.25, 7711.45, 7713.55, 7714.65, 7719.5, 7723.7, 7723.9, 7726.35, 7732.65, 7737.55, 7746.7, 7748.75, 7751.7, 7752.05, 7752.3, 7758.9, 7767.25, 7774.05, 7782.85, 7789.6, 7795.95, 7804.15, 7806.5, 7806.6, 7839.85, 7840.6, 7842.3, 7843.55, 7845.8, 7848.5, 7849.85, 7852.4, 7853.7, 7854.15, 7854.9, 7856.0, 7862.25, 7869.05, 7875.0, 7878.3, 7880.25, 7881.2, 7882.5, 7887.25, 7895.15, 7898.45, 7904.25, 7919.8, 7920.7, 7922.75, 7930.55, 7932.5, 7939.25, 7942.15, 7953.25, 7962.2, 7965.95, 7968.85, 7982.5, 7984.15, 7985.9, 7987.6, 7990.05, 7993.3, 7998.8, 8012.75, 8013.55, 8016.6, 8022.85, 8033.1, 8035.95, 8041.65, 8046.85, 8058.55, 8058.85, 8061.5, 8075.35, 8078.1, 8086.4, 8093.15, 8100.25, 8100.55, 8109.8, 8124.2, 8126.65, 8127.6, 8129.3, 8152.3, 8164.1, 8165.1, 8166.8, 8175.9, 8182.75, 8182.85, 8192.6, 8240.85, 8244.3, 8250.0, 8277.05, 8289.2, 8297.5, 8308.9, 8309.55, 8310.55, 8312.4, 8312.75, 8317.95, 8331.95, 8332.15, 8333.95, 8337.45, 8349.45, 8349.7, 8375.05, 8405.0, 8424.9, 8425.15, 8425.3, 8436.25, 8443.7, 8456.75, 8468.2, 8476.5, 8477.6, 8477.7, 8496.7, 8529.5, 8543.25, 8547.15, 8564.75, 8594.4, 8670.1, 8672.45, 8684.8]\n",
            "Churn\n",
            "['No', 'Yes']\n"
          ],
          "name": "stdout"
        }
      ]
    },
    {
      "cell_type": "code",
      "metadata": {
        "id": "L51Za1y9Y0U8"
      },
      "source": [
        "# mengganti 'No internet service' dan'No phone service' menjadi 'No'\n",
        "df_new2.replace('No internet service','No',inplace=True)\n",
        "df_new2.replace('No phone service','No',inplace=True)"
      ],
      "execution_count": 258,
      "outputs": []
    },
    {
      "cell_type": "code",
      "metadata": {
        "colab": {
          "base_uri": "https://localhost:8080/"
        },
        "id": "uHVKfxOwqsAN",
        "outputId": "a40d38c2-853f-4693-c984-ee3b89b0ccf7"
      },
      "source": [
        "# melihat original feature dan setelah dilakukan dummy\n",
        "print(\"Original features:\\n\", list(df_new2.columns), \"\\n\")\n",
        "df_dummies = pd.get_dummies(data=df_new2, columns=['InternetService','Contract','PaymentMethod'])\n",
        "print(\"Features after get_dummies:\\n\", list(df_dummies.columns))"
      ],
      "execution_count": 259,
      "outputs": [
        {
          "output_type": "stream",
          "text": [
            "Original features:\n",
            " ['gender', 'SeniorCitizen', 'Partner', 'Dependents', 'tenure', 'PhoneService', 'MultipleLines', 'InternetService', 'OnlineSecurity', 'OnlineBackup', 'DeviceProtection', 'TechSupport', 'StreamingTV', 'StreamingMovies', 'Contract', 'PaperlessBilling', 'PaymentMethod', 'MonthlyCharges', 'TotalCharges', 'Churn'] \n",
            "\n",
            "Features after get_dummies:\n",
            " ['gender', 'SeniorCitizen', 'Partner', 'Dependents', 'tenure', 'PhoneService', 'MultipleLines', 'OnlineSecurity', 'OnlineBackup', 'DeviceProtection', 'TechSupport', 'StreamingTV', 'StreamingMovies', 'PaperlessBilling', 'MonthlyCharges', 'TotalCharges', 'Churn', 'InternetService_DSL', 'InternetService_Fiber optic', 'InternetService_No', 'Contract_Month-to-month', 'Contract_One year', 'Contract_Two year', 'PaymentMethod_Bank transfer (automatic)', 'PaymentMethod_Credit card (automatic)', 'PaymentMethod_Electronic check', 'PaymentMethod_Mailed check']\n"
          ],
          "name": "stdout"
        }
      ]
    },
    {
      "cell_type": "code",
      "metadata": {
        "id": "-DxGWqRhaKmJ"
      },
      "source": [
        "# mengganti female dan male menjadi 1 dan 0 \n",
        "df_dummies.gender.replace({'Female':1,'Male':0},inplace=True)"
      ],
      "execution_count": 260,
      "outputs": []
    },
    {
      "cell_type": "code",
      "metadata": {
        "id": "HoO9AtVBbWIk"
      },
      "source": [
        "# mengganti Yes dan No menjadi 1 dan 0 \n",
        "columns = ['Partner','Dependents','PhoneService','MultipleLines','OnlineSecurity','OnlineBackup',\n",
        "           'DeviceProtection','TechSupport','StreamingTV','StreamingMovies','PaperlessBilling','Churn']\n",
        "for col in columns:\n",
        "    df_dummies[col].replace({'Yes': 1,'No': 0},inplace=True)"
      ],
      "execution_count": 261,
      "outputs": []
    },
    {
      "cell_type": "code",
      "metadata": {
        "id": "lGs1ftXPxouM"
      },
      "source": [
        "# mengisi NaN value pada feature total charge dengan menggunakan mean\n",
        "df_dummies.TotalCharges = df_dummies.TotalCharges.fillna(df_dummies.TotalCharges.mean())"
      ],
      "execution_count": 262,
      "outputs": []
    },
    {
      "cell_type": "code",
      "metadata": {
        "colab": {
          "base_uri": "https://localhost:8080/",
          "height": 165
        },
        "id": "BK13GaWubj5n",
        "outputId": "68199d64-2d08-45cb-ee39-29106cd71da8"
      },
      "source": [
        "# menampilkan hasil akhir dataset\n",
        "df_dummies.head(2)"
      ],
      "execution_count": 263,
      "outputs": [
        {
          "output_type": "execute_result",
          "data": {
            "text/html": [
              "<div>\n",
              "<style scoped>\n",
              "    .dataframe tbody tr th:only-of-type {\n",
              "        vertical-align: middle;\n",
              "    }\n",
              "\n",
              "    .dataframe tbody tr th {\n",
              "        vertical-align: top;\n",
              "    }\n",
              "\n",
              "    .dataframe thead th {\n",
              "        text-align: right;\n",
              "    }\n",
              "</style>\n",
              "<table border=\"1\" class=\"dataframe\">\n",
              "  <thead>\n",
              "    <tr style=\"text-align: right;\">\n",
              "      <th></th>\n",
              "      <th>gender</th>\n",
              "      <th>SeniorCitizen</th>\n",
              "      <th>Partner</th>\n",
              "      <th>Dependents</th>\n",
              "      <th>tenure</th>\n",
              "      <th>PhoneService</th>\n",
              "      <th>MultipleLines</th>\n",
              "      <th>OnlineSecurity</th>\n",
              "      <th>OnlineBackup</th>\n",
              "      <th>DeviceProtection</th>\n",
              "      <th>TechSupport</th>\n",
              "      <th>StreamingTV</th>\n",
              "      <th>StreamingMovies</th>\n",
              "      <th>PaperlessBilling</th>\n",
              "      <th>MonthlyCharges</th>\n",
              "      <th>TotalCharges</th>\n",
              "      <th>Churn</th>\n",
              "      <th>InternetService_DSL</th>\n",
              "      <th>InternetService_Fiber optic</th>\n",
              "      <th>InternetService_No</th>\n",
              "      <th>Contract_Month-to-month</th>\n",
              "      <th>Contract_One year</th>\n",
              "      <th>Contract_Two year</th>\n",
              "      <th>PaymentMethod_Bank transfer (automatic)</th>\n",
              "      <th>PaymentMethod_Credit card (automatic)</th>\n",
              "      <th>PaymentMethod_Electronic check</th>\n",
              "      <th>PaymentMethod_Mailed check</th>\n",
              "    </tr>\n",
              "  </thead>\n",
              "  <tbody>\n",
              "    <tr>\n",
              "      <th>0</th>\n",
              "      <td>1</td>\n",
              "      <td>0</td>\n",
              "      <td>1</td>\n",
              "      <td>0</td>\n",
              "      <td>1</td>\n",
              "      <td>0</td>\n",
              "      <td>0</td>\n",
              "      <td>0</td>\n",
              "      <td>1</td>\n",
              "      <td>0</td>\n",
              "      <td>0</td>\n",
              "      <td>0</td>\n",
              "      <td>0</td>\n",
              "      <td>1</td>\n",
              "      <td>29.85</td>\n",
              "      <td>29.85</td>\n",
              "      <td>0</td>\n",
              "      <td>1</td>\n",
              "      <td>0</td>\n",
              "      <td>0</td>\n",
              "      <td>1</td>\n",
              "      <td>0</td>\n",
              "      <td>0</td>\n",
              "      <td>0</td>\n",
              "      <td>0</td>\n",
              "      <td>1</td>\n",
              "      <td>0</td>\n",
              "    </tr>\n",
              "    <tr>\n",
              "      <th>1</th>\n",
              "      <td>0</td>\n",
              "      <td>0</td>\n",
              "      <td>0</td>\n",
              "      <td>0</td>\n",
              "      <td>34</td>\n",
              "      <td>1</td>\n",
              "      <td>0</td>\n",
              "      <td>1</td>\n",
              "      <td>0</td>\n",
              "      <td>1</td>\n",
              "      <td>0</td>\n",
              "      <td>0</td>\n",
              "      <td>0</td>\n",
              "      <td>0</td>\n",
              "      <td>56.95</td>\n",
              "      <td>1889.50</td>\n",
              "      <td>0</td>\n",
              "      <td>1</td>\n",
              "      <td>0</td>\n",
              "      <td>0</td>\n",
              "      <td>0</td>\n",
              "      <td>1</td>\n",
              "      <td>0</td>\n",
              "      <td>0</td>\n",
              "      <td>0</td>\n",
              "      <td>0</td>\n",
              "      <td>1</td>\n",
              "    </tr>\n",
              "  </tbody>\n",
              "</table>\n",
              "</div>"
            ],
            "text/plain": [
              "   gender  ...  PaymentMethod_Mailed check\n",
              "0       1  ...                           0\n",
              "1       0  ...                           1\n",
              "\n",
              "[2 rows x 27 columns]"
            ]
          },
          "metadata": {},
          "execution_count": 263
        }
      ]
    },
    {
      "cell_type": "code",
      "metadata": {
        "colab": {
          "base_uri": "https://localhost:8080/"
        },
        "id": "Vmq9hTA5x4JL",
        "outputId": "ed47a18b-bbc8-4da5-b624-7e4ef1a4aff0"
      },
      "source": [
        "# melihat apakah masih ada NaN value\n",
        "df_dummies.isna().sum()"
      ],
      "execution_count": 264,
      "outputs": [
        {
          "output_type": "execute_result",
          "data": {
            "text/plain": [
              "gender                                     0\n",
              "SeniorCitizen                              0\n",
              "Partner                                    0\n",
              "Dependents                                 0\n",
              "tenure                                     0\n",
              "PhoneService                               0\n",
              "MultipleLines                              0\n",
              "OnlineSecurity                             0\n",
              "OnlineBackup                               0\n",
              "DeviceProtection                           0\n",
              "TechSupport                                0\n",
              "StreamingTV                                0\n",
              "StreamingMovies                            0\n",
              "PaperlessBilling                           0\n",
              "MonthlyCharges                             0\n",
              "TotalCharges                               0\n",
              "Churn                                      0\n",
              "InternetService_DSL                        0\n",
              "InternetService_Fiber optic                0\n",
              "InternetService_No                         0\n",
              "Contract_Month-to-month                    0\n",
              "Contract_One year                          0\n",
              "Contract_Two year                          0\n",
              "PaymentMethod_Bank transfer (automatic)    0\n",
              "PaymentMethod_Credit card (automatic)      0\n",
              "PaymentMethod_Electronic check             0\n",
              "PaymentMethod_Mailed check                 0\n",
              "dtype: int64"
            ]
          },
          "metadata": {},
          "execution_count": 264
        }
      ]
    },
    {
      "cell_type": "code",
      "metadata": {
        "id": "jSJ44Xm_vIlR"
      },
      "source": [
        "from sklearn.pipeline import Pipeline\n",
        "from sklearn.preprocessing import MinMaxScaler\n",
        "\n",
        "#melakukan pipeline untuk scaling feature tertentu\n",
        "minmax = ['tenure','MonthlyCharges','TotalCharges']\n",
        "df_dummies_minmax= pd.DataFrame(df_dummies, columns=minmax)\n",
        "df_dummies_remain= df_dummies.drop( columns=minmax)\n",
        "\n",
        "minmax_transformer = Pipeline([('scaler', MinMaxScaler())])\n",
        "\n",
        "scaled = minmax_transformer.fit_transform(df_dummies_minmax)\n",
        "\n",
        "df_dummies_scaled=pd.DataFrame(scaled,columns=minmax,index=df_dummies_remain.index)\n",
        "\n",
        "df_dummies= pd.concat([df_dummies_remain,df_dummies_scaled], axis=1)"
      ],
      "execution_count": 265,
      "outputs": []
    },
    {
      "cell_type": "code",
      "metadata": {
        "id": "SqhNnfejEJKb",
        "colab": {
          "base_uri": "https://localhost:8080/",
          "height": 165
        },
        "outputId": "47764d18-5346-4752-d330-7f6be3599ba5"
      },
      "source": [
        "# menampilkan hasil scaling\n",
        "df_dummies.head(2)"
      ],
      "execution_count": 266,
      "outputs": [
        {
          "output_type": "execute_result",
          "data": {
            "text/html": [
              "<div>\n",
              "<style scoped>\n",
              "    .dataframe tbody tr th:only-of-type {\n",
              "        vertical-align: middle;\n",
              "    }\n",
              "\n",
              "    .dataframe tbody tr th {\n",
              "        vertical-align: top;\n",
              "    }\n",
              "\n",
              "    .dataframe thead th {\n",
              "        text-align: right;\n",
              "    }\n",
              "</style>\n",
              "<table border=\"1\" class=\"dataframe\">\n",
              "  <thead>\n",
              "    <tr style=\"text-align: right;\">\n",
              "      <th></th>\n",
              "      <th>gender</th>\n",
              "      <th>SeniorCitizen</th>\n",
              "      <th>Partner</th>\n",
              "      <th>Dependents</th>\n",
              "      <th>PhoneService</th>\n",
              "      <th>MultipleLines</th>\n",
              "      <th>OnlineSecurity</th>\n",
              "      <th>OnlineBackup</th>\n",
              "      <th>DeviceProtection</th>\n",
              "      <th>TechSupport</th>\n",
              "      <th>StreamingTV</th>\n",
              "      <th>StreamingMovies</th>\n",
              "      <th>PaperlessBilling</th>\n",
              "      <th>Churn</th>\n",
              "      <th>InternetService_DSL</th>\n",
              "      <th>InternetService_Fiber optic</th>\n",
              "      <th>InternetService_No</th>\n",
              "      <th>Contract_Month-to-month</th>\n",
              "      <th>Contract_One year</th>\n",
              "      <th>Contract_Two year</th>\n",
              "      <th>PaymentMethod_Bank transfer (automatic)</th>\n",
              "      <th>PaymentMethod_Credit card (automatic)</th>\n",
              "      <th>PaymentMethod_Electronic check</th>\n",
              "      <th>PaymentMethod_Mailed check</th>\n",
              "      <th>tenure</th>\n",
              "      <th>MonthlyCharges</th>\n",
              "      <th>TotalCharges</th>\n",
              "    </tr>\n",
              "  </thead>\n",
              "  <tbody>\n",
              "    <tr>\n",
              "      <th>0</th>\n",
              "      <td>1</td>\n",
              "      <td>0</td>\n",
              "      <td>1</td>\n",
              "      <td>0</td>\n",
              "      <td>0</td>\n",
              "      <td>0</td>\n",
              "      <td>0</td>\n",
              "      <td>1</td>\n",
              "      <td>0</td>\n",
              "      <td>0</td>\n",
              "      <td>0</td>\n",
              "      <td>0</td>\n",
              "      <td>1</td>\n",
              "      <td>0</td>\n",
              "      <td>1</td>\n",
              "      <td>0</td>\n",
              "      <td>0</td>\n",
              "      <td>1</td>\n",
              "      <td>0</td>\n",
              "      <td>0</td>\n",
              "      <td>0</td>\n",
              "      <td>0</td>\n",
              "      <td>1</td>\n",
              "      <td>0</td>\n",
              "      <td>0.013889</td>\n",
              "      <td>0.115423</td>\n",
              "      <td>0.001275</td>\n",
              "    </tr>\n",
              "    <tr>\n",
              "      <th>1</th>\n",
              "      <td>0</td>\n",
              "      <td>0</td>\n",
              "      <td>0</td>\n",
              "      <td>0</td>\n",
              "      <td>1</td>\n",
              "      <td>0</td>\n",
              "      <td>1</td>\n",
              "      <td>0</td>\n",
              "      <td>1</td>\n",
              "      <td>0</td>\n",
              "      <td>0</td>\n",
              "      <td>0</td>\n",
              "      <td>0</td>\n",
              "      <td>0</td>\n",
              "      <td>1</td>\n",
              "      <td>0</td>\n",
              "      <td>0</td>\n",
              "      <td>0</td>\n",
              "      <td>1</td>\n",
              "      <td>0</td>\n",
              "      <td>0</td>\n",
              "      <td>0</td>\n",
              "      <td>0</td>\n",
              "      <td>1</td>\n",
              "      <td>0.472222</td>\n",
              "      <td>0.385075</td>\n",
              "      <td>0.215867</td>\n",
              "    </tr>\n",
              "  </tbody>\n",
              "</table>\n",
              "</div>"
            ],
            "text/plain": [
              "   gender  SeniorCitizen  Partner  ...    tenure  MonthlyCharges  TotalCharges\n",
              "0       1              0        1  ...  0.013889        0.115423      0.001275\n",
              "1       0              0        0  ...  0.472222        0.385075      0.215867\n",
              "\n",
              "[2 rows x 27 columns]"
            ]
          },
          "metadata": {},
          "execution_count": 266
        }
      ]
    },
    {
      "cell_type": "code",
      "metadata": {
        "id": "y1Gv3sg2B-T6",
        "colab": {
          "base_uri": "https://localhost:8080/",
          "height": 134
        },
        "outputId": "c6f057f8-8483-4a03-c9dd-3fc440ad7d9d"
      },
      "source": [
        "# melihat korelasi feature berdasarkan Churn\n",
        "dumcor= pd.DataFrame([df_dummies.corr()[\"Churn\"].sort_values(ascending=False)])\n",
        "dumcor"
      ],
      "execution_count": 267,
      "outputs": [
        {
          "output_type": "execute_result",
          "data": {
            "text/html": [
              "<div>\n",
              "<style scoped>\n",
              "    .dataframe tbody tr th:only-of-type {\n",
              "        vertical-align: middle;\n",
              "    }\n",
              "\n",
              "    .dataframe tbody tr th {\n",
              "        vertical-align: top;\n",
              "    }\n",
              "\n",
              "    .dataframe thead th {\n",
              "        text-align: right;\n",
              "    }\n",
              "</style>\n",
              "<table border=\"1\" class=\"dataframe\">\n",
              "  <thead>\n",
              "    <tr style=\"text-align: right;\">\n",
              "      <th></th>\n",
              "      <th>Churn</th>\n",
              "      <th>Contract_Month-to-month</th>\n",
              "      <th>InternetService_Fiber optic</th>\n",
              "      <th>PaymentMethod_Electronic check</th>\n",
              "      <th>MonthlyCharges</th>\n",
              "      <th>PaperlessBilling</th>\n",
              "      <th>SeniorCitizen</th>\n",
              "      <th>StreamingTV</th>\n",
              "      <th>StreamingMovies</th>\n",
              "      <th>MultipleLines</th>\n",
              "      <th>PhoneService</th>\n",
              "      <th>gender</th>\n",
              "      <th>DeviceProtection</th>\n",
              "      <th>OnlineBackup</th>\n",
              "      <th>PaymentMethod_Mailed check</th>\n",
              "      <th>PaymentMethod_Bank transfer (automatic)</th>\n",
              "      <th>InternetService_DSL</th>\n",
              "      <th>PaymentMethod_Credit card (automatic)</th>\n",
              "      <th>Partner</th>\n",
              "      <th>Dependents</th>\n",
              "      <th>TechSupport</th>\n",
              "      <th>OnlineSecurity</th>\n",
              "      <th>Contract_One year</th>\n",
              "      <th>TotalCharges</th>\n",
              "      <th>InternetService_No</th>\n",
              "      <th>Contract_Two year</th>\n",
              "      <th>tenure</th>\n",
              "    </tr>\n",
              "  </thead>\n",
              "  <tbody>\n",
              "    <tr>\n",
              "      <th>Churn</th>\n",
              "      <td>1.0</td>\n",
              "      <td>0.405103</td>\n",
              "      <td>0.30802</td>\n",
              "      <td>0.301919</td>\n",
              "      <td>0.193356</td>\n",
              "      <td>0.191825</td>\n",
              "      <td>0.150889</td>\n",
              "      <td>0.063228</td>\n",
              "      <td>0.061382</td>\n",
              "      <td>0.040102</td>\n",
              "      <td>0.011942</td>\n",
              "      <td>0.008612</td>\n",
              "      <td>-0.06616</td>\n",
              "      <td>-0.082255</td>\n",
              "      <td>-0.091683</td>\n",
              "      <td>-0.117937</td>\n",
              "      <td>-0.124214</td>\n",
              "      <td>-0.134302</td>\n",
              "      <td>-0.150448</td>\n",
              "      <td>-0.164221</td>\n",
              "      <td>-0.164674</td>\n",
              "      <td>-0.171226</td>\n",
              "      <td>-0.17782</td>\n",
              "      <td>-0.199428</td>\n",
              "      <td>-0.22789</td>\n",
              "      <td>-0.302253</td>\n",
              "      <td>-0.352229</td>\n",
              "    </tr>\n",
              "  </tbody>\n",
              "</table>\n",
              "</div>"
            ],
            "text/plain": [
              "       Churn  Contract_Month-to-month  ...  Contract_Two year    tenure\n",
              "Churn    1.0                 0.405103  ...          -0.302253 -0.352229\n",
              "\n",
              "[1 rows x 27 columns]"
            ]
          },
          "metadata": {},
          "execution_count": 267
        }
      ]
    },
    {
      "cell_type": "code",
      "metadata": {
        "colab": {
          "base_uri": "https://localhost:8080/",
          "height": 542
        },
        "id": "5DY0FX5-qG00",
        "outputId": "a1af80d4-d0f4-4c41-9290-65008b597005"
      },
      "source": [
        "# menampilkan plot korelasi sebelumnya\n",
        "df_dummies.corr()[\"Churn\"].sort_values(ascending=False).plot(kind='bar', figsize=(14,5))"
      ],
      "execution_count": 268,
      "outputs": [
        {
          "output_type": "execute_result",
          "data": {
            "text/plain": [
              "<matplotlib.axes._subplots.AxesSubplot at 0x7f3fda408b90>"
            ]
          },
          "metadata": {},
          "execution_count": 268
        },
        {
          "output_type": "display_data",
          "data": {
            "image/png": "[encoded data removed]",
            "text/plain": [
              "<Figure size 1008x360 with 1 Axes>"
            ]
          },
          "metadata": {
            "needs_background": "light"
          }
        }
      ]
    },
    {
      "cell_type": "code",
      "metadata": {
        "id": "40V816Uub25A"
      },
      "source": [
        "#split dataset menjadi X dan y\n",
        "X = df_dummies.drop('Churn',axis=1)\n",
        "y = df_dummies['Churn']"
      ],
      "execution_count": 269,
      "outputs": []
    },
    {
      "cell_type": "markdown",
      "metadata": {
        "id": "3l_hm3Gu61m1"
      },
      "source": [
        "split data"
      ]
    },
    {
      "cell_type": "code",
      "metadata": {
        "id": "jtu8uiUmwHJj"
      },
      "source": [
        "# melakukan split data menjadi train test dan validation\n",
        "from sklearn.model_selection import train_test_split\n",
        "X_train, X_test, y_train, y_test = train_test_split(X,y,test_size=0.2,stratify = y,random_state=42)\n",
        "X_train, X_val, y_train, y_val = train_test_split(X_train,y_train,test_size=0.2,stratify = y_train,random_state=42)"
      ],
      "execution_count": 270,
      "outputs": []
    },
    {
      "cell_type": "code",
      "metadata": {
        "colab": {
          "base_uri": "https://localhost:8080/"
        },
        "id": "7_dByUy8w47_",
        "outputId": "3fceefa2-74fa-49d1-8301-dd76801f58be"
      },
      "source": [
        "print('X')\n",
        "print('train:',X_train.shape)\n",
        "print('test:',X_test.shape)\n",
        "print()\n",
        "print('y')\n",
        "print('train:',y_train.shape)\n",
        "print('test:',y_test.shape)\n",
        "print()\n",
        "print('X y')\n",
        "print('X val:',X_val.shape)\n",
        "print('y val:',y_val.shape)"
      ],
      "execution_count": 271,
      "outputs": [
        {
          "output_type": "stream",
          "text": [
            "X\n",
            "train: (4507, 26)\n",
            "test: (1409, 26)\n",
            "\n",
            "y\n",
            "train: (4507,)\n",
            "test: (1409,)\n",
            "\n",
            "X y\n",
            "X val: (1127, 26)\n",
            "y val: (1127,)\n"
          ],
          "name": "stdout"
        }
      ]
    },
    {
      "cell_type": "markdown",
      "metadata": {
        "id": "ypv05jguyYZk"
      },
      "source": [
        "#Model and Train"
      ]
    },
    {
      "cell_type": "markdown",
      "metadata": {
        "id": "kFb2gu6hqyOx"
      },
      "source": [
        "#sequential"
      ]
    },
    {
      "cell_type": "code",
      "metadata": {
        "id": "gkmvnmgoyYF1"
      },
      "source": [
        "import tensorflow as tf\n",
        "from tensorflow import keras\n",
        "from keras.layers import Dropout"
      ],
      "execution_count": 272,
      "outputs": []
    },
    {
      "cell_type": "code",
      "metadata": {
        "id": "73E68fWTxdUy"
      },
      "source": [
        "keras.backend.clear_session()\n",
        "np.random.seed(42)\n",
        "tf.random.set_seed(42)"
      ],
      "execution_count": 273,
      "outputs": []
    },
    {
      "cell_type": "markdown",
      "metadata": {
        "id": "3rwAatEyHhde"
      },
      "source": [
        "#Model Sequential"
      ]
    },
    {
      "cell_type": "code",
      "metadata": {
        "id": "o9H2KO3lyjyU"
      },
      "source": [
        "# membuat model sequential \n",
        "model1 = keras.Sequential([\n",
        "    keras.layers.Dense(26, input_shape=(26,), activation='relu'),\n",
        "    keras.layers.Dropout(0.2),\n",
        "    keras.layers.Dense(15, activation='relu'),\n",
        "    keras.layers.Dropout(0.2),\n",
        "    keras.layers.Dense(1, activation='sigmoid')\n",
        "])"
      ],
      "execution_count": 303,
      "outputs": []
    },
    {
      "cell_type": "code",
      "metadata": {
        "colab": {
          "base_uri": "https://localhost:8080/"
        },
        "id": "m3cOvNAOy7zO",
        "outputId": "c10f8edc-3ff4-4eeb-897c-905d9ee3c521"
      },
      "source": [
        "# menampilkan layer model\n",
        "model1.layers"
      ],
      "execution_count": 304,
      "outputs": [
        {
          "output_type": "execute_result",
          "data": {
            "text/plain": [
              "[<keras.layers.core.Dense at 0x7f3fda09fb50>,\n",
              " <keras.layers.core.Dropout at 0x7f3fda0086d0>,\n",
              " <keras.layers.core.Dense at 0x7f3fda00e410>,\n",
              " <keras.layers.core.Dropout at 0x7f3fda00e690>,\n",
              " <keras.layers.core.Dense at 0x7f3fda226550>]"
            ]
          },
          "metadata": {},
          "execution_count": 304
        }
      ]
    },
    {
      "cell_type": "code",
      "metadata": {
        "colab": {
          "base_uri": "https://localhost:8080/"
        },
        "id": "JB6gxkOSzAhk",
        "outputId": "58255dc4-0eef-4f6d-9fa3-d64f09eb6e3e"
      },
      "source": [
        "# summary model sequential\n",
        "model1.summary()"
      ],
      "execution_count": 305,
      "outputs": [
        {
          "output_type": "stream",
          "text": [
            "Model: \"sequential_1\"\n",
            "_________________________________________________________________\n",
            "Layer (type)                 Output Shape              Param #   \n",
            "=================================================================\n",
            "dense_3 (Dense)              (None, 26)                702       \n",
            "_________________________________________________________________\n",
            "dropout_2 (Dropout)          (None, 26)                0         \n",
            "_________________________________________________________________\n",
            "dense_4 (Dense)              (None, 15)                405       \n",
            "_________________________________________________________________\n",
            "dropout_3 (Dropout)          (None, 15)                0         \n",
            "_________________________________________________________________\n",
            "dense_5 (Dense)              (None, 1)                 16        \n",
            "=================================================================\n",
            "Total params: 1,123\n",
            "Trainable params: 1,123\n",
            "Non-trainable params: 0\n",
            "_________________________________________________________________\n"
          ],
          "name": "stdout"
        }
      ]
    },
    {
      "cell_type": "code",
      "metadata": {
        "colab": {
          "base_uri": "https://localhost:8080/",
          "height": 644
        },
        "id": "FT7eN1zPzEeB",
        "outputId": "9a599376-c725-4eb2-aee3-1f84b4db3f01"
      },
      "source": [
        "# plot model sequential\n",
        "keras.utils.plot_model(model1, \"model_telco.png\", show_shapes=True)"
      ],
      "execution_count": 306,
      "outputs": [
        {
          "output_type": "execute_result",
          "data": {
            "image/png": "[encoded data removed]",
            "text/plain": [
              "<IPython.core.display.Image object>"
            ]
          },
          "metadata": {},
          "execution_count": 306
        }
      ]
    },
    {
      "cell_type": "code",
      "metadata": {
        "colab": {
          "base_uri": "https://localhost:8080/",
          "height": 35
        },
        "id": "Xmx5tE3HzX60",
        "outputId": "a7b1891f-71dc-440c-eebd-b708e70c7b66"
      },
      "source": [
        "# menampilkan hidden layer\n",
        "hidden1 = model1.layers[1]\n",
        "hidden1.name"
      ],
      "execution_count": 307,
      "outputs": [
        {
          "output_type": "execute_result",
          "data": {
            "application/vnd.google.colaboratory.intrinsic+json": {
              "type": "string"
            },
            "text/plain": [
              "'dropout_2'"
            ]
          },
          "metadata": {},
          "execution_count": 307
        }
      ]
    },
    {
      "cell_type": "code",
      "metadata": {
        "colab": {
          "base_uri": "https://localhost:8080/"
        },
        "id": "54kiPSOSRm26",
        "outputId": "d4f025ce-b780-42b5-deec-0af002266a6e"
      },
      "source": [
        "# memastikan hiden layer\n",
        "model1.get_layer(hidden1.name) is hidden1"
      ],
      "execution_count": 308,
      "outputs": [
        {
          "output_type": "execute_result",
          "data": {
            "text/plain": [
              "True"
            ]
          },
          "metadata": {},
          "execution_count": 308
        }
      ]
    },
    {
      "cell_type": "code",
      "metadata": {
        "id": "8ma0zqyaz1KU"
      },
      "source": [
        "# melakukan compile model\n",
        "model1.compile(loss='binary_crossentropy',\n",
        "              optimizer='adam',\n",
        "              metrics=['accuracy'])"
      ],
      "execution_count": 309,
      "outputs": []
    },
    {
      "cell_type": "code",
      "metadata": {
        "colab": {
          "base_uri": "https://localhost:8080/"
        },
        "id": "6aFwfIwK0KaA",
        "outputId": "274fa4d3-a09c-4a89-fd1a-b4be22869515"
      },
      "source": [
        "# melakukan fit train dan validation dengan model\n",
        "history = model1.fit(X_train, y_train, epochs=100,\n",
        "                    validation_data=(X_val, y_val))"
      ],
      "execution_count": 310,
      "outputs": [
        {
          "output_type": "stream",
          "text": [
            "Epoch 1/100\n",
            "141/141 [==============================] - 1s 4ms/step - loss: 0.5394 - accuracy: 0.7331 - val_loss: 0.4510 - val_accuracy: 0.7977\n",
            "Epoch 2/100\n",
            "141/141 [==============================] - 0s 3ms/step - loss: 0.4576 - accuracy: 0.7768 - val_loss: 0.4324 - val_accuracy: 0.8030\n",
            "Epoch 3/100\n",
            "141/141 [==============================] - 0s 2ms/step - loss: 0.4492 - accuracy: 0.7772 - val_loss: 0.4303 - val_accuracy: 0.8057\n",
            "Epoch 4/100\n",
            "141/141 [==============================] - 0s 3ms/step - loss: 0.4437 - accuracy: 0.7786 - val_loss: 0.4273 - val_accuracy: 0.8075\n",
            "Epoch 5/100\n",
            "141/141 [==============================] - 0s 3ms/step - loss: 0.4400 - accuracy: 0.7890 - val_loss: 0.4263 - val_accuracy: 0.8092\n",
            "Epoch 6/100\n",
            "141/141 [==============================] - 0s 2ms/step - loss: 0.4349 - accuracy: 0.7897 - val_loss: 0.4251 - val_accuracy: 0.8137\n",
            "Epoch 7/100\n",
            "141/141 [==============================] - 0s 2ms/step - loss: 0.4346 - accuracy: 0.7914 - val_loss: 0.4243 - val_accuracy: 0.8057\n",
            "Epoch 8/100\n",
            "141/141 [==============================] - 0s 2ms/step - loss: 0.4313 - accuracy: 0.7941 - val_loss: 0.4261 - val_accuracy: 0.8092\n",
            "Epoch 9/100\n",
            "141/141 [==============================] - 0s 2ms/step - loss: 0.4278 - accuracy: 0.7937 - val_loss: 0.4241 - val_accuracy: 0.8075\n",
            "Epoch 10/100\n",
            "141/141 [==============================] - 0s 3ms/step - loss: 0.4284 - accuracy: 0.7963 - val_loss: 0.4240 - val_accuracy: 0.8048\n",
            "Epoch 11/100\n",
            "141/141 [==============================] - 0s 2ms/step - loss: 0.4262 - accuracy: 0.7954 - val_loss: 0.4248 - val_accuracy: 0.8083\n",
            "Epoch 12/100\n",
            "141/141 [==============================] - 0s 3ms/step - loss: 0.4221 - accuracy: 0.7968 - val_loss: 0.4225 - val_accuracy: 0.8083\n",
            "Epoch 13/100\n",
            "141/141 [==============================] - 0s 2ms/step - loss: 0.4242 - accuracy: 0.7990 - val_loss: 0.4230 - val_accuracy: 0.8030\n",
            "Epoch 14/100\n",
            "141/141 [==============================] - 0s 2ms/step - loss: 0.4188 - accuracy: 0.7948 - val_loss: 0.4233 - val_accuracy: 0.8030\n",
            "Epoch 15/100\n",
            "141/141 [==============================] - 0s 2ms/step - loss: 0.4167 - accuracy: 0.8014 - val_loss: 0.4220 - val_accuracy: 0.8092\n",
            "Epoch 16/100\n",
            "141/141 [==============================] - 0s 2ms/step - loss: 0.4188 - accuracy: 0.8032 - val_loss: 0.4227 - val_accuracy: 0.8137\n",
            "Epoch 17/100\n",
            "141/141 [==============================] - 0s 2ms/step - loss: 0.4174 - accuracy: 0.8045 - val_loss: 0.4241 - val_accuracy: 0.8146\n",
            "Epoch 18/100\n",
            "141/141 [==============================] - 0s 3ms/step - loss: 0.4167 - accuracy: 0.8039 - val_loss: 0.4213 - val_accuracy: 0.8146\n",
            "Epoch 19/100\n",
            "141/141 [==============================] - 0s 3ms/step - loss: 0.4185 - accuracy: 0.8023 - val_loss: 0.4238 - val_accuracy: 0.8154\n",
            "Epoch 20/100\n",
            "141/141 [==============================] - 0s 2ms/step - loss: 0.4121 - accuracy: 0.8070 - val_loss: 0.4230 - val_accuracy: 0.8163\n",
            "Epoch 21/100\n",
            "141/141 [==============================] - 0s 2ms/step - loss: 0.4130 - accuracy: 0.8043 - val_loss: 0.4227 - val_accuracy: 0.8110\n",
            "Epoch 22/100\n",
            "141/141 [==============================] - 0s 2ms/step - loss: 0.4124 - accuracy: 0.8030 - val_loss: 0.4279 - val_accuracy: 0.8101\n",
            "Epoch 23/100\n",
            "141/141 [==============================] - 0s 2ms/step - loss: 0.4088 - accuracy: 0.8107 - val_loss: 0.4236 - val_accuracy: 0.8137\n",
            "Epoch 24/100\n",
            "141/141 [==============================] - 0s 2ms/step - loss: 0.4073 - accuracy: 0.8087 - val_loss: 0.4233 - val_accuracy: 0.8137\n",
            "Epoch 25/100\n",
            "141/141 [==============================] - 0s 2ms/step - loss: 0.4056 - accuracy: 0.8090 - val_loss: 0.4226 - val_accuracy: 0.8083\n",
            "Epoch 26/100\n",
            "141/141 [==============================] - 0s 2ms/step - loss: 0.4069 - accuracy: 0.8094 - val_loss: 0.4229 - val_accuracy: 0.8092\n",
            "Epoch 27/100\n",
            "141/141 [==============================] - 0s 3ms/step - loss: 0.4056 - accuracy: 0.8125 - val_loss: 0.4234 - val_accuracy: 0.8101\n",
            "Epoch 28/100\n",
            "141/141 [==============================] - 0s 2ms/step - loss: 0.4059 - accuracy: 0.8092 - val_loss: 0.4235 - val_accuracy: 0.8163\n",
            "Epoch 29/100\n",
            "141/141 [==============================] - 0s 2ms/step - loss: 0.4017 - accuracy: 0.8138 - val_loss: 0.4229 - val_accuracy: 0.8101\n",
            "Epoch 30/100\n",
            "141/141 [==============================] - 0s 2ms/step - loss: 0.4039 - accuracy: 0.8132 - val_loss: 0.4247 - val_accuracy: 0.8110\n",
            "Epoch 31/100\n",
            "141/141 [==============================] - 0s 3ms/step - loss: 0.4043 - accuracy: 0.8112 - val_loss: 0.4259 - val_accuracy: 0.8092\n",
            "Epoch 32/100\n",
            "141/141 [==============================] - 0s 2ms/step - loss: 0.4054 - accuracy: 0.8067 - val_loss: 0.4238 - val_accuracy: 0.8128\n",
            "Epoch 33/100\n",
            "141/141 [==============================] - 0s 2ms/step - loss: 0.4001 - accuracy: 0.8118 - val_loss: 0.4260 - val_accuracy: 0.8128\n",
            "Epoch 34/100\n",
            "141/141 [==============================] - 0s 2ms/step - loss: 0.3968 - accuracy: 0.8203 - val_loss: 0.4242 - val_accuracy: 0.8163\n",
            "Epoch 35/100\n",
            "141/141 [==============================] - 0s 3ms/step - loss: 0.4010 - accuracy: 0.8118 - val_loss: 0.4263 - val_accuracy: 0.8083\n",
            "Epoch 36/100\n",
            "141/141 [==============================] - 0s 3ms/step - loss: 0.3990 - accuracy: 0.8181 - val_loss: 0.4251 - val_accuracy: 0.8066\n",
            "Epoch 37/100\n",
            "141/141 [==============================] - 0s 2ms/step - loss: 0.3968 - accuracy: 0.8172 - val_loss: 0.4257 - val_accuracy: 0.8083\n",
            "Epoch 38/100\n",
            "141/141 [==============================] - 0s 2ms/step - loss: 0.3998 - accuracy: 0.8152 - val_loss: 0.4260 - val_accuracy: 0.8119\n",
            "Epoch 39/100\n",
            "141/141 [==============================] - 0s 3ms/step - loss: 0.3993 - accuracy: 0.8201 - val_loss: 0.4252 - val_accuracy: 0.8039\n",
            "Epoch 40/100\n",
            "141/141 [==============================] - 0s 2ms/step - loss: 0.3995 - accuracy: 0.8198 - val_loss: 0.4259 - val_accuracy: 0.8110\n",
            "Epoch 41/100\n",
            "141/141 [==============================] - 0s 2ms/step - loss: 0.3971 - accuracy: 0.8165 - val_loss: 0.4248 - val_accuracy: 0.8083\n",
            "Epoch 42/100\n",
            "141/141 [==============================] - 0s 2ms/step - loss: 0.3984 - accuracy: 0.8165 - val_loss: 0.4263 - val_accuracy: 0.8083\n",
            "Epoch 43/100\n",
            "141/141 [==============================] - 0s 3ms/step - loss: 0.3989 - accuracy: 0.8174 - val_loss: 0.4258 - val_accuracy: 0.8083\n",
            "Epoch 44/100\n",
            "141/141 [==============================] - 0s 3ms/step - loss: 0.3977 - accuracy: 0.8154 - val_loss: 0.4283 - val_accuracy: 0.8048\n",
            "Epoch 45/100\n",
            "141/141 [==============================] - 0s 3ms/step - loss: 0.3933 - accuracy: 0.8181 - val_loss: 0.4312 - val_accuracy: 0.8030\n",
            "Epoch 46/100\n",
            "141/141 [==============================] - 0s 2ms/step - loss: 0.3982 - accuracy: 0.8150 - val_loss: 0.4281 - val_accuracy: 0.8030\n",
            "Epoch 47/100\n",
            "141/141 [==============================] - 0s 2ms/step - loss: 0.3945 - accuracy: 0.8174 - val_loss: 0.4282 - val_accuracy: 0.8110\n",
            "Epoch 48/100\n",
            "141/141 [==============================] - 0s 2ms/step - loss: 0.3938 - accuracy: 0.8198 - val_loss: 0.4291 - val_accuracy: 0.8075\n",
            "Epoch 49/100\n",
            "141/141 [==============================] - 0s 2ms/step - loss: 0.3920 - accuracy: 0.8194 - val_loss: 0.4277 - val_accuracy: 0.8075\n",
            "Epoch 50/100\n",
            "141/141 [==============================] - 0s 2ms/step - loss: 0.3916 - accuracy: 0.8207 - val_loss: 0.4296 - val_accuracy: 0.8039\n",
            "Epoch 51/100\n",
            "141/141 [==============================] - 0s 3ms/step - loss: 0.3955 - accuracy: 0.8181 - val_loss: 0.4293 - val_accuracy: 0.8021\n",
            "Epoch 52/100\n",
            "141/141 [==============================] - 0s 2ms/step - loss: 0.3892 - accuracy: 0.8192 - val_loss: 0.4316 - val_accuracy: 0.8057\n",
            "Epoch 53/100\n",
            "141/141 [==============================] - 0s 2ms/step - loss: 0.3907 - accuracy: 0.8227 - val_loss: 0.4320 - val_accuracy: 0.8012\n",
            "Epoch 54/100\n",
            "141/141 [==============================] - 0s 2ms/step - loss: 0.3954 - accuracy: 0.8234 - val_loss: 0.4282 - val_accuracy: 0.8048\n",
            "Epoch 55/100\n",
            "141/141 [==============================] - 0s 3ms/step - loss: 0.3906 - accuracy: 0.8198 - val_loss: 0.4320 - val_accuracy: 0.8048\n",
            "Epoch 56/100\n",
            "141/141 [==============================] - 0s 3ms/step - loss: 0.3927 - accuracy: 0.8236 - val_loss: 0.4297 - val_accuracy: 0.8083\n",
            "Epoch 57/100\n",
            "141/141 [==============================] - 0s 2ms/step - loss: 0.3892 - accuracy: 0.8198 - val_loss: 0.4329 - val_accuracy: 0.8021\n",
            "Epoch 58/100\n",
            "141/141 [==============================] - 0s 2ms/step - loss: 0.3930 - accuracy: 0.8203 - val_loss: 0.4315 - val_accuracy: 0.8012\n",
            "Epoch 59/100\n",
            "141/141 [==============================] - 0s 3ms/step - loss: 0.3891 - accuracy: 0.8232 - val_loss: 0.4317 - val_accuracy: 0.7941\n",
            "Epoch 60/100\n",
            "141/141 [==============================] - 0s 3ms/step - loss: 0.3888 - accuracy: 0.8241 - val_loss: 0.4330 - val_accuracy: 0.7968\n",
            "Epoch 61/100\n",
            "141/141 [==============================] - 0s 2ms/step - loss: 0.3901 - accuracy: 0.8221 - val_loss: 0.4349 - val_accuracy: 0.8039\n",
            "Epoch 62/100\n",
            "141/141 [==============================] - 0s 2ms/step - loss: 0.3861 - accuracy: 0.8258 - val_loss: 0.4319 - val_accuracy: 0.8048\n",
            "Epoch 63/100\n",
            "141/141 [==============================] - 0s 2ms/step - loss: 0.3872 - accuracy: 0.8283 - val_loss: 0.4325 - val_accuracy: 0.7968\n",
            "Epoch 64/100\n",
            "141/141 [==============================] - 0s 2ms/step - loss: 0.3867 - accuracy: 0.8260 - val_loss: 0.4334 - val_accuracy: 0.7968\n",
            "Epoch 65/100\n",
            "141/141 [==============================] - 0s 2ms/step - loss: 0.3901 - accuracy: 0.8198 - val_loss: 0.4296 - val_accuracy: 0.8030\n",
            "Epoch 66/100\n",
            "141/141 [==============================] - 0s 3ms/step - loss: 0.3872 - accuracy: 0.8185 - val_loss: 0.4340 - val_accuracy: 0.7941\n",
            "Epoch 67/100\n",
            "141/141 [==============================] - 0s 2ms/step - loss: 0.3905 - accuracy: 0.8174 - val_loss: 0.4325 - val_accuracy: 0.8030\n",
            "Epoch 68/100\n",
            "141/141 [==============================] - 0s 3ms/step - loss: 0.3893 - accuracy: 0.8212 - val_loss: 0.4340 - val_accuracy: 0.7950\n",
            "Epoch 69/100\n",
            "141/141 [==============================] - 0s 3ms/step - loss: 0.3852 - accuracy: 0.8205 - val_loss: 0.4340 - val_accuracy: 0.8092\n",
            "Epoch 70/100\n",
            "141/141 [==============================] - 0s 2ms/step - loss: 0.3870 - accuracy: 0.8256 - val_loss: 0.4355 - val_accuracy: 0.7950\n",
            "Epoch 71/100\n",
            "141/141 [==============================] - 0s 3ms/step - loss: 0.3866 - accuracy: 0.8232 - val_loss: 0.4351 - val_accuracy: 0.7995\n",
            "Epoch 72/100\n",
            "141/141 [==============================] - 0s 2ms/step - loss: 0.3856 - accuracy: 0.8283 - val_loss: 0.4386 - val_accuracy: 0.7941\n",
            "Epoch 73/100\n",
            "141/141 [==============================] - 0s 2ms/step - loss: 0.3846 - accuracy: 0.8254 - val_loss: 0.4365 - val_accuracy: 0.7933\n",
            "Epoch 74/100\n",
            "141/141 [==============================] - 0s 2ms/step - loss: 0.3842 - accuracy: 0.8234 - val_loss: 0.4375 - val_accuracy: 0.7968\n",
            "Epoch 75/100\n",
            "141/141 [==============================] - 0s 2ms/step - loss: 0.3831 - accuracy: 0.8247 - val_loss: 0.4383 - val_accuracy: 0.7977\n",
            "Epoch 76/100\n",
            "141/141 [==============================] - 0s 3ms/step - loss: 0.3846 - accuracy: 0.8287 - val_loss: 0.4367 - val_accuracy: 0.7986\n",
            "Epoch 77/100\n",
            "141/141 [==============================] - 0s 2ms/step - loss: 0.3909 - accuracy: 0.8267 - val_loss: 0.4372 - val_accuracy: 0.7977\n",
            "Epoch 78/100\n",
            "141/141 [==============================] - 0s 2ms/step - loss: 0.3867 - accuracy: 0.8236 - val_loss: 0.4381 - val_accuracy: 0.8004\n",
            "Epoch 79/100\n",
            "141/141 [==============================] - 0s 3ms/step - loss: 0.3844 - accuracy: 0.8283 - val_loss: 0.4389 - val_accuracy: 0.7950\n",
            "Epoch 80/100\n",
            "141/141 [==============================] - 0s 2ms/step - loss: 0.3767 - accuracy: 0.8309 - val_loss: 0.4382 - val_accuracy: 0.8021\n",
            "Epoch 81/100\n",
            "141/141 [==============================] - 0s 3ms/step - loss: 0.3843 - accuracy: 0.8263 - val_loss: 0.4387 - val_accuracy: 0.7986\n",
            "Epoch 82/100\n",
            "141/141 [==============================] - 0s 3ms/step - loss: 0.3814 - accuracy: 0.8316 - val_loss: 0.4395 - val_accuracy: 0.8004\n",
            "Epoch 83/100\n",
            "141/141 [==============================] - 0s 2ms/step - loss: 0.3801 - accuracy: 0.8300 - val_loss: 0.4391 - val_accuracy: 0.7933\n",
            "Epoch 84/100\n",
            "141/141 [==============================] - 0s 2ms/step - loss: 0.3817 - accuracy: 0.8289 - val_loss: 0.4410 - val_accuracy: 0.8004\n",
            "Epoch 85/100\n",
            "141/141 [==============================] - 0s 3ms/step - loss: 0.3805 - accuracy: 0.8289 - val_loss: 0.4388 - val_accuracy: 0.7995\n",
            "Epoch 86/100\n",
            "141/141 [==============================] - 0s 2ms/step - loss: 0.3815 - accuracy: 0.8303 - val_loss: 0.4414 - val_accuracy: 0.7995\n",
            "Epoch 87/100\n",
            "141/141 [==============================] - 0s 2ms/step - loss: 0.3864 - accuracy: 0.8218 - val_loss: 0.4392 - val_accuracy: 0.7986\n",
            "Epoch 88/100\n",
            "141/141 [==============================] - 0s 3ms/step - loss: 0.3771 - accuracy: 0.8294 - val_loss: 0.4416 - val_accuracy: 0.7915\n",
            "Epoch 89/100\n",
            "141/141 [==============================] - 0s 2ms/step - loss: 0.3792 - accuracy: 0.8285 - val_loss: 0.4372 - val_accuracy: 0.8030\n",
            "Epoch 90/100\n",
            "141/141 [==============================] - 0s 2ms/step - loss: 0.3789 - accuracy: 0.8274 - val_loss: 0.4422 - val_accuracy: 0.7959\n",
            "Epoch 91/100\n",
            "141/141 [==============================] - 0s 3ms/step - loss: 0.3775 - accuracy: 0.8276 - val_loss: 0.4386 - val_accuracy: 0.7968\n",
            "Epoch 92/100\n",
            "141/141 [==============================] - 0s 3ms/step - loss: 0.3759 - accuracy: 0.8254 - val_loss: 0.4424 - val_accuracy: 0.8004\n",
            "Epoch 93/100\n",
            "141/141 [==============================] - 0s 3ms/step - loss: 0.3821 - accuracy: 0.8300 - val_loss: 0.4395 - val_accuracy: 0.8004\n",
            "Epoch 94/100\n",
            "141/141 [==============================] - 0s 3ms/step - loss: 0.3820 - accuracy: 0.8252 - val_loss: 0.4417 - val_accuracy: 0.8012\n",
            "Epoch 95/100\n",
            "141/141 [==============================] - 0s 3ms/step - loss: 0.3744 - accuracy: 0.8340 - val_loss: 0.4397 - val_accuracy: 0.7977\n",
            "Epoch 96/100\n",
            "141/141 [==============================] - 0s 3ms/step - loss: 0.3774 - accuracy: 0.8307 - val_loss: 0.4394 - val_accuracy: 0.7924\n",
            "Epoch 97/100\n",
            "141/141 [==============================] - 0s 3ms/step - loss: 0.3788 - accuracy: 0.8343 - val_loss: 0.4387 - val_accuracy: 0.7968\n",
            "Epoch 98/100\n",
            "141/141 [==============================] - 0s 2ms/step - loss: 0.3726 - accuracy: 0.8327 - val_loss: 0.4412 - val_accuracy: 0.7950\n",
            "Epoch 99/100\n",
            "141/141 [==============================] - 0s 3ms/step - loss: 0.3763 - accuracy: 0.8316 - val_loss: 0.4429 - val_accuracy: 0.7959\n",
            "Epoch 100/100\n",
            "141/141 [==============================] - 0s 2ms/step - loss: 0.3761 - accuracy: 0.8309 - val_loss: 0.4424 - val_accuracy: 0.7915\n"
          ],
          "name": "stdout"
        }
      ]
    },
    {
      "cell_type": "code",
      "metadata": {
        "colab": {
          "base_uri": "https://localhost:8080/"
        },
        "id": "vz8D0yX50bAg",
        "outputId": "13138023-0959-4c83-8a0f-b86fd0ec6f98"
      },
      "source": [
        "# menampilkan parameter yang digunakan\n",
        "history.params"
      ],
      "execution_count": 282,
      "outputs": [
        {
          "output_type": "execute_result",
          "data": {
            "text/plain": [
              "{'epochs': 100, 'steps': 141, 'verbose': 1}"
            ]
          },
          "metadata": {},
          "execution_count": 282
        }
      ]
    },
    {
      "cell_type": "code",
      "metadata": {
        "colab": {
          "base_uri": "https://localhost:8080/"
        },
        "id": "0Juv5gWsRm29",
        "outputId": "66882d07-79bd-49eb-807f-e96cc15ca13a"
      },
      "source": [
        "# menampilkan parameter key dan panjang epoch yang digunakan\n",
        "print(len(history.epoch))\n",
        "history.history.keys()\n"
      ],
      "execution_count": 283,
      "outputs": [
        {
          "output_type": "stream",
          "text": [
            "100\n"
          ],
          "name": "stdout"
        },
        {
          "output_type": "execute_result",
          "data": {
            "text/plain": [
              "dict_keys(['loss', 'accuracy', 'val_loss', 'val_accuracy'])"
            ]
          },
          "metadata": {},
          "execution_count": 283
        }
      ]
    },
    {
      "cell_type": "code",
      "metadata": {
        "colab": {
          "base_uri": "https://localhost:8080/",
          "height": 324
        },
        "id": "Nz4XBuLdRm29",
        "outputId": "3f96ff65-279a-4b46-c046-b940e6d1098b"
      },
      "source": [
        "# menampilkan history model sequential\n",
        "import pandas as pd\n",
        "\n",
        "pd.DataFrame(history.history).plot(figsize=(8, 5))\n",
        "plt.grid(True)\n",
        "plt.gca().set_ylim(0, 1)\n",
        "#save_fig(\"keras_learning_curves_plot\")\n",
        "plt.show()"
      ],
      "execution_count": 284,
      "outputs": [
        {
          "output_type": "display_data",
          "data": {
            "image/png": "[encoded data removed]",
            "text/plain": [
              "<Figure size 576x360 with 1 Axes>"
            ]
          },
          "metadata": {
            "needs_background": "light"
          }
        }
      ]
    },
    {
      "cell_type": "code",
      "metadata": {
        "colab": {
          "base_uri": "https://localhost:8080/"
        },
        "id": "zK7IxeWm1XPJ",
        "outputId": "2b003730-c4cc-4014-b5cf-a24e5467e715"
      },
      "source": [
        "# melakukan evaluasi model dengan validasi\n",
        "model1.evaluate(X_val, y_val)"
      ],
      "execution_count": 311,
      "outputs": [
        {
          "output_type": "stream",
          "text": [
            "36/36 [==============================] - 0s 1ms/step - loss: 0.4424 - accuracy: 0.7915\n"
          ],
          "name": "stdout"
        },
        {
          "output_type": "execute_result",
          "data": {
            "text/plain": [
              "[0.4424106478691101, 0.7914817929267883]"
            ]
          },
          "metadata": {},
          "execution_count": 311
        }
      ]
    },
    {
      "cell_type": "markdown",
      "metadata": {
        "id": "6I_FGb1h36Hg"
      },
      "source": [
        "#Functional API"
      ]
    },
    {
      "cell_type": "code",
      "metadata": {
        "id": "MkvQso3KBgpo"
      },
      "source": [
        "  # membuat model functional api\n",
        "  input_ = keras.layers.Input(shape=26)\n",
        "  hidden1 = keras.layers.Dense(15, activation=\"relu\")(input_)\n",
        "  dropout1 = Dropout(0.2)(hidden1)\n",
        "  hidden2 = keras.layers.Dense(15, activation=\"relu\")(hidden1)\n",
        "  dropout2 = Dropout(0.2)(hidden2)\n",
        "  concat = keras.layers.concatenate([input_, hidden2])\n",
        "  output = keras.layers.Dense(1)(concat)\n",
        "  model2 = keras.models.Model(inputs=[input_], outputs=[output])"
      ],
      "execution_count": 286,
      "outputs": []
    },
    {
      "cell_type": "code",
      "metadata": {
        "colab": {
          "base_uri": "https://localhost:8080/"
        },
        "id": "bWhkYz-zrV95",
        "outputId": "30569f00-d9b8-41b2-abe9-e2f661d17407"
      },
      "source": [
        "# menampilkan layer model functional\n",
        "model2.layers"
      ],
      "execution_count": 287,
      "outputs": [
        {
          "output_type": "execute_result",
          "data": {
            "text/plain": [
              "[<keras.engine.input_layer.InputLayer at 0x7f3f746d13d0>,\n",
              " <keras.layers.core.Dense at 0x7f3f73e2fd50>,\n",
              " <keras.layers.core.Dense at 0x7f3fda0829d0>,\n",
              " <keras.layers.merge.Concatenate at 0x7f3f73ea2550>,\n",
              " <keras.layers.core.Dense at 0x7f3f73e08110>]"
            ]
          },
          "metadata": {},
          "execution_count": 287
        }
      ]
    },
    {
      "cell_type": "code",
      "metadata": {
        "colab": {
          "base_uri": "https://localhost:8080/"
        },
        "id": "3EXrAthJq837",
        "outputId": "184f6a29-d568-44de-e383-51a90b792526"
      },
      "source": [
        "# menampilka summary model functional\n",
        "model2.summary()"
      ],
      "execution_count": 288,
      "outputs": [
        {
          "output_type": "stream",
          "text": [
            "Model: \"model\"\n",
            "__________________________________________________________________________________________________\n",
            "Layer (type)                    Output Shape         Param #     Connected to                     \n",
            "==================================================================================================\n",
            "input_1 (InputLayer)            [(None, 26)]         0                                            \n",
            "__________________________________________________________________________________________________\n",
            "dense_3 (Dense)                 (None, 15)           405         input_1[0][0]                    \n",
            "__________________________________________________________________________________________________\n",
            "dense_4 (Dense)                 (None, 15)           240         dense_3[0][0]                    \n",
            "__________________________________________________________________________________________________\n",
            "concatenate (Concatenate)       (None, 41)           0           input_1[0][0]                    \n",
            "                                                                 dense_4[0][0]                    \n",
            "__________________________________________________________________________________________________\n",
            "dense_5 (Dense)                 (None, 1)            42          concatenate[0][0]                \n",
            "==================================================================================================\n",
            "Total params: 687\n",
            "Trainable params: 687\n",
            "Non-trainable params: 0\n",
            "__________________________________________________________________________________________________\n"
          ],
          "name": "stdout"
        }
      ]
    },
    {
      "cell_type": "code",
      "metadata": {
        "colab": {
          "base_uri": "https://localhost:8080/",
          "height": 533
        },
        "id": "xrTDwx47q5bG",
        "outputId": "44714d77-4c19-4f7b-e7c9-d83d40165d34"
      },
      "source": [
        "# menampilkan model functional\n",
        "keras.utils.plot_model(model2, \"model_telco2.png\", show_shapes=True)"
      ],
      "execution_count": 289,
      "outputs": [
        {
          "output_type": "execute_result",
          "data": {
            "image/png": "[encoded data removed]",
            "text/plain": [
              "<IPython.core.display.Image object>"
            ]
          },
          "metadata": {},
          "execution_count": 289
        }
      ]
    },
    {
      "cell_type": "code",
      "metadata": {
        "id": "lB4aMM9-sA2n"
      },
      "source": [
        "# compile model functional\n",
        "model2.compile(loss='binary_crossentropy',\n",
        "              optimizer='adam',\n",
        "              metrics=['accuracy'])"
      ],
      "execution_count": 290,
      "outputs": []
    },
    {
      "cell_type": "code",
      "metadata": {
        "colab": {
          "base_uri": "https://localhost:8080/"
        },
        "id": "t7AY3yMLjRtk",
        "outputId": "52c1951b-9d8f-4a67-8044-d90f3908e987"
      },
      "source": [
        "# melakukan fit train dan validation dengan model functional\n",
        "history2 = model2.fit(X_train, y_train, epochs=100,\n",
        "                    validation_data=(X_val, y_val))"
      ],
      "execution_count": 291,
      "outputs": [
        {
          "output_type": "stream",
          "text": [
            "Epoch 1/100\n",
            "141/141 [==============================] - 1s 4ms/step - loss: 1.8299 - accuracy: 0.6501 - val_loss: 1.5872 - val_accuracy: 0.6779\n",
            "Epoch 2/100\n",
            "141/141 [==============================] - 0s 2ms/step - loss: 1.3069 - accuracy: 0.7007 - val_loss: 1.3007 - val_accuracy: 0.7294\n",
            "Epoch 3/100\n",
            "141/141 [==============================] - 0s 2ms/step - loss: 1.1400 - accuracy: 0.7160 - val_loss: 1.0598 - val_accuracy: 0.7178\n",
            "Epoch 4/100\n",
            "141/141 [==============================] - 0s 2ms/step - loss: 0.7861 - accuracy: 0.7371 - val_loss: 0.8227 - val_accuracy: 0.7542\n",
            "Epoch 5/100\n",
            "141/141 [==============================] - 0s 2ms/step - loss: 0.6908 - accuracy: 0.7582 - val_loss: 0.7300 - val_accuracy: 0.7728\n",
            "Epoch 6/100\n",
            "141/141 [==============================] - 0s 2ms/step - loss: 0.6205 - accuracy: 0.7681 - val_loss: 0.6514 - val_accuracy: 0.7826\n",
            "Epoch 7/100\n",
            "141/141 [==============================] - 0s 2ms/step - loss: 0.5746 - accuracy: 0.7726 - val_loss: 0.5951 - val_accuracy: 0.7862\n",
            "Epoch 8/100\n",
            "141/141 [==============================] - 0s 2ms/step - loss: 0.5603 - accuracy: 0.7815 - val_loss: 0.6073 - val_accuracy: 0.8012\n",
            "Epoch 9/100\n",
            "141/141 [==============================] - 0s 2ms/step - loss: 0.5559 - accuracy: 0.7788 - val_loss: 0.5083 - val_accuracy: 0.7791\n",
            "Epoch 10/100\n",
            "141/141 [==============================] - 0s 3ms/step - loss: 0.5342 - accuracy: 0.7679 - val_loss: 0.5490 - val_accuracy: 0.8012\n",
            "Epoch 11/100\n",
            "141/141 [==============================] - 0s 2ms/step - loss: 0.5328 - accuracy: 0.7681 - val_loss: 0.5675 - val_accuracy: 0.7870\n",
            "Epoch 12/100\n",
            "141/141 [==============================] - 0s 2ms/step - loss: 0.5251 - accuracy: 0.7686 - val_loss: 0.5675 - val_accuracy: 0.7897\n",
            "Epoch 13/100\n",
            "141/141 [==============================] - 0s 3ms/step - loss: 0.5161 - accuracy: 0.7692 - val_loss: 0.6445 - val_accuracy: 0.6894\n",
            "Epoch 14/100\n",
            "141/141 [==============================] - 0s 2ms/step - loss: 0.5121 - accuracy: 0.7708 - val_loss: 0.4807 - val_accuracy: 0.7959\n",
            "Epoch 15/100\n",
            "141/141 [==============================] - 0s 2ms/step - loss: 0.4907 - accuracy: 0.7748 - val_loss: 0.5152 - val_accuracy: 0.7986\n",
            "Epoch 16/100\n",
            "141/141 [==============================] - 0s 2ms/step - loss: 0.4846 - accuracy: 0.7832 - val_loss: 0.5426 - val_accuracy: 0.8048\n",
            "Epoch 17/100\n",
            "141/141 [==============================] - 0s 2ms/step - loss: 0.5035 - accuracy: 0.7812 - val_loss: 0.4924 - val_accuracy: 0.7995\n",
            "Epoch 18/100\n",
            "141/141 [==============================] - 0s 2ms/step - loss: 0.4883 - accuracy: 0.7839 - val_loss: 0.4988 - val_accuracy: 0.8039\n",
            "Epoch 19/100\n",
            "141/141 [==============================] - 0s 2ms/step - loss: 0.5321 - accuracy: 0.7648 - val_loss: 0.5445 - val_accuracy: 0.7711\n",
            "Epoch 20/100\n",
            "141/141 [==============================] - 0s 2ms/step - loss: 0.5374 - accuracy: 0.7464 - val_loss: 0.5309 - val_accuracy: 0.7666\n",
            "Epoch 21/100\n",
            "141/141 [==============================] - 0s 2ms/step - loss: 0.5060 - accuracy: 0.7755 - val_loss: 0.5148 - val_accuracy: 0.7853\n",
            "Epoch 22/100\n",
            "141/141 [==============================] - 0s 2ms/step - loss: 0.4990 - accuracy: 0.7812 - val_loss: 0.5280 - val_accuracy: 0.7870\n",
            "Epoch 23/100\n",
            "141/141 [==============================] - 0s 2ms/step - loss: 0.4849 - accuracy: 0.7863 - val_loss: 0.5007 - val_accuracy: 0.7941\n",
            "Epoch 24/100\n",
            "141/141 [==============================] - 0s 3ms/step - loss: 0.4770 - accuracy: 0.7874 - val_loss: 0.4947 - val_accuracy: 0.7968\n",
            "Epoch 25/100\n",
            "141/141 [==============================] - 0s 3ms/step - loss: 0.4909 - accuracy: 0.7810 - val_loss: 0.4806 - val_accuracy: 0.7799\n",
            "Epoch 26/100\n",
            "141/141 [==============================] - 0s 2ms/step - loss: 0.4847 - accuracy: 0.7897 - val_loss: 0.5101 - val_accuracy: 0.7941\n",
            "Epoch 27/100\n",
            "141/141 [==============================] - 0s 2ms/step - loss: 0.4851 - accuracy: 0.7912 - val_loss: 0.5135 - val_accuracy: 0.8012\n",
            "Epoch 28/100\n",
            "141/141 [==============================] - 0s 2ms/step - loss: 0.4818 - accuracy: 0.7952 - val_loss: 0.4949 - val_accuracy: 0.7995\n",
            "Epoch 29/100\n",
            "141/141 [==============================] - 0s 2ms/step - loss: 0.4707 - accuracy: 0.7925 - val_loss: 0.4821 - val_accuracy: 0.8004\n",
            "Epoch 30/100\n",
            "141/141 [==============================] - 0s 2ms/step - loss: 0.5867 - accuracy: 0.7648 - val_loss: 0.5153 - val_accuracy: 0.7835\n",
            "Epoch 31/100\n",
            "141/141 [==============================] - 0s 3ms/step - loss: 0.5075 - accuracy: 0.7768 - val_loss: 0.5035 - val_accuracy: 0.7897\n",
            "Epoch 32/100\n",
            "141/141 [==============================] - 0s 2ms/step - loss: 0.4913 - accuracy: 0.7830 - val_loss: 0.4977 - val_accuracy: 0.7879\n",
            "Epoch 33/100\n",
            "141/141 [==============================] - 0s 3ms/step - loss: 0.4804 - accuracy: 0.7874 - val_loss: 0.5171 - val_accuracy: 0.7968\n",
            "Epoch 34/100\n",
            "141/141 [==============================] - 0s 3ms/step - loss: 0.4721 - accuracy: 0.7903 - val_loss: 0.5026 - val_accuracy: 0.7995\n",
            "Epoch 35/100\n",
            "141/141 [==============================] - 0s 2ms/step - loss: 0.4707 - accuracy: 0.7932 - val_loss: 0.5325 - val_accuracy: 0.7986\n",
            "Epoch 36/100\n",
            "141/141 [==============================] - 0s 2ms/step - loss: 0.4668 - accuracy: 0.7961 - val_loss: 0.5100 - val_accuracy: 0.8021\n",
            "Epoch 37/100\n",
            "141/141 [==============================] - 0s 2ms/step - loss: 0.4594 - accuracy: 0.7941 - val_loss: 0.4877 - val_accuracy: 0.8057\n",
            "Epoch 38/100\n",
            "141/141 [==============================] - 0s 3ms/step - loss: 0.4584 - accuracy: 0.7974 - val_loss: 0.4955 - val_accuracy: 0.8021\n",
            "Epoch 39/100\n",
            "141/141 [==============================] - 0s 3ms/step - loss: 0.4609 - accuracy: 0.7963 - val_loss: 0.5040 - val_accuracy: 0.8004\n",
            "Epoch 40/100\n",
            "141/141 [==============================] - 0s 2ms/step - loss: 0.4539 - accuracy: 0.7996 - val_loss: 0.5137 - val_accuracy: 0.8039\n",
            "Epoch 41/100\n",
            "141/141 [==============================] - 0s 2ms/step - loss: 0.4549 - accuracy: 0.7968 - val_loss: 0.4688 - val_accuracy: 0.7924\n",
            "Epoch 42/100\n",
            "141/141 [==============================] - 0s 2ms/step - loss: 0.4594 - accuracy: 0.7930 - val_loss: 0.4722 - val_accuracy: 0.7986\n",
            "Epoch 43/100\n",
            "141/141 [==============================] - 0s 2ms/step - loss: 0.4497 - accuracy: 0.7999 - val_loss: 0.5045 - val_accuracy: 0.7986\n",
            "Epoch 44/100\n",
            "141/141 [==============================] - 0s 2ms/step - loss: 0.4469 - accuracy: 0.8021 - val_loss: 0.5059 - val_accuracy: 0.8012\n",
            "Epoch 45/100\n",
            "141/141 [==============================] - 0s 2ms/step - loss: 0.4739 - accuracy: 0.7721 - val_loss: 0.5075 - val_accuracy: 0.7604\n",
            "Epoch 46/100\n",
            "141/141 [==============================] - 0s 2ms/step - loss: 0.4557 - accuracy: 0.7917 - val_loss: 0.5191 - val_accuracy: 0.7995\n",
            "Epoch 47/100\n",
            "141/141 [==============================] - 0s 2ms/step - loss: 0.4475 - accuracy: 0.7965 - val_loss: 0.5138 - val_accuracy: 0.8075\n",
            "Epoch 48/100\n",
            "141/141 [==============================] - 0s 3ms/step - loss: 0.4410 - accuracy: 0.8008 - val_loss: 0.5141 - val_accuracy: 0.8030\n",
            "Epoch 49/100\n",
            "141/141 [==============================] - 0s 3ms/step - loss: 0.4418 - accuracy: 0.8045 - val_loss: 0.5122 - val_accuracy: 0.8110\n",
            "Epoch 50/100\n",
            "141/141 [==============================] - 0s 2ms/step - loss: 0.4417 - accuracy: 0.8010 - val_loss: 0.5126 - val_accuracy: 0.8110\n",
            "Epoch 51/100\n",
            "141/141 [==============================] - 0s 3ms/step - loss: 0.4401 - accuracy: 0.8039 - val_loss: 0.5132 - val_accuracy: 0.8110\n",
            "Epoch 52/100\n",
            "141/141 [==============================] - 0s 2ms/step - loss: 0.4389 - accuracy: 0.8032 - val_loss: 0.5116 - val_accuracy: 0.8092\n",
            "Epoch 53/100\n",
            "141/141 [==============================] - 0s 2ms/step - loss: 0.4386 - accuracy: 0.8025 - val_loss: 0.5239 - val_accuracy: 0.8101\n",
            "Epoch 54/100\n",
            "141/141 [==============================] - 0s 2ms/step - loss: 0.4392 - accuracy: 0.8041 - val_loss: 0.5005 - val_accuracy: 0.8110\n",
            "Epoch 55/100\n",
            "141/141 [==============================] - 0s 3ms/step - loss: 0.4452 - accuracy: 0.8012 - val_loss: 0.4836 - val_accuracy: 0.8101\n",
            "Epoch 56/100\n",
            "141/141 [==============================] - 0s 3ms/step - loss: 0.4395 - accuracy: 0.8028 - val_loss: 0.5012 - val_accuracy: 0.8146\n",
            "Epoch 57/100\n",
            "141/141 [==============================] - 0s 2ms/step - loss: 0.4437 - accuracy: 0.8008 - val_loss: 0.5676 - val_accuracy: 0.7595\n",
            "Epoch 58/100\n",
            "141/141 [==============================] - 0s 2ms/step - loss: 0.4485 - accuracy: 0.7910 - val_loss: 0.5142 - val_accuracy: 0.7968\n",
            "Epoch 59/100\n",
            "141/141 [==============================] - 0s 2ms/step - loss: 0.4358 - accuracy: 0.8014 - val_loss: 0.4971 - val_accuracy: 0.8075\n",
            "Epoch 60/100\n",
            "141/141 [==============================] - 0s 2ms/step - loss: 0.4332 - accuracy: 0.8012 - val_loss: 0.5186 - val_accuracy: 0.8083\n",
            "Epoch 61/100\n",
            "141/141 [==============================] - 0s 2ms/step - loss: 0.4312 - accuracy: 0.8008 - val_loss: 0.5396 - val_accuracy: 0.8066\n",
            "Epoch 62/100\n",
            "141/141 [==============================] - 0s 2ms/step - loss: 0.4328 - accuracy: 0.8032 - val_loss: 0.4982 - val_accuracy: 0.8075\n",
            "Epoch 63/100\n",
            "141/141 [==============================] - 0s 2ms/step - loss: 0.4312 - accuracy: 0.8023 - val_loss: 0.5230 - val_accuracy: 0.8092\n",
            "Epoch 64/100\n",
            "141/141 [==============================] - 0s 2ms/step - loss: 0.4332 - accuracy: 0.8016 - val_loss: 0.5147 - val_accuracy: 0.8119\n",
            "Epoch 65/100\n",
            "141/141 [==============================] - 0s 3ms/step - loss: 0.4320 - accuracy: 0.8034 - val_loss: 0.5278 - val_accuracy: 0.8083\n",
            "Epoch 66/100\n",
            "141/141 [==============================] - 0s 2ms/step - loss: 0.4393 - accuracy: 0.7919 - val_loss: 0.4825 - val_accuracy: 0.8012\n",
            "Epoch 67/100\n",
            "141/141 [==============================] - 0s 2ms/step - loss: 0.4294 - accuracy: 0.8032 - val_loss: 0.4750 - val_accuracy: 0.8039\n",
            "Epoch 68/100\n",
            "141/141 [==============================] - 0s 2ms/step - loss: 0.4305 - accuracy: 0.8010 - val_loss: 0.5080 - val_accuracy: 0.8057\n",
            "Epoch 69/100\n",
            "141/141 [==============================] - 0s 2ms/step - loss: 0.4262 - accuracy: 0.8043 - val_loss: 0.5139 - val_accuracy: 0.8110\n",
            "Epoch 70/100\n",
            "141/141 [==============================] - 0s 2ms/step - loss: 0.4297 - accuracy: 0.8041 - val_loss: 0.5055 - val_accuracy: 0.8101\n",
            "Epoch 71/100\n",
            "141/141 [==============================] - 0s 2ms/step - loss: 0.4231 - accuracy: 0.8039 - val_loss: 0.4978 - val_accuracy: 0.8021\n",
            "Epoch 72/100\n",
            "141/141 [==============================] - 0s 2ms/step - loss: 0.4252 - accuracy: 0.8036 - val_loss: 0.4981 - val_accuracy: 0.7897\n",
            "Epoch 73/100\n",
            "141/141 [==============================] - 0s 3ms/step - loss: 0.4293 - accuracy: 0.8008 - val_loss: 0.5105 - val_accuracy: 0.8119\n",
            "Epoch 74/100\n",
            "141/141 [==============================] - 0s 3ms/step - loss: 0.4263 - accuracy: 0.8030 - val_loss: 0.5142 - val_accuracy: 0.8119\n",
            "Epoch 75/100\n",
            "141/141 [==============================] - 0s 2ms/step - loss: 0.4194 - accuracy: 0.8083 - val_loss: 0.5665 - val_accuracy: 0.8075\n",
            "Epoch 76/100\n",
            "141/141 [==============================] - 0s 3ms/step - loss: 0.4233 - accuracy: 0.8036 - val_loss: 0.5281 - val_accuracy: 0.8066\n",
            "Epoch 77/100\n",
            "141/141 [==============================] - 0s 3ms/step - loss: 0.4192 - accuracy: 0.8059 - val_loss: 0.5301 - val_accuracy: 0.8119\n",
            "Epoch 78/100\n",
            "141/141 [==============================] - 0s 2ms/step - loss: 0.4219 - accuracy: 0.8065 - val_loss: 0.5065 - val_accuracy: 0.8039\n",
            "Epoch 79/100\n",
            "141/141 [==============================] - 0s 3ms/step - loss: 0.4374 - accuracy: 0.7985 - val_loss: 0.5028 - val_accuracy: 0.8119\n",
            "Epoch 80/100\n",
            "141/141 [==============================] - 0s 3ms/step - loss: 0.4283 - accuracy: 0.8028 - val_loss: 0.4863 - val_accuracy: 0.8110\n",
            "Epoch 81/100\n",
            "141/141 [==============================] - 0s 3ms/step - loss: 0.4179 - accuracy: 0.8065 - val_loss: 0.5418 - val_accuracy: 0.7950\n",
            "Epoch 82/100\n",
            "141/141 [==============================] - 0s 3ms/step - loss: 0.4164 - accuracy: 0.8072 - val_loss: 0.5153 - val_accuracy: 0.8163\n",
            "Epoch 83/100\n",
            "141/141 [==============================] - 0s 2ms/step - loss: 0.4170 - accuracy: 0.8061 - val_loss: 0.5063 - val_accuracy: 0.8163\n",
            "Epoch 84/100\n",
            "141/141 [==============================] - 0s 2ms/step - loss: 0.4135 - accuracy: 0.8065 - val_loss: 0.5071 - val_accuracy: 0.8119\n",
            "Epoch 85/100\n",
            "141/141 [==============================] - 0s 2ms/step - loss: 0.5334 - accuracy: 0.7859 - val_loss: 0.8304 - val_accuracy: 0.7445\n",
            "Epoch 86/100\n",
            "141/141 [==============================] - 0s 2ms/step - loss: 0.4882 - accuracy: 0.7899 - val_loss: 0.5380 - val_accuracy: 0.7933\n",
            "Epoch 87/100\n",
            "141/141 [==============================] - 0s 2ms/step - loss: 0.4360 - accuracy: 0.7974 - val_loss: 0.5407 - val_accuracy: 0.7941\n",
            "Epoch 88/100\n",
            "141/141 [==============================] - 0s 3ms/step - loss: 0.4692 - accuracy: 0.7799 - val_loss: 0.5242 - val_accuracy: 0.7471\n",
            "Epoch 89/100\n",
            "141/141 [==============================] - 0s 2ms/step - loss: 0.4667 - accuracy: 0.7923 - val_loss: 0.5039 - val_accuracy: 0.7941\n",
            "Epoch 90/100\n",
            "141/141 [==============================] - 0s 2ms/step - loss: 0.4415 - accuracy: 0.8030 - val_loss: 0.4855 - val_accuracy: 0.8066\n",
            "Epoch 91/100\n",
            "141/141 [==============================] - 0s 3ms/step - loss: 0.4291 - accuracy: 0.8034 - val_loss: 0.5013 - val_accuracy: 0.8110\n",
            "Epoch 92/100\n",
            "141/141 [==============================] - 0s 3ms/step - loss: 0.4263 - accuracy: 0.8054 - val_loss: 0.4827 - val_accuracy: 0.8092\n",
            "Epoch 93/100\n",
            "141/141 [==============================] - 0s 2ms/step - loss: 0.4221 - accuracy: 0.8050 - val_loss: 0.5018 - val_accuracy: 0.8119\n",
            "Epoch 94/100\n",
            "141/141 [==============================] - 0s 2ms/step - loss: 0.4747 - accuracy: 0.7843 - val_loss: 0.5139 - val_accuracy: 0.7746\n",
            "Epoch 95/100\n",
            "141/141 [==============================] - 0s 3ms/step - loss: 0.4652 - accuracy: 0.7817 - val_loss: 0.4863 - val_accuracy: 0.7933\n",
            "Epoch 96/100\n",
            "141/141 [==============================] - 0s 2ms/step - loss: 0.4314 - accuracy: 0.8050 - val_loss: 0.5151 - val_accuracy: 0.8101\n",
            "Epoch 97/100\n",
            "141/141 [==============================] - 0s 3ms/step - loss: 0.4242 - accuracy: 0.8052 - val_loss: 0.5135 - val_accuracy: 0.8190\n",
            "Epoch 98/100\n",
            "141/141 [==============================] - 0s 2ms/step - loss: 0.4210 - accuracy: 0.8072 - val_loss: 0.5042 - val_accuracy: 0.8137\n",
            "Epoch 99/100\n",
            "141/141 [==============================] - 0s 2ms/step - loss: 0.4190 - accuracy: 0.8083 - val_loss: 0.5014 - val_accuracy: 0.8110\n",
            "Epoch 100/100\n",
            "141/141 [==============================] - 0s 2ms/step - loss: 0.4174 - accuracy: 0.8103 - val_loss: 0.5208 - val_accuracy: 0.8154\n"
          ],
          "name": "stdout"
        }
      ]
    },
    {
      "cell_type": "code",
      "metadata": {
        "colab": {
          "base_uri": "https://localhost:8080/",
          "height": 324
        },
        "id": "HgGEr2WhlOh1",
        "outputId": "84c98f2a-2747-49ed-8340-ee6fcdff8596"
      },
      "source": [
        "# menampilkan history model sequential\n",
        "import pandas as pd\n",
        "\n",
        "pd.DataFrame(history2.history).plot(figsize=(8, 5))\n",
        "plt.grid(True)\n",
        "plt.gca().set_ylim(0, 1)\n",
        "plt.show()"
      ],
      "execution_count": 292,
      "outputs": [
        {
          "output_type": "display_data",
          "data": {
            "image/png": "[encoded data removed]",
            "text/plain": [
              "<Figure size 576x360 with 1 Axes>"
            ]
          },
          "metadata": {
            "needs_background": "light"
          }
        }
      ]
    },
    {
      "cell_type": "code",
      "metadata": {
        "colab": {
          "base_uri": "https://localhost:8080/"
        },
        "id": "JyiPLf61rq8Q",
        "outputId": "2f6e5e1e-9536-4751-fe09-4fb29667a519"
      },
      "source": [
        "# melakukan evaluasi model dengan validasi\n",
        "model2.evaluate(X_val,y_val)"
      ],
      "execution_count": 293,
      "outputs": [
        {
          "output_type": "stream",
          "text": [
            "36/36 [==============================] - 0s 1ms/step - loss: 0.5208 - accuracy: 0.8154\n"
          ],
          "name": "stdout"
        },
        {
          "output_type": "execute_result",
          "data": {
            "text/plain": [
              "[0.5207845568656921, 0.8154392242431641]"
            ]
          },
          "metadata": {},
          "execution_count": 293
        }
      ]
    },
    {
      "cell_type": "markdown",
      "metadata": {
        "id": "_fSShtv18QkK"
      },
      "source": [
        "# GridSearchCV"
      ]
    },
    {
      "cell_type": "code",
      "metadata": {
        "colab": {
          "base_uri": "https://localhost:8080/"
        },
        "id": "sehj9tmT8PuV",
        "outputId": "44763c08-3fd3-43d9-91ca-3294541ecb14"
      },
      "source": [
        "from keras.wrappers.scikit_learn import KerasClassifier\n",
        "from sklearn.model_selection import GridSearchCV\n",
        "from keras.models import Sequential\n",
        "from keras.layers import Dense\n",
        "from keras.callbacks import EarlyStopping\n",
        "from keras.callbacks import ModelCheckpoint\n",
        "# melakukan gridsearchcv model kerasclassifier\n",
        "\n",
        "def create_model(activation='relu',optimizer='adam',init_mode = 'normal'):\n",
        "  model = Sequential()\n",
        "  model.add(keras.layers.Dense(26, input_dim=(26),kernel_initializer=init_mode, activation=activation))\n",
        "  model.add(keras.layers.Dropout(0.2))\n",
        "  model.add(keras.layers.Dense(15,kernel_initializer=init_mode, activation=activation))\n",
        "  model.add(keras.layers.Dropout(0.2))\n",
        "  model.add(keras.layers.Dense(1,kernel_initializer=init_mode, activation='sigmoid'))\n",
        "\n",
        " # melakukan penggabungan model \n",
        "  model.compile(loss='binary_crossentropy', optimizer=optimizer, metrics=['accuracy'])\n",
        "  return model\n",
        "\n",
        "keras.backend.clear_session()\n",
        "np.random.seed(42)\n",
        "tf.random.set_seed(42)\n",
        "\n",
        "es = EarlyStopping(monitor='val_loss', mode='min', verbose=1, patience=50)\n",
        "mc = ModelCheckpoint('best_model.h5', monitor='val_accuracy', mode='max', verbose=1, save_best_only=True)\n",
        "  \n",
        "# model kerasclassifier\n",
        "model = KerasClassifier(build_fn=create_model, verbose=0)\n",
        "\n",
        "# membuat parameters\n",
        "init_mode = ['normal', 'glorot_normal']\n",
        "optimizer = ['Adam', 'Adamax']\n",
        "activation = ['relu', 'sigmoid']\n",
        "param_grid = dict(optimizer=optimizer, activation=activation, init_mode=init_mode)\n",
        "grid = GridSearchCV(estimator=model, param_grid=param_grid, n_jobs=-1, cv=3)\n",
        "grid_result = grid.fit(X_train, y_train, validation_data=(X_val, y_val), epochs=100, verbose=0, callbacks=[es, mc])\n",
        "\n",
        "# summarize results\n",
        "means = grid_result.cv_results_['mean_test_score']\n",
        "stds = grid_result.cv_results_['std_test_score']\n",
        "params = grid_result.cv_results_['params']\n",
        "for mean, stdev, param in zip(means, stds, params):\n",
        "    print(\"%f (%f) with: %r\" % (mean, stdev, param))"
      ],
      "execution_count": 314,
      "outputs": [
        {
          "output_type": "stream",
          "text": [
            "\n",
            "Epoch 00001: val_accuracy improved from -inf to 0.73469, saving model to best_model.h5\n",
            "\n",
            "Epoch 00002: val_accuracy improved from 0.73469 to 0.73913, saving model to best_model.h5\n",
            "\n",
            "Epoch 00003: val_accuracy improved from 0.73913 to 0.79059, saving model to best_model.h5\n",
            "\n",
            "Epoch 00004: val_accuracy improved from 0.79059 to 0.79769, saving model to best_model.h5\n",
            "\n",
            "Epoch 00005: val_accuracy improved from 0.79769 to 0.80390, saving model to best_model.h5\n",
            "\n",
            "Epoch 00006: val_accuracy improved from 0.80390 to 0.80834, saving model to best_model.h5\n",
            "\n",
            "Epoch 00007: val_accuracy did not improve from 0.80834\n",
            "\n",
            "Epoch 00008: val_accuracy improved from 0.80834 to 0.81100, saving model to best_model.h5\n",
            "\n",
            "Epoch 00009: val_accuracy did not improve from 0.81100\n",
            "\n",
            "Epoch 00010: val_accuracy did not improve from 0.81100\n",
            "\n",
            "Epoch 00011: val_accuracy did not improve from 0.81100\n",
            "\n",
            "Epoch 00012: val_accuracy did not improve from 0.81100\n",
            "\n",
            "Epoch 00013: val_accuracy did not improve from 0.81100\n",
            "\n",
            "Epoch 00014: val_accuracy did not improve from 0.81100\n",
            "\n",
            "Epoch 00015: val_accuracy did not improve from 0.81100\n",
            "\n",
            "Epoch 00016: val_accuracy did not improve from 0.81100\n",
            "\n",
            "Epoch 00017: val_accuracy did not improve from 0.81100\n",
            "\n",
            "Epoch 00018: val_accuracy did not improve from 0.81100\n",
            "\n",
            "Epoch 00019: val_accuracy did not improve from 0.81100\n",
            "\n",
            "Epoch 00020: val_accuracy did not improve from 0.81100\n",
            "\n",
            "Epoch 00021: val_accuracy improved from 0.81100 to 0.81189, saving model to best_model.h5\n",
            "\n",
            "Epoch 00022: val_accuracy did not improve from 0.81189\n",
            "\n",
            "Epoch 00023: val_accuracy did not improve from 0.81189\n",
            "\n",
            "Epoch 00024: val_accuracy improved from 0.81189 to 0.81366, saving model to best_model.h5\n",
            "\n",
            "Epoch 00025: val_accuracy did not improve from 0.81366\n",
            "\n",
            "Epoch 00026: val_accuracy did not improve from 0.81366\n",
            "\n",
            "Epoch 00027: val_accuracy did not improve from 0.81366\n",
            "\n",
            "Epoch 00028: val_accuracy did not improve from 0.81366\n",
            "\n",
            "Epoch 00029: val_accuracy did not improve from 0.81366\n",
            "\n",
            "Epoch 00030: val_accuracy did not improve from 0.81366\n",
            "\n",
            "Epoch 00031: val_accuracy did not improve from 0.81366\n",
            "\n",
            "Epoch 00032: val_accuracy did not improve from 0.81366\n",
            "\n",
            "Epoch 00033: val_accuracy did not improve from 0.81366\n",
            "\n",
            "Epoch 00034: val_accuracy did not improve from 0.81366\n",
            "\n",
            "Epoch 00035: val_accuracy did not improve from 0.81366\n",
            "\n",
            "Epoch 00036: val_accuracy did not improve from 0.81366\n",
            "\n",
            "Epoch 00037: val_accuracy did not improve from 0.81366\n",
            "\n",
            "Epoch 00038: val_accuracy did not improve from 0.81366\n",
            "\n",
            "Epoch 00039: val_accuracy did not improve from 0.81366\n",
            "\n",
            "Epoch 00040: val_accuracy did not improve from 0.81366\n",
            "\n",
            "Epoch 00041: val_accuracy did not improve from 0.81366\n",
            "\n",
            "Epoch 00042: val_accuracy did not improve from 0.81366\n",
            "\n",
            "Epoch 00043: val_accuracy did not improve from 0.81366\n",
            "\n",
            "Epoch 00044: val_accuracy did not improve from 0.81366\n",
            "\n",
            "Epoch 00045: val_accuracy did not improve from 0.81366\n",
            "\n",
            "Epoch 00046: val_accuracy did not improve from 0.81366\n",
            "\n",
            "Epoch 00047: val_accuracy did not improve from 0.81366\n",
            "\n",
            "Epoch 00048: val_accuracy did not improve from 0.81366\n",
            "\n",
            "Epoch 00049: val_accuracy did not improve from 0.81366\n",
            "\n",
            "Epoch 00050: val_accuracy did not improve from 0.81366\n",
            "\n",
            "Epoch 00051: val_accuracy did not improve from 0.81366\n",
            "\n",
            "Epoch 00052: val_accuracy did not improve from 0.81366\n",
            "\n",
            "Epoch 00053: val_accuracy did not improve from 0.81366\n",
            "\n",
            "Epoch 00054: val_accuracy did not improve from 0.81366\n",
            "\n",
            "Epoch 00055: val_accuracy did not improve from 0.81366\n",
            "\n",
            "Epoch 00056: val_accuracy did not improve from 0.81366\n",
            "\n",
            "Epoch 00057: val_accuracy did not improve from 0.81366\n",
            "\n",
            "Epoch 00058: val_accuracy did not improve from 0.81366\n",
            "\n",
            "Epoch 00059: val_accuracy did not improve from 0.81366\n",
            "\n",
            "Epoch 00060: val_accuracy did not improve from 0.81366\n",
            "\n",
            "Epoch 00061: val_accuracy did not improve from 0.81366\n",
            "\n",
            "Epoch 00062: val_accuracy did not improve from 0.81366\n",
            "\n",
            "Epoch 00063: val_accuracy did not improve from 0.81366\n",
            "\n",
            "Epoch 00064: val_accuracy did not improve from 0.81366\n",
            "\n",
            "Epoch 00065: val_accuracy did not improve from 0.81366\n",
            "\n",
            "Epoch 00066: val_accuracy did not improve from 0.81366\n",
            "\n",
            "Epoch 00067: val_accuracy did not improve from 0.81366\n",
            "\n",
            "Epoch 00068: val_accuracy did not improve from 0.81366\n",
            "\n",
            "Epoch 00069: val_accuracy improved from 0.81366 to 0.81455, saving model to best_model.h5\n",
            "\n",
            "Epoch 00070: val_accuracy did not improve from 0.81455\n",
            "\n",
            "Epoch 00071: val_accuracy did not improve from 0.81455\n",
            "\n",
            "Epoch 00072: val_accuracy did not improve from 0.81455\n",
            "\n",
            "Epoch 00073: val_accuracy did not improve from 0.81455\n",
            "\n",
            "Epoch 00074: val_accuracy did not improve from 0.81455\n",
            "\n",
            "Epoch 00075: val_accuracy did not improve from 0.81455\n",
            "\n",
            "Epoch 00076: val_accuracy did not improve from 0.81455\n",
            "\n",
            "Epoch 00077: val_accuracy did not improve from 0.81455\n",
            "\n",
            "Epoch 00078: val_accuracy did not improve from 0.81455\n",
            "\n",
            "Epoch 00079: val_accuracy did not improve from 0.81455\n",
            "\n",
            "Epoch 00080: val_accuracy did not improve from 0.81455\n",
            "\n",
            "Epoch 00081: val_accuracy did not improve from 0.81455\n",
            "\n",
            "Epoch 00082: val_accuracy did not improve from 0.81455\n",
            "\n",
            "Epoch 00083: val_accuracy did not improve from 0.81455\n",
            "\n",
            "Epoch 00084: val_accuracy did not improve from 0.81455\n",
            "\n",
            "Epoch 00085: val_accuracy did not improve from 0.81455\n",
            "Epoch 00085: early stopping\n",
            "0.799423 (0.001961) with: {'activation': 'relu', 'init_mode': 'normal', 'optimizer': 'Adam'}\n",
            "0.799424 (0.004837) with: {'activation': 'relu', 'init_mode': 'normal', 'optimizer': 'Adamax'}\n",
            "0.792767 (0.000769) with: {'activation': 'relu', 'init_mode': 'glorot_normal', 'optimizer': 'Adam'}\n",
            "0.802974 (0.006559) with: {'activation': 'relu', 'init_mode': 'glorot_normal', 'optimizer': 'Adamax'}\n",
            "0.800089 (0.004356) with: {'activation': 'sigmoid', 'init_mode': 'normal', 'optimizer': 'Adam'}\n",
            "0.796984 (0.003741) with: {'activation': 'sigmoid', 'init_mode': 'normal', 'optimizer': 'Adamax'}\n",
            "nan (nan) with: {'activation': 'sigmoid', 'init_mode': 'glorot_normal', 'optimizer': 'Adam'}\n",
            "nan (nan) with: {'activation': 'sigmoid', 'init_mode': 'glorot_normal', 'optimizer': 'Adamax'}\n"
          ],
          "name": "stdout"
        }
      ]
    },
    {
      "cell_type": "code",
      "metadata": {
        "colab": {
          "base_uri": "https://localhost:8080/"
        },
        "id": "qHkBBCj_UE7_",
        "outputId": "d4ed1ec0-9333-4614-dcf2-d4461d9a263d"
      },
      "source": [
        "print(\"Best params:\\n{}\\n\".format(grid_result.best_params_))"
      ],
      "execution_count": 315,
      "outputs": [
        {
          "output_type": "stream",
          "text": [
            "Best params:\n",
            "{'activation': 'relu', 'init_mode': 'glorot_normal', 'optimizer': 'Adamax'}\n",
            "\n"
          ],
          "name": "stdout"
        }
      ]
    },
    {
      "cell_type": "code",
      "metadata": {
        "colab": {
          "base_uri": "https://localhost:8080/"
        },
        "id": "KwobV0i5f3HO",
        "outputId": "846199be-da65-44af-b675-609cfe276b21"
      },
      "source": [
        "# load save model\n",
        "saved_model = keras.models.load_model('best_model.h5')\n",
        "# evaluate model\n",
        "train_acc = saved_model.evaluate(X_train, y_train)\n",
        "test_acc = saved_model.evaluate(X_val, y_val)\n",
        "print('Train: %.3f, Test: %.3f' % (train_acc[1], test_acc[1]))"
      ],
      "execution_count": 316,
      "outputs": [
        {
          "output_type": "stream",
          "text": [
            "141/141 [==============================] - 0s 1ms/step - loss: 0.4023 - accuracy: 0.8087\n",
            "36/36 [==============================] - 0s 2ms/step - loss: 0.4174 - accuracy: 0.8146\n",
            "Train: 0.809, Test: 0.815\n"
          ],
          "name": "stdout"
        }
      ]
    },
    {
      "cell_type": "code",
      "metadata": {
        "colab": {
          "base_uri": "https://localhost:8080/"
        },
        "id": "yK3jPZ48yb3C",
        "outputId": "2a23fa13-42a9-4040-c74c-33cda60a9390"
      },
      "source": [
        "# model summary\n",
        "saved_model.summary()"
      ],
      "execution_count": 317,
      "outputs": [
        {
          "output_type": "stream",
          "text": [
            "Model: \"sequential\"\n",
            "_________________________________________________________________\n",
            "Layer (type)                 Output Shape              Param #   \n",
            "=================================================================\n",
            "dense (Dense)                (None, 26)                702       \n",
            "_________________________________________________________________\n",
            "dropout (Dropout)            (None, 26)                0         \n",
            "_________________________________________________________________\n",
            "dense_1 (Dense)              (None, 15)                405       \n",
            "_________________________________________________________________\n",
            "dropout_1 (Dropout)          (None, 15)                0         \n",
            "_________________________________________________________________\n",
            "dense_2 (Dense)              (None, 1)                 16        \n",
            "=================================================================\n",
            "Total params: 1,123\n",
            "Trainable params: 1,123\n",
            "Non-trainable params: 0\n",
            "_________________________________________________________________\n"
          ],
          "name": "stdout"
        }
      ]
    },
    {
      "cell_type": "code",
      "metadata": {
        "colab": {
          "base_uri": "https://localhost:8080/"
        },
        "id": "9gtYP5nszMkV",
        "outputId": "dbffef8d-e8f9-4738-c7c2-276030c911b8"
      },
      "source": [
        "# melakukan fit dengan saved model\n",
        "history = saved_model.fit(X_train, y_train, epochs=100,validation_data=(X_val, y_val),verbose=0, callbacks=[es])"
      ],
      "execution_count": 319,
      "outputs": [
        {
          "output_type": "stream",
          "text": [
            "Epoch 00071: early stopping\n"
          ],
          "name": "stdout"
        }
      ]
    },
    {
      "cell_type": "code",
      "metadata": {
        "colab": {
          "base_uri": "https://localhost:8080/",
          "height": 324
        },
        "id": "MgO1DPLs71kN",
        "outputId": "67aa1fdf-a001-47b4-a8be-84ccd22cf5b8"
      },
      "source": [
        "# menampilkan history model sequential improvement\n",
        "import pandas as pd\n",
        "\n",
        "pd.DataFrame(history.history).plot(figsize=(8, 5))\n",
        "plt.grid(True)\n",
        "plt.gca().set_ylim(0, 1)\n",
        "plt.show()"
      ],
      "execution_count": 332,
      "outputs": [
        {
          "output_type": "display_data",
          "data": {
            "image/png": "[encoded data removed]",
            "text/plain": [
              "<Figure size 576x360 with 1 Axes>"
            ]
          },
          "metadata": {
            "needs_background": "light"
          }
        }
      ]
    },
    {
      "cell_type": "code",
      "metadata": {
        "colab": {
          "base_uri": "https://localhost:8080/",
          "height": 360
        },
        "id": "jfE9At1WjB9W",
        "outputId": "6dcb99ad-f1c8-4353-9c65-cc8c77f033cf"
      },
      "source": [
        "# plot roc auc sequential before after\n",
        "from sklearn.metrics import roc_curve,auc \n",
        "\n",
        "plt.figure(figsize=(7, 5))\n",
        "plt.axis([0, 1, 0, 1])\n",
        "plt.xlabel('False Positive Rate (Fall-Out)', fontsize=16) \n",
        "plt.ylabel('True Positive Rate (Recall)', fontsize=16)\n",
        "plt.grid(True)\n",
        "plt.plot([0, 1], [0, 1], 'k--')\n",
        "labels=['Model Sequential','Model Sequential Improvement']\n",
        "for idx, modelt in enumerate([model1,saved_model]):\n",
        "  y_scores = modelt.predict(X_test)\n",
        "  fpr, tpr, thresholds = roc_curve(y_test, y_scores)\n",
        "  roc_auc = auc(fpr, tpr)\n",
        "  plt.plot(fpr, tpr, linewidth=2,label=labels[idx] + ' ROC curve (area = %0.2f)' % roc_auc)\n",
        "plt.legend(loc=\"lower right\")"
      ],
      "execution_count": 333,
      "outputs": [
        {
          "output_type": "execute_result",
          "data": {
            "text/plain": [
              "<matplotlib.legend.Legend at 0x7f3f74089e10>"
            ]
          },
          "metadata": {},
          "execution_count": 333
        },
        {
          "output_type": "display_data",
          "data": {
            "image/png": "[encoded data removed]",
            "text/plain": [
              "<Figure size 504x360 with 1 Axes>"
            ]
          },
          "metadata": {
            "needs_background": "light"
          }
        }
      ]
    },
    {
      "cell_type": "code",
      "metadata": {
        "id": "TWQXTtdr2_EJ"
      },
      "source": [
        "# model prediction\n",
        "y_pred1 = model1.predict(X_test)\n",
        "y_pred1 = (y_pred1 > 0.5)\n",
        "y_pred1 = [1 if x == True else 0 for x in y_pred1]\n",
        "\n",
        "y_pred = saved_model.predict(X_test)\n",
        "y_pred = (y_pred > 0.5)\n",
        "y_pred = [1 if x == True else 0 for x in y_pred]"
      ],
      "execution_count": 326,
      "outputs": []
    },
    {
      "cell_type": "code",
      "metadata": {
        "colab": {
          "base_uri": "https://localhost:8080/"
        },
        "id": "f_krGHSX3D8P",
        "outputId": "766656dc-7d78-4fb5-94d6-89edc0064cc8"
      },
      "source": [
        "# menampilkan prediksi 10 teratas \n",
        "y_pred1[:10]\n",
        "y_pred[:10]"
      ],
      "execution_count": 327,
      "outputs": [
        {
          "output_type": "execute_result",
          "data": {
            "text/plain": [
              "[0, 1, 0, 0, 0, 1, 0, 0, 0, 0]"
            ]
          },
          "metadata": {},
          "execution_count": 327
        }
      ]
    },
    {
      "cell_type": "code",
      "metadata": {
        "colab": {
          "base_uri": "https://localhost:8080/",
          "height": 981
        },
        "id": "OAUnQUHgKwQE",
        "outputId": "c86c4b59-e655-4c41-d852-ea36e64994ce"
      },
      "source": [
        "from sklearn.metrics import confusion_matrix, accuracy_score, classification_report\n",
        "# menampilkan classification report dan confussion matrix\n",
        "print(\"Classification Report:\\n\\n\", classification_report(y_test, y_pred1))\n",
        "\n",
        "cm=confusion_matrix(y_test, y_pred1)\n",
        "\n",
        "sns.heatmap(cm, annot=True,fmt='g',cmap=\"Blues\")\n",
        "plt.title('Confusion matrix Randoom forest')\n",
        "plt.xlabel('Predicted')\n",
        "plt.ylabel('True Value')\n",
        "plt.show()\n",
        "print('________________________________________________________________\\n')\n",
        "print(\"Classification Report:\\n\\n\", classification_report(y_test, y_pred))\n",
        "\n",
        "cm=confusion_matrix(y_test, y_pred)\n",
        "\n",
        "sns.heatmap(cm, annot=True,fmt='g',cmap=\"Blues\")\n",
        "plt.title('Confusion matrix Randoom forest')\n",
        "plt.xlabel('Predicted')\n",
        "plt.ylabel('True Value')\n",
        "plt.show()"
      ],
      "execution_count": 329,
      "outputs": [
        {
          "output_type": "stream",
          "text": [
            "Classification Report:\n",
            "\n",
            "               precision    recall  f1-score   support\n",
            "\n",
            "           0       0.82      0.91      0.86      1035\n",
            "           1       0.64      0.46      0.53       374\n",
            "\n",
            "    accuracy                           0.79      1409\n",
            "   macro avg       0.73      0.68      0.70      1409\n",
            "weighted avg       0.77      0.79      0.78      1409\n",
            "\n"
          ],
          "name": "stdout"
        },
        {
          "output_type": "display_data",
          "data": {
            "image/png": "[encoded data removed]",
            "text/plain": [
              "<Figure size 432x288 with 2 Axes>"
            ]
          },
          "metadata": {
            "needs_background": "light"
          }
        },
        {
          "output_type": "stream",
          "text": [
            "________________________________________________________________\n",
            "\n",
            "Classification Report:\n",
            "\n",
            "               precision    recall  f1-score   support\n",
            "\n",
            "           0       0.84      0.90      0.87      1035\n",
            "           1       0.64      0.51      0.57       374\n",
            "\n",
            "    accuracy                           0.79      1409\n",
            "   macro avg       0.74      0.70      0.72      1409\n",
            "weighted avg       0.78      0.79      0.79      1409\n",
            "\n"
          ],
          "name": "stdout"
        },
        {
          "output_type": "display_data",
          "data": {
            "image/png": "[encoded data removed]",
            "text/plain": [
              "<Figure size 432x288 with 2 Axes>"
            ]
          },
          "metadata": {
            "needs_background": "light"
          }
        }
      ]
    },
    {
      "cell_type": "markdown",
      "metadata": {
        "id": "Mz3eoIeLpUxi"
      },
      "source": [
        "#Model Inference"
      ]
    },
    {
      "cell_type": "code",
      "metadata": {
        "id": "Qqm5Ig4CpWxN"
      },
      "source": [
        "# membuat dictionary data untuk percobaan model\n",
        "data = {'gender':1, 'SeniorCitizen':1, 'Partner':1, 'Dependents':1, 'tenure':3,\n",
        "                     'PhoneService':1, 'MultipleLines':0, 'OnlineSecurity':1, 'OnlineBackup':1,\n",
        "                     'DeviceProtection':1, 'TechSupport':1, 'StreamingTV':0, 'StreamingMovies':1,\n",
        "                     'PaperlessBilling':0, 'MonthlyCharges':33, 'TotalCharges':10,'InternetService_DSL':0, 'InternetService_Fiber optic':1,\n",
        "                     'InternetService_No':0, 'Contract_Month-to-month':0, 'Contract_One year':0,\n",
        "                     'Contract_Two year':1, 'PaymentMethod_Bank transfer (automatic)':1,\n",
        "                     'PaymentMethod_Credit card (automatic)':0,'PaymentMethod_Electronic check':0, 'PaymentMethod_Mailed check':0} "
      ],
      "execution_count": 334,
      "outputs": []
    },
    {
      "cell_type": "code",
      "metadata": {
        "colab": {
          "base_uri": "https://localhost:8080/",
          "height": 134
        },
        "id": "dS2XX43QqkUx",
        "outputId": "0d2a41b1-2da3-4974-eba2-0942c7f35365"
      },
      "source": [
        "# membuat dictionary menjadi dataframe\n",
        "df0 = pd.DataFrame([data])  \n",
        "df0"
      ],
      "execution_count": 335,
      "outputs": [
        {
          "output_type": "execute_result",
          "data": {
            "text/html": [
              "<div>\n",
              "<style scoped>\n",
              "    .dataframe tbody tr th:only-of-type {\n",
              "        vertical-align: middle;\n",
              "    }\n",
              "\n",
              "    .dataframe tbody tr th {\n",
              "        vertical-align: top;\n",
              "    }\n",
              "\n",
              "    .dataframe thead th {\n",
              "        text-align: right;\n",
              "    }\n",
              "</style>\n",
              "<table border=\"1\" class=\"dataframe\">\n",
              "  <thead>\n",
              "    <tr style=\"text-align: right;\">\n",
              "      <th></th>\n",
              "      <th>gender</th>\n",
              "      <th>SeniorCitizen</th>\n",
              "      <th>Partner</th>\n",
              "      <th>Dependents</th>\n",
              "      <th>tenure</th>\n",
              "      <th>PhoneService</th>\n",
              "      <th>MultipleLines</th>\n",
              "      <th>OnlineSecurity</th>\n",
              "      <th>OnlineBackup</th>\n",
              "      <th>DeviceProtection</th>\n",
              "      <th>TechSupport</th>\n",
              "      <th>StreamingTV</th>\n",
              "      <th>StreamingMovies</th>\n",
              "      <th>PaperlessBilling</th>\n",
              "      <th>MonthlyCharges</th>\n",
              "      <th>TotalCharges</th>\n",
              "      <th>InternetService_DSL</th>\n",
              "      <th>InternetService_Fiber optic</th>\n",
              "      <th>InternetService_No</th>\n",
              "      <th>Contract_Month-to-month</th>\n",
              "      <th>Contract_One year</th>\n",
              "      <th>Contract_Two year</th>\n",
              "      <th>PaymentMethod_Bank transfer (automatic)</th>\n",
              "      <th>PaymentMethod_Credit card (automatic)</th>\n",
              "      <th>PaymentMethod_Electronic check</th>\n",
              "      <th>PaymentMethod_Mailed check</th>\n",
              "    </tr>\n",
              "  </thead>\n",
              "  <tbody>\n",
              "    <tr>\n",
              "      <th>0</th>\n",
              "      <td>1</td>\n",
              "      <td>1</td>\n",
              "      <td>1</td>\n",
              "      <td>1</td>\n",
              "      <td>3</td>\n",
              "      <td>1</td>\n",
              "      <td>0</td>\n",
              "      <td>1</td>\n",
              "      <td>1</td>\n",
              "      <td>1</td>\n",
              "      <td>1</td>\n",
              "      <td>0</td>\n",
              "      <td>1</td>\n",
              "      <td>0</td>\n",
              "      <td>33</td>\n",
              "      <td>10</td>\n",
              "      <td>0</td>\n",
              "      <td>1</td>\n",
              "      <td>0</td>\n",
              "      <td>0</td>\n",
              "      <td>0</td>\n",
              "      <td>1</td>\n",
              "      <td>1</td>\n",
              "      <td>0</td>\n",
              "      <td>0</td>\n",
              "      <td>0</td>\n",
              "    </tr>\n",
              "  </tbody>\n",
              "</table>\n",
              "</div>"
            ],
            "text/plain": [
              "   gender  ...  PaymentMethod_Mailed check\n",
              "0       1  ...                           0\n",
              "\n",
              "[1 rows x 26 columns]"
            ]
          },
          "metadata": {},
          "execution_count": 335
        }
      ]
    },
    {
      "cell_type": "code",
      "metadata": {
        "id": "9Yd0DCZI113q"
      },
      "source": [
        "# loading model yang telah di save\n",
        "model_try=keras.models.load_model(\"best_model.h5\")"
      ],
      "execution_count": 336,
      "outputs": []
    },
    {
      "cell_type": "code",
      "metadata": {
        "colab": {
          "base_uri": "https://localhost:8080/"
        },
        "id": "-M5JUlfJ2K4H",
        "outputId": "ee2f969f-93cb-4669-f9b8-ec61f8e81608"
      },
      "source": [
        "# menampilkan summary model yang telah diloading\n",
        "model_try.summary()"
      ],
      "execution_count": 337,
      "outputs": [
        {
          "output_type": "stream",
          "text": [
            "Model: \"sequential\"\n",
            "_________________________________________________________________\n",
            "Layer (type)                 Output Shape              Param #   \n",
            "=================================================================\n",
            "dense (Dense)                (None, 26)                702       \n",
            "_________________________________________________________________\n",
            "dropout (Dropout)            (None, 26)                0         \n",
            "_________________________________________________________________\n",
            "dense_1 (Dense)              (None, 15)                405       \n",
            "_________________________________________________________________\n",
            "dropout_1 (Dropout)          (None, 15)                0         \n",
            "_________________________________________________________________\n",
            "dense_2 (Dense)              (None, 1)                 16        \n",
            "=================================================================\n",
            "Total params: 1,123\n",
            "Trainable params: 1,123\n",
            "Non-trainable params: 0\n",
            "_________________________________________________________________\n"
          ],
          "name": "stdout"
        }
      ]
    },
    {
      "cell_type": "code",
      "metadata": {
        "id": "vTLHNt4_wU2K"
      },
      "source": [
        "# menyiapkan prediksi\n",
        "y_pred = model_try.predict(df0)\n",
        "y_pred = (y_pred > 0.5)\n",
        "y_pred = [1 if x == True else 0 for x in y_pred]"
      ],
      "execution_count": 338,
      "outputs": []
    },
    {
      "cell_type": "code",
      "metadata": {
        "colab": {
          "base_uri": "https://localhost:8080/"
        },
        "id": "OxIVDRSQzw3i",
        "outputId": "040f4afc-09e5-40f3-ec7f-849abb5fd881"
      },
      "source": [
        "# prediksi data baru\n",
        "y_pred "
      ],
      "execution_count": 339,
      "outputs": [
        {
          "output_type": "execute_result",
          "data": {
            "text/plain": [
              "[1]"
            ]
          },
          "metadata": {},
          "execution_count": 339
        }
      ]
    },
    {
      "cell_type": "markdown",
      "metadata": {
        "id": "QSUiZ7xPZxP3"
      },
      "source": [
        "> EDA Analysis :\n",
        "1. Tenure, Monthly dan Total Charge menunjukan tidak adanya oulier.\n",
        "2. Tenure menunjukan lebih banyak no dibandingkan dnegan yes berdasarkan churn dapat dilihat pada median yan mendekati 40, Total Charge pun demikian memiliki median yang tinggi pada churn no dibandingkan dengan churn yes sedangkadan Monthly Charge dengan churn yes memiliki nilai median yang tinggi sehingga kecenderungan churn yes berdasarkan monthly charge itu tinggi\n",
        "3. Kdeplot menunjukan bahwa tenure memiliki skewed right pada Yes dan symmetric pada No, untuk Total Charge memiliki skewed right pada Yes dan No, Monthly Charge miemiliki symmetric pada Yes dan bimodal pada No.\n",
        "4. pada Churn No kita dapat melihat value tertinggi pada feature internet service untuk male female pada DSL, pada payment method untuk male pada Bank Transfer untuk female pada Mailed Check, sedangkan pada Contract male female pada month to month.\n",
        "5. pada Churn Yes kita dapat melihat value tertinggi pada feature internet service untuk male female pada Fiber Optic, pada payment method untuk male female pada Electronic Check, sedangkan pada Contract male female pada month to month.\n",
        "6. Heatmap numerikal menunjukan adanya tinggi total dan monthly charge dengan churn sedangkan bila dilakungan dummy data maka korelasi yang kuat terhadap churn adalah jenis contract month to month, internet service dengan fiber optic, dan payment mehtod menggunakan electronic check.\n",
        "\n",
        "\n",
        "\n"
      ]
    },
    {
      "cell_type": "markdown",
      "metadata": {
        "id": "jWj8Hf4TeSe8"
      },
      "source": [
        "Model Analysis:\n",
        "1. Moden sequential dengan epoch 100 dan 1 layer menunjukan nilai loss: 0.4367 dan accuracy: 0.8092 yang merupakan hasil dari validasi.\n",
        "2. Model Functional API dengan epoch 100 dan 1 layer menunjukan nilai loss: 0.6228 dan accuracy: 0.7719 yang merupakan hasil dari validasi.\n",
        "3. Model Functional API dengan epoch 100 dan 1 layer menunjukan nilai loss: 0.4177 dan accuracy: 0.8208 yang merupakan hasil dari validasi.\n",
        "4. hasil gridsearchcv menunjukan bahwa best parameter yang dapat digunakan dalam model adalah Best params: 'activation': 'relu', 'init_mode': 'glorot_normal', 'optimizer': 'Adam'\n",
        "5. confussion matrix menunjukan:\n",
        "\n",
        "> TP = pelanggan tidak Churn dan diprediksi tidak Churn.\n",
        "\n",
        "> TN = pelanggan Churn dan diprediksi Churn.\n",
        "\n",
        "> FP = pelanggan Churn dan diprediksi tidak Churn.\n",
        "\n",
        "> FN = pelanggan tidak Churn dan diprediksi Churn."
      ]
    }
  ]
}